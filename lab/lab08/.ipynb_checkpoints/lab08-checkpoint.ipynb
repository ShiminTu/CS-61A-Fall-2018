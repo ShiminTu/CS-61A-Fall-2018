{
 "cells": [
  {
   "cell_type": "code",
   "execution_count": 1,
   "id": "c09b479a",
   "metadata": {
    "ExecuteTime": {
     "end_time": "2023-04-06T03:29:10.969445Z",
     "start_time": "2023-04-06T03:29:10.947067Z"
    }
   },
   "outputs": [],
   "source": [
    "from lab08 import *\n",
    "import doctest"
   ]
  },
  {
   "cell_type": "markdown",
   "id": "6a978a6a",
   "metadata": {},
   "source": [
    "Q1"
   ]
  },
  {
   "cell_type": "code",
   "execution_count": 28,
   "id": "8175351f",
   "metadata": {
    "ExecuteTime": {
     "end_time": "2023-04-06T03:50:14.014387Z",
     "start_time": "2023-04-06T03:50:14.008992Z"
    }
   },
   "outputs": [],
   "source": [
    "def deep_len(lnk):\n",
    "    \"\"\" Returns the deep length of a possibly deep linked list.\n",
    "\n",
    "    >>> deep_len(Link(1, Link(2, Link(3))))\n",
    "    3\n",
    "    >>> deep_len(Link(Link(1, Link(2)), Link(3, Link(4))))\n",
    "    4\n",
    "    >>> levels = Link(Link(Link(1, Link(2)), \\\n",
    "            Link(3)), Link(Link(4), Link(5)))\n",
    "    >>> print(levels)\n",
    "    <<<1 2> 3> <4> 5>\n",
    "    >>> deep_len(levels)\n",
    "    5\n",
    "    \"\"\"\n",
    "    \"*** YOUR CODE HERE ***\"\n",
    "    count = 0\n",
    "    if lnk == Link.empty:\n",
    "        return 0\n",
    "    if isinstance(lnk.first,Link):\n",
    "        count += deep_len(lnk.first)\n",
    "    else:\n",
    "        count += 1\n",
    "    count += deep_len(lnk.rest)\n",
    "    return count"
   ]
  },
  {
   "cell_type": "code",
   "execution_count": 29,
   "id": "a338d07d",
   "metadata": {
    "ExecuteTime": {
     "end_time": "2023-04-06T03:50:23.866909Z",
     "start_time": "2023-04-06T03:50:23.840869Z"
    }
   },
   "outputs": [],
   "source": [
    "doctest.run_docstring_examples(deep_len,globals())"
   ]
  },
  {
   "cell_type": "markdown",
   "id": "382022a8",
   "metadata": {},
   "source": [
    "Q3"
   ]
  },
  {
   "cell_type": "code",
   "execution_count": 56,
   "id": "821f211b",
   "metadata": {
    "ExecuteTime": {
     "end_time": "2023-04-06T04:05:59.120426Z",
     "start_time": "2023-04-06T04:05:59.115495Z"
    }
   },
   "outputs": [],
   "source": [
    "def insert_into_all(item, nested_list):\n",
    "    \"\"\"Assuming that nested_list is a list of lists, return a new list\n",
    "    consisting of all the lists in nested_list, but with item added to\n",
    "    the front of each.\n",
    "\n",
    "    >>> nl = [[], [1, 2], [3]]\n",
    "    >>> insert_into_all(0, nl)\n",
    "    [[0], [0, 1, 2], [0, 3]]\n",
    "    \"\"\"\n",
    "    \"*** YOUR CODE HERE ***\"\n",
    "    new_lst = []\n",
    "    for lst in nested_list:\n",
    "        lst1 = lst.copy()\n",
    "        lst1.insert(0,item)\n",
    "        new_lst.append(lst1)\n",
    "    return new_lst"
   ]
  },
  {
   "cell_type": "code",
   "execution_count": 79,
   "id": "c85f479d",
   "metadata": {
    "ExecuteTime": {
     "end_time": "2023-04-06T04:29:38.575144Z",
     "start_time": "2023-04-06T04:29:38.569370Z"
    }
   },
   "outputs": [],
   "source": [
    "def subseqs(s):\n",
    "    \"\"\"Assuming that S is a list, return a nested list of all subsequences\n",
    "    of S (a list of lists). The subsequences can appear in any order.\n",
    "\n",
    "    >>> seqs = subseqs([1, 2, 3])\n",
    "    >>> sorted(seqs)\n",
    "    [[], [1], [1, 2], [1, 2, 3], [1, 3], [2], [2, 3], [3]]\n",
    "    >>> subseqs([])\n",
    "    [[]]\n",
    "    \"\"\"\n",
    "    \"*** YOUR CODE HERE ***\"\n",
    "    S = []\n",
    "    if len(s) == 0:\n",
    "        S.extend([[]])\n",
    "    if len(s) >= 1:\n",
    "        lsts = subseqs(s[1:])\n",
    "        S.extend(insert_into_all(s[0],lsts))\n",
    "        S.extend(lsts)\n",
    "    return S"
   ]
  },
  {
   "cell_type": "code",
   "execution_count": 84,
   "id": "237aba36",
   "metadata": {
    "ExecuteTime": {
     "end_time": "2023-04-06T04:30:05.011054Z",
     "start_time": "2023-04-06T04:30:05.001930Z"
    }
   },
   "outputs": [],
   "source": [
    "doctest.run_docstring_examples(subseqs,globals())"
   ]
  },
  {
   "cell_type": "markdown",
   "id": "34c0d1a5",
   "metadata": {},
   "source": [
    "Q4"
   ]
  },
  {
   "cell_type": "code",
   "execution_count": 91,
   "id": "4fca851a",
   "metadata": {
    "ExecuteTime": {
     "end_time": "2023-04-06T06:12:42.017575Z",
     "start_time": "2023-04-06T06:12:42.011346Z"
    }
   },
   "outputs": [],
   "source": [
    "def inc_subseqs(s):\n",
    "    \"\"\"Assuming that S is a list, return a nested list of all subsequences\n",
    "    of S (a list of lists) for which the elements of the subsequence\n",
    "    are strictly nondecreasing. The subsequences can appear in any order.\n",
    "\n",
    "    >>> seqs = inc_subseqs([1, 3, 2])\n",
    "    >>> sorted(seqs)\n",
    "    [[], [1], [1, 2], [1, 3], [2], [3]]\n",
    "    >>> inc_subseqs([])\n",
    "    [[]]\n",
    "    >>> seqs2 = inc_subseqs([1, 1, 2])\n",
    "    >>> sorted(seqs2)\n",
    "    [[], [1], [1], [1, 1], [1, 1, 2], [1, 2], [1, 2], [2]]\n",
    "    \"\"\"\n",
    "    def subseq_helper(s, prev):\n",
    "        if not s:\n",
    "            return [[],[prev]]\n",
    "        elif s[0] < prev:\n",
    "            return [[],[prev]]\n",
    "        else:\n",
    "            a = subseq_helper(s[1:],s[0])\n",
    "#             b = \n",
    "            return insert_into_all(prev, a) + a\n",
    "    return subseq_helper(s[1:], s[0])"
   ]
  },
  {
   "cell_type": "code",
   "execution_count": 93,
   "id": "79aac21b",
   "metadata": {
    "ExecuteTime": {
     "end_time": "2023-04-06T06:12:55.722513Z",
     "start_time": "2023-04-06T06:12:55.718709Z"
    }
   },
   "outputs": [],
   "source": [
    "seqs = inc_subseqs([1, 3, 2])"
   ]
  },
  {
   "cell_type": "code",
   "execution_count": null,
   "id": "e4ab7474",
   "metadata": {},
   "outputs": [],
   "source": [
    "seg"
   ]
  }
 ],
 "metadata": {
  "kernelspec": {
   "display_name": "Python 3 (ipykernel)",
   "language": "python",
   "name": "python3"
  },
  "language_info": {
   "codemirror_mode": {
    "name": "ipython",
    "version": 3
   },
   "file_extension": ".py",
   "mimetype": "text/x-python",
   "name": "python",
   "nbconvert_exporter": "python",
   "pygments_lexer": "ipython3",
   "version": "3.8.12"
  },
  "toc": {
   "base_numbering": 1,
   "nav_menu": {},
   "number_sections": true,
   "sideBar": true,
   "skip_h1_title": false,
   "title_cell": "Table of Contents",
   "title_sidebar": "Contents",
   "toc_cell": false,
   "toc_position": {},
   "toc_section_display": true,
   "toc_window_display": false
  }
 },
 "nbformat": 4,
 "nbformat_minor": 5
}
