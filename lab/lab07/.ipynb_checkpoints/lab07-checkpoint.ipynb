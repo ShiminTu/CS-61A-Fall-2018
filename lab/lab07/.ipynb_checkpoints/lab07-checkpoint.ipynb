{
 "cells": [
  {
   "cell_type": "code",
   "execution_count": 26,
   "id": "aa577e5b",
   "metadata": {
    "ExecuteTime": {
     "end_time": "2023-04-05T05:58:43.047526Z",
     "start_time": "2023-04-05T05:58:43.037761Z"
    }
   },
   "outputs": [],
   "source": [
    "from lab07 import *"
   ]
  },
  {
   "cell_type": "code",
   "execution_count": 31,
   "id": "d6afaff1",
   "metadata": {
    "ExecuteTime": {
     "end_time": "2023-04-05T06:05:42.928704Z",
     "start_time": "2023-04-05T06:05:42.925191Z"
    }
   },
   "outputs": [],
   "source": [
    "s = Link(2, Link(3, Link(4)))"
   ]
  },
  {
   "cell_type": "code",
   "execution_count": 32,
   "id": "3bbbc43d",
   "metadata": {
    "ExecuteTime": {
     "end_time": "2023-04-05T06:05:47.793090Z",
     "start_time": "2023-04-05T06:05:47.788243Z"
    }
   },
   "outputs": [
    {
     "data": {
      "text/plain": [
       "2"
      ]
     },
     "execution_count": 32,
     "metadata": {},
     "output_type": "execute_result"
    }
   ],
   "source": [
    "s.first"
   ]
  },
  {
   "cell_type": "code",
   "execution_count": null,
   "id": "8628dec9",
   "metadata": {},
   "outputs": [],
   "source": []
  },
  {
   "cell_type": "markdown",
   "id": "d0f65c24",
   "metadata": {},
   "source": [
    "Q1"
   ]
  },
  {
   "cell_type": "code",
   "execution_count": 21,
   "id": "cd83ca72",
   "metadata": {
    "ExecuteTime": {
     "end_time": "2023-04-05T05:54:48.325395Z",
     "start_time": "2023-04-05T05:54:48.321200Z"
    }
   },
   "outputs": [],
   "source": [
    "class A:\n",
    "    y = 1\n",
    "    def __init__(self, y):\n",
    "        self.y = y\n",
    "    def f(self, x):\n",
    "        self.y += x"
   ]
  },
  {
   "cell_type": "code",
   "execution_count": 22,
   "id": "df796909",
   "metadata": {
    "ExecuteTime": {
     "end_time": "2023-04-05T05:54:49.076782Z",
     "start_time": "2023-04-05T05:54:49.072644Z"
    }
   },
   "outputs": [],
   "source": [
    "a=A(0)"
   ]
  },
  {
   "cell_type": "code",
   "execution_count": 24,
   "id": "b44861da",
   "metadata": {
    "ExecuteTime": {
     "end_time": "2023-04-05T05:54:51.078397Z",
     "start_time": "2023-04-05T05:54:51.070604Z"
    }
   },
   "outputs": [
    {
     "data": {
      "text/plain": [
       "6"
      ]
     },
     "execution_count": 24,
     "metadata": {},
     "output_type": "execute_result"
    }
   ],
   "source": [
    "a.f(6)\n",
    "a.y"
   ]
  },
  {
   "cell_type": "code",
   "execution_count": 17,
   "id": "ef40e0be",
   "metadata": {
    "ExecuteTime": {
     "end_time": "2023-04-05T05:53:43.368102Z",
     "start_time": "2023-04-05T05:53:43.364858Z"
    }
   },
   "outputs": [],
   "source": [
    "# a.f(A,9)\n",
    "# TypeError: f() takes 2 positional arguments but 3 were given"
   ]
  },
  {
   "cell_type": "code",
   "execution_count": 25,
   "id": "292f067d",
   "metadata": {
    "ExecuteTime": {
     "end_time": "2023-04-05T05:54:52.716893Z",
     "start_time": "2023-04-05T05:54:52.712006Z"
    }
   },
   "outputs": [
    {
     "data": {
      "text/plain": [
       "10"
      ]
     },
     "execution_count": 25,
     "metadata": {},
     "output_type": "execute_result"
    }
   ],
   "source": [
    "A.f(a,4)\n",
    "a.y"
   ]
  },
  {
   "cell_type": "code",
   "execution_count": 23,
   "id": "4c507df1",
   "metadata": {
    "ExecuteTime": {
     "end_time": "2023-04-05T05:54:50.208438Z",
     "start_time": "2023-04-05T05:54:50.203382Z"
    }
   },
   "outputs": [
    {
     "data": {
      "text/plain": [
       "5"
      ]
     },
     "execution_count": 23,
     "metadata": {},
     "output_type": "execute_result"
    }
   ],
   "source": [
    "A.f(A,4)\n",
    "A.y"
   ]
  },
  {
   "cell_type": "markdown",
   "id": "fdb3eca3",
   "metadata": {},
   "source": [
    "Q2"
   ]
  },
  {
   "cell_type": "code",
   "execution_count": null,
   "id": "225dab0f",
   "metadata": {},
   "outputs": [],
   "source": []
  }
 ],
 "metadata": {
  "kernelspec": {
   "display_name": "Python 3 (ipykernel)",
   "language": "python",
   "name": "python3"
  },
  "language_info": {
   "codemirror_mode": {
    "name": "ipython",
    "version": 3
   },
   "file_extension": ".py",
   "mimetype": "text/x-python",
   "name": "python",
   "nbconvert_exporter": "python",
   "pygments_lexer": "ipython3",
   "version": "3.8.12"
  },
  "toc": {
   "base_numbering": 1,
   "nav_menu": {},
   "number_sections": true,
   "sideBar": true,
   "skip_h1_title": false,
   "title_cell": "Table of Contents",
   "title_sidebar": "Contents",
   "toc_cell": false,
   "toc_position": {},
   "toc_section_display": true,
   "toc_window_display": false
  }
 },
 "nbformat": 4,
 "nbformat_minor": 5
}
