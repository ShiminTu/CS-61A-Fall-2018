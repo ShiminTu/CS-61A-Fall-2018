{
 "cells": [
  {
   "cell_type": "code",
   "execution_count": 131,
   "id": "67eaa293",
   "metadata": {
    "ExecuteTime": {
     "end_time": "2023-04-05T06:44:07.604373Z",
     "start_time": "2023-04-05T06:44:07.551499Z"
    }
   },
   "outputs": [],
   "source": [
    "from lab07 import *\n",
    "import doctest"
   ]
  },
  {
   "cell_type": "markdown",
   "id": "517525f4",
   "metadata": {},
   "source": [
    "Q1"
   ]
  },
  {
   "cell_type": "code",
   "execution_count": 21,
   "id": "38fc408c",
   "metadata": {
    "ExecuteTime": {
     "end_time": "2023-04-05T05:54:48.325395Z",
     "start_time": "2023-04-05T05:54:48.321200Z"
    }
   },
   "outputs": [],
   "source": [
    "class A:\n",
    "    y = 1\n",
    "    def __init__(self, y):\n",
    "        self.y = y\n",
    "    def f(self, x):\n",
    "        self.y += x"
   ]
  },
  {
   "cell_type": "code",
   "execution_count": 22,
   "id": "74f6b56e",
   "metadata": {
    "ExecuteTime": {
     "end_time": "2023-04-05T05:54:49.076782Z",
     "start_time": "2023-04-05T05:54:49.072644Z"
    }
   },
   "outputs": [],
   "source": [
    "a=A(0)"
   ]
  },
  {
   "cell_type": "code",
   "execution_count": 24,
   "id": "25d2cde6",
   "metadata": {
    "ExecuteTime": {
     "end_time": "2023-04-05T05:54:51.078397Z",
     "start_time": "2023-04-05T05:54:51.070604Z"
    }
   },
   "outputs": [
    {
     "data": {
      "text/plain": [
       "6"
      ]
     },
     "execution_count": 24,
     "metadata": {},
     "output_type": "execute_result"
    }
   ],
   "source": [
    "a.f(6)\n",
    "a.y"
   ]
  },
  {
   "cell_type": "code",
   "execution_count": 17,
   "id": "d4c191b2",
   "metadata": {
    "ExecuteTime": {
     "end_time": "2023-04-05T05:53:43.368102Z",
     "start_time": "2023-04-05T05:53:43.364858Z"
    }
   },
   "outputs": [],
   "source": [
    "# a.f(A,9)\n",
    "# TypeError: f() takes 2 positional arguments but 3 were given"
   ]
  },
  {
   "cell_type": "code",
   "execution_count": 25,
   "id": "b5d43948",
   "metadata": {
    "ExecuteTime": {
     "end_time": "2023-04-05T05:54:52.716893Z",
     "start_time": "2023-04-05T05:54:52.712006Z"
    }
   },
   "outputs": [
    {
     "data": {
      "text/plain": [
       "10"
      ]
     },
     "execution_count": 25,
     "metadata": {},
     "output_type": "execute_result"
    }
   ],
   "source": [
    "A.f(a,4)\n",
    "a.y"
   ]
  },
  {
   "cell_type": "code",
   "execution_count": 23,
   "id": "d6a98762",
   "metadata": {
    "ExecuteTime": {
     "end_time": "2023-04-05T05:54:50.208438Z",
     "start_time": "2023-04-05T05:54:50.203382Z"
    }
   },
   "outputs": [
    {
     "data": {
      "text/plain": [
       "5"
      ]
     },
     "execution_count": 23,
     "metadata": {},
     "output_type": "execute_result"
    }
   ],
   "source": [
    "A.f(A,4)\n",
    "A.y"
   ]
  },
  {
   "cell_type": "markdown",
   "id": "cc7f0caf",
   "metadata": {},
   "source": [
    "Q2"
   ]
  },
  {
   "cell_type": "code",
   "execution_count": 43,
   "id": "75e8e1bb",
   "metadata": {
    "ExecuteTime": {
     "end_time": "2023-04-05T06:16:46.359918Z",
     "start_time": "2023-04-05T06:16:46.356353Z"
    }
   },
   "outputs": [],
   "source": [
    "link = Link(1000)"
   ]
  },
  {
   "cell_type": "code",
   "execution_count": 44,
   "id": "2e0c44ae",
   "metadata": {
    "ExecuteTime": {
     "end_time": "2023-04-05T06:16:47.170410Z",
     "start_time": "2023-04-05T06:16:47.165221Z"
    }
   },
   "outputs": [
    {
     "data": {
      "text/plain": [
       "1000"
      ]
     },
     "execution_count": 44,
     "metadata": {},
     "output_type": "execute_result"
    }
   ],
   "source": [
    "link.first\n",
    "# 1000"
   ]
  },
  {
   "cell_type": "code",
   "execution_count": 45,
   "id": "3fc8aa5e",
   "metadata": {
    "ExecuteTime": {
     "end_time": "2023-04-05T06:17:03.306945Z",
     "start_time": "2023-04-05T06:17:03.299660Z"
    }
   },
   "outputs": [
    {
     "data": {
      "text/plain": [
       "True"
      ]
     },
     "execution_count": 45,
     "metadata": {},
     "output_type": "execute_result"
    }
   ],
   "source": [
    "link.rest is Link.empty\n",
    "# True"
   ]
  },
  {
   "cell_type": "code",
   "execution_count": 48,
   "id": "3e950f3b",
   "metadata": {
    "ExecuteTime": {
     "end_time": "2023-04-05T06:17:38.340223Z",
     "start_time": "2023-04-05T06:17:38.337508Z"
    }
   },
   "outputs": [],
   "source": [
    "# link = Link(1000,2000)\n",
    "# AssertionError"
   ]
  },
  {
   "cell_type": "code",
   "execution_count": 50,
   "id": "133888fc",
   "metadata": {
    "ExecuteTime": {
     "end_time": "2023-04-05T06:18:26.769523Z",
     "start_time": "2023-04-05T06:18:26.766376Z"
    }
   },
   "outputs": [],
   "source": [
    "# link = Link(1000,Link())\n",
    "# TypeError"
   ]
  },
  {
   "cell_type": "code",
   "execution_count": 51,
   "id": "b9c0a88a",
   "metadata": {
    "ExecuteTime": {
     "end_time": "2023-04-05T06:18:46.244975Z",
     "start_time": "2023-04-05T06:18:46.241682Z"
    }
   },
   "outputs": [],
   "source": [
    "link = Link(1,Link(2,Link(3)))"
   ]
  },
  {
   "cell_type": "code",
   "execution_count": 53,
   "id": "50704093",
   "metadata": {
    "ExecuteTime": {
     "end_time": "2023-04-05T06:18:57.716052Z",
     "start_time": "2023-04-05T06:18:57.710647Z"
    }
   },
   "outputs": [
    {
     "data": {
      "text/plain": [
       "1"
      ]
     },
     "execution_count": 53,
     "metadata": {},
     "output_type": "execute_result"
    }
   ],
   "source": [
    "link.first\n",
    "# 1"
   ]
  },
  {
   "cell_type": "code",
   "execution_count": 54,
   "id": "75638f73",
   "metadata": {
    "ExecuteTime": {
     "end_time": "2023-04-05T06:19:08.218844Z",
     "start_time": "2023-04-05T06:19:08.212953Z"
    }
   },
   "outputs": [
    {
     "data": {
      "text/plain": [
       "2"
      ]
     },
     "execution_count": 54,
     "metadata": {},
     "output_type": "execute_result"
    }
   ],
   "source": [
    "link.rest.first\n",
    "# 2"
   ]
  },
  {
   "cell_type": "code",
   "execution_count": 55,
   "id": "cc0366d2",
   "metadata": {
    "ExecuteTime": {
     "end_time": "2023-04-05T06:19:27.977057Z",
     "start_time": "2023-04-05T06:19:27.973011Z"
    }
   },
   "outputs": [
    {
     "data": {
      "text/plain": [
       "True"
      ]
     },
     "execution_count": 55,
     "metadata": {},
     "output_type": "execute_result"
    }
   ],
   "source": [
    "link.rest.rest.rest is Link.empty\n",
    "# True"
   ]
  },
  {
   "cell_type": "code",
   "execution_count": 56,
   "id": "8ab8b7b0",
   "metadata": {
    "ExecuteTime": {
     "end_time": "2023-04-05T06:19:48.692842Z",
     "start_time": "2023-04-05T06:19:48.687335Z"
    }
   },
   "outputs": [
    {
     "data": {
      "text/plain": [
       "9001"
      ]
     },
     "execution_count": 56,
     "metadata": {},
     "output_type": "execute_result"
    }
   ],
   "source": [
    "link.first = 9001\n",
    "link.first"
   ]
  },
  {
   "cell_type": "code",
   "execution_count": 58,
   "id": "ae168247",
   "metadata": {
    "ExecuteTime": {
     "end_time": "2023-04-05T06:20:34.587767Z",
     "start_time": "2023-04-05T06:20:34.583033Z"
    }
   },
   "outputs": [
    {
     "data": {
      "text/plain": [
       "3"
      ]
     },
     "execution_count": 58,
     "metadata": {},
     "output_type": "execute_result"
    }
   ],
   "source": [
    "link.rest = link.rest.rest\n",
    "link.rest.first"
   ]
  },
  {
   "cell_type": "code",
   "execution_count": 60,
   "id": "dd4062db",
   "metadata": {
    "ExecuteTime": {
     "end_time": "2023-04-05T06:21:55.007109Z",
     "start_time": "2023-04-05T06:21:55.001479Z"
    }
   },
   "outputs": [
    {
     "data": {
      "text/plain": [
       "1"
      ]
     },
     "execution_count": 60,
     "metadata": {},
     "output_type": "execute_result"
    }
   ],
   "source": [
    "link = Link(1)\n",
    "link.rest = link\n",
    "link.rest.rest.rest.rest.first"
   ]
  },
  {
   "cell_type": "code",
   "execution_count": 62,
   "id": "ce4aea03",
   "metadata": {
    "ExecuteTime": {
     "end_time": "2023-04-05T06:22:56.868998Z",
     "start_time": "2023-04-05T06:22:56.862936Z"
    }
   },
   "outputs": [
    {
     "data": {
      "text/plain": [
       "1"
      ]
     },
     "execution_count": 62,
     "metadata": {},
     "output_type": "execute_result"
    }
   ],
   "source": [
    "link = Link(2, Link(3, Link(4)))\n",
    "link2 = Link(1, link)\n",
    "link2.first"
   ]
  },
  {
   "cell_type": "code",
   "execution_count": 63,
   "id": "7feb6330",
   "metadata": {
    "ExecuteTime": {
     "end_time": "2023-04-05T06:23:11.205302Z",
     "start_time": "2023-04-05T06:23:11.199967Z"
    }
   },
   "outputs": [
    {
     "data": {
      "text/plain": [
       "2"
      ]
     },
     "execution_count": 63,
     "metadata": {},
     "output_type": "execute_result"
    }
   ],
   "source": [
    "link2.rest.first"
   ]
  },
  {
   "cell_type": "code",
   "execution_count": 64,
   "id": "30a29a69",
   "metadata": {
    "ExecuteTime": {
     "end_time": "2023-04-05T06:23:22.377722Z",
     "start_time": "2023-04-05T06:23:22.372027Z"
    }
   },
   "outputs": [
    {
     "data": {
      "text/plain": [
       "6"
      ]
     },
     "execution_count": 64,
     "metadata": {},
     "output_type": "execute_result"
    }
   ],
   "source": [
    "link = Link(5, Link(6, Link(7)))\n",
    "link.second"
   ]
  },
  {
   "cell_type": "code",
   "execution_count": 65,
   "id": "8a316da3",
   "metadata": {
    "ExecuteTime": {
     "end_time": "2023-04-05T06:23:29.087709Z",
     "start_time": "2023-04-05T06:23:29.083512Z"
    }
   },
   "outputs": [
    {
     "data": {
      "text/plain": [
       "7"
      ]
     },
     "execution_count": 65,
     "metadata": {},
     "output_type": "execute_result"
    }
   ],
   "source": [
    "link.rest.second"
   ]
  },
  {
   "cell_type": "code",
   "execution_count": 66,
   "id": "322dd2f0",
   "metadata": {
    "ExecuteTime": {
     "end_time": "2023-04-05T06:23:37.416537Z",
     "start_time": "2023-04-05T06:23:37.411010Z"
    }
   },
   "outputs": [
    {
     "data": {
      "text/plain": [
       "Link(5, Link(10, Link(7)))"
      ]
     },
     "execution_count": 66,
     "metadata": {},
     "output_type": "execute_result"
    }
   ],
   "source": [
    "link.second = 10\n",
    "link"
   ]
  },
  {
   "cell_type": "code",
   "execution_count": 67,
   "id": "3f5517b0",
   "metadata": {
    "ExecuteTime": {
     "end_time": "2023-04-05T06:25:12.444028Z",
     "start_time": "2023-04-05T06:25:12.437563Z"
    }
   },
   "outputs": [
    {
     "data": {
      "text/plain": [
       "8"
      ]
     },
     "execution_count": 67,
     "metadata": {},
     "output_type": "execute_result"
    }
   ],
   "source": [
    "link.second = Link(8, Link(9))\n",
    "link.second.first"
   ]
  },
  {
   "cell_type": "code",
   "execution_count": 69,
   "id": "760965ef",
   "metadata": {
    "ExecuteTime": {
     "end_time": "2023-04-05T06:25:52.548417Z",
     "start_time": "2023-04-05T06:25:52.544193Z"
    }
   },
   "outputs": [
    {
     "name": "stdout",
     "output_type": "stream",
     "text": [
      "<5 <8 9> 7>\n"
     ]
    }
   ],
   "source": [
    "print(link)"
   ]
  },
  {
   "cell_type": "markdown",
   "id": "00669536",
   "metadata": {},
   "source": [
    "Q3"
   ]
  },
  {
   "cell_type": "code",
   "execution_count": 71,
   "id": "f1251c13",
   "metadata": {
    "ExecuteTime": {
     "end_time": "2023-04-05T06:30:10.394767Z",
     "start_time": "2023-04-05T06:30:10.391912Z"
    }
   },
   "outputs": [],
   "source": [
    "# t = Tree(1, Tree(2))\n",
    "# TypeError"
   ]
  },
  {
   "cell_type": "code",
   "execution_count": 73,
   "id": "6664ae22",
   "metadata": {
    "ExecuteTime": {
     "end_time": "2023-04-05T06:30:25.348821Z",
     "start_time": "2023-04-05T06:30:25.343188Z"
    }
   },
   "outputs": [
    {
     "data": {
      "text/plain": [
       "1"
      ]
     },
     "execution_count": 73,
     "metadata": {},
     "output_type": "execute_result"
    }
   ],
   "source": [
    "t = Tree(1,[Tree(2)])\n",
    "t.label"
   ]
  },
  {
   "cell_type": "code",
   "execution_count": 74,
   "id": "081b034d",
   "metadata": {
    "ExecuteTime": {
     "end_time": "2023-04-05T06:30:34.102195Z",
     "start_time": "2023-04-05T06:30:34.098229Z"
    }
   },
   "outputs": [
    {
     "data": {
      "text/plain": [
       "Tree(2)"
      ]
     },
     "execution_count": 74,
     "metadata": {},
     "output_type": "execute_result"
    }
   ],
   "source": [
    "t.branches[0]"
   ]
  },
  {
   "cell_type": "code",
   "execution_count": 75,
   "id": "95a7a23a",
   "metadata": {
    "ExecuteTime": {
     "end_time": "2023-04-05T06:30:41.084886Z",
     "start_time": "2023-04-05T06:30:41.079035Z"
    }
   },
   "outputs": [
    {
     "data": {
      "text/plain": [
       "2"
      ]
     },
     "execution_count": 75,
     "metadata": {},
     "output_type": "execute_result"
    }
   ],
   "source": [
    "t.branches[0].label"
   ]
  },
  {
   "cell_type": "code",
   "execution_count": 76,
   "id": "7861dfd4",
   "metadata": {
    "ExecuteTime": {
     "end_time": "2023-04-05T06:30:55.994708Z",
     "start_time": "2023-04-05T06:30:55.989611Z"
    }
   },
   "outputs": [
    {
     "data": {
      "text/plain": [
       "Tree(2, [Tree(2)])"
      ]
     },
     "execution_count": 76,
     "metadata": {},
     "output_type": "execute_result"
    }
   ],
   "source": [
    "t.label = t.branches[0].label\n",
    "t"
   ]
  },
  {
   "cell_type": "code",
   "execution_count": 77,
   "id": "f8b56890",
   "metadata": {
    "ExecuteTime": {
     "end_time": "2023-04-05T06:31:34.205431Z",
     "start_time": "2023-04-05T06:31:34.199613Z"
    }
   },
   "outputs": [
    {
     "data": {
      "text/plain": [
       "2"
      ]
     },
     "execution_count": 77,
     "metadata": {},
     "output_type": "execute_result"
    }
   ],
   "source": [
    "t.branches.append(Tree(4,[Tree(8)]))\n",
    "len(t.branches)"
   ]
  },
  {
   "cell_type": "code",
   "execution_count": 79,
   "id": "4f90a732",
   "metadata": {
    "ExecuteTime": {
     "end_time": "2023-04-05T06:31:43.985281Z",
     "start_time": "2023-04-05T06:31:43.979750Z"
    }
   },
   "outputs": [
    {
     "data": {
      "text/plain": [
       "Tree(2)"
      ]
     },
     "execution_count": 79,
     "metadata": {},
     "output_type": "execute_result"
    }
   ],
   "source": [
    "t.branches[0]"
   ]
  },
  {
   "cell_type": "code",
   "execution_count": 80,
   "id": "b295d5a5",
   "metadata": {
    "ExecuteTime": {
     "end_time": "2023-04-05T06:31:48.245622Z",
     "start_time": "2023-04-05T06:31:48.240398Z"
    }
   },
   "outputs": [
    {
     "data": {
      "text/plain": [
       "Tree(4, [Tree(8)])"
      ]
     },
     "execution_count": 80,
     "metadata": {},
     "output_type": "execute_result"
    }
   ],
   "source": [
    "t.branches[1]"
   ]
  },
  {
   "cell_type": "markdown",
   "id": "1819a96d",
   "metadata": {},
   "source": [
    "Q4"
   ]
  },
  {
   "cell_type": "code",
   "execution_count": 133,
   "id": "b29cf0b9",
   "metadata": {
    "ExecuteTime": {
     "end_time": "2023-04-05T06:44:32.899662Z",
     "start_time": "2023-04-05T06:44:32.894987Z"
    }
   },
   "outputs": [],
   "source": [
    "def link_to_list(link):\n",
    "    \"\"\"Takes a linked list and returns a Python list with the same elements.\n",
    "\n",
    "    >>> link = Link(1, Link(2, Link(3, Link(4))))\n",
    "    >>> link_to_list(link)\n",
    "    [1, 2, 3, 4]\n",
    "    >>> link_to_list(Link.empty)\n",
    "    []\n",
    "    \"\"\"\n",
    "    \"*** YOUR CODE HERE ***\"\n",
    "    if link is Link.empty:\n",
    "        return []\n",
    "    lst = [link.first]\n",
    "    lst.extend(link_to_list(link.rest))\n",
    "    return lst"
   ]
  },
  {
   "cell_type": "code",
   "execution_count": 137,
   "id": "4f5e4af6",
   "metadata": {
    "ExecuteTime": {
     "end_time": "2023-04-05T06:44:54.496426Z",
     "start_time": "2023-04-05T06:44:54.489968Z"
    }
   },
   "outputs": [],
   "source": [
    "doctest.run_docstring_examples(link_to_list,globals())"
   ]
  },
  {
   "cell_type": "markdown",
   "id": "5ff44f93",
   "metadata": {},
   "source": [
    "Q5"
   ]
  },
  {
   "cell_type": "code",
   "execution_count": 245,
   "id": "043b8431",
   "metadata": {
    "ExecuteTime": {
     "end_time": "2023-04-05T07:26:26.599051Z",
     "start_time": "2023-04-05T07:26:26.593094Z"
    }
   },
   "outputs": [],
   "source": [
    "def store_digits(n):\n",
    "    \"\"\"Stores the digits of a positive number n in a linked list.\n",
    "\n",
    "    >>> s = store_digits(1)\n",
    "    >>> s\n",
    "    Link(1)\n",
    "    >>> store_digits(2345)\n",
    "    Link(2, Link(3, Link(4, Link(5))))\n",
    "    >>> store_digits(876)\n",
    "    Link(8, Link(7, Link(6)))\n",
    "    \"\"\"\n",
    "    \"*** YOUR CODE HERE ***\"\n",
    "    if n < 10:\n",
    "        return Link(n)\n",
    "    return Link(int(list(str(n))[0]),store_digits(int(''.join(list(str(n))[1:]))))"
   ]
  },
  {
   "cell_type": "code",
   "execution_count": 247,
   "id": "1ef2c5d5",
   "metadata": {
    "ExecuteTime": {
     "end_time": "2023-04-05T07:26:40.167630Z",
     "start_time": "2023-04-05T07:26:40.158648Z"
    }
   },
   "outputs": [],
   "source": [
    "doctest.run_docstring_examples(store_digits,globals())"
   ]
  },
  {
   "cell_type": "markdown",
   "id": "a24f7e7c",
   "metadata": {},
   "source": [
    "Q6"
   ]
  },
  {
   "cell_type": "code",
   "execution_count": 322,
   "id": "57fdec4e",
   "metadata": {
    "ExecuteTime": {
     "end_time": "2023-04-05T08:23:15.050736Z",
     "start_time": "2023-04-05T08:23:15.045472Z"
    }
   },
   "outputs": [],
   "source": [
    "def cumulative_sum(t):\n",
    "    \"\"\"Mutates t so that each node's label becomes the sum of all labels in\n",
    "    the corresponding subtree rooted at t.\n",
    "\n",
    "    >>> t = Tree(1, [Tree(3, [Tree(5)]), Tree(7)])\n",
    "    >>> cumulative_sum(t)\n",
    "    >>> t\n",
    "    Tree(16, [Tree(8, [Tree(5)]), Tree(7)])\n",
    "    \"\"\"\n",
    "    \"*** YOUR CODE HERE ***\"\n",
    "    for b in t.branches:\n",
    "        if b.is_leaf() == False:\n",
    "            cumulative_sum(b)\n",
    "    t.label += sum([b.label for b in t.branches])"
   ]
  },
  {
   "cell_type": "code",
   "execution_count": 326,
   "id": "e8bad4ba",
   "metadata": {
    "ExecuteTime": {
     "end_time": "2023-04-05T08:23:49.410906Z",
     "start_time": "2023-04-05T08:23:49.401027Z"
    }
   },
   "outputs": [],
   "source": [
    "doctest.run_docstring_examples(cumulative_sum,globals())"
   ]
  },
  {
   "cell_type": "markdown",
   "id": "dd561ab6",
   "metadata": {},
   "source": [
    "Q7"
   ]
  },
  {
   "cell_type": "code",
   "execution_count": 382,
   "id": "b93e7850",
   "metadata": {
    "ExecuteTime": {
     "end_time": "2023-04-06T02:46:42.945184Z",
     "start_time": "2023-04-06T02:46:42.938437Z"
    }
   },
   "outputs": [],
   "source": [
    "def is_bst(t):\n",
    "    \"\"\"Returns True if the Tree t has the structure of a valid BST.\n",
    "\n",
    "    >>> t1 = Tree(6, [Tree(2, [Tree(1), Tree(4)]), Tree(7, [Tree(7), Tree(8)])])\n",
    "    >>> is_bst(t1)\n",
    "    True\n",
    "    >>> t2 = Tree(8, [Tree(2, [Tree(9), Tree(1)]), Tree(3, [Tree(6)]), Tree(5)])\n",
    "    >>> is_bst(t2)\n",
    "    False\n",
    "    >>> t3 = Tree(6, [Tree(2, [Tree(4), Tree(1)]), Tree(7, [Tree(7), Tree(8)])])\n",
    "    >>> is_bst(t3)\n",
    "    False\n",
    "    >>> t4 = Tree(1, [Tree(2, [Tree(3, [Tree(4)])])])\n",
    "    >>> is_bst(t4)\n",
    "    True\n",
    "    >>> t5 = Tree(1, [Tree(0, [Tree(-1, [Tree(-2)])])])\n",
    "    >>> is_bst(t5)\n",
    "    True\n",
    "    >>> t6 = Tree(1, [Tree(4, [Tree(2, [Tree(3)])])])\n",
    "    >>> is_bst(t6)\n",
    "    True\n",
    "    >>> t7 = Tree(2, [Tree(1, [Tree(5)]), Tree(4)])\n",
    "    >>> is_bst(t7)\n",
    "    False\n",
    "    \"\"\"\n",
    "    \"*** YOUR CODE HERE ***\"\n",
    "    if t.is_leaf() == True:\n",
    "        return True\n",
    "    if len(t.branches) > 2:\n",
    "        return False\n",
    "    elif len(t.branches) == 1:\n",
    "        return is_bst(t.branches[0])\n",
    "    else:\n",
    "        if is_bst(t.branches[0]) and is_bst(t.branches[1]):\n",
    "            if t.label >= bst_max(t.branches[0]) and t.label < bst_min(t.branches[1]):\n",
    "                return True\n",
    "        return False"
   ]
  },
  {
   "cell_type": "code",
   "execution_count": 383,
   "id": "20c061cf",
   "metadata": {
    "ExecuteTime": {
     "end_time": "2023-04-06T02:46:43.730355Z",
     "start_time": "2023-04-06T02:46:43.721019Z"
    }
   },
   "outputs": [],
   "source": [
    "doctest.run_docstring_examples(is_bst,globals())"
   ]
  },
  {
   "cell_type": "code",
   "execution_count": 363,
   "id": "34873e3f",
   "metadata": {
    "ExecuteTime": {
     "end_time": "2023-04-06T02:30:46.298635Z",
     "start_time": "2023-04-06T02:30:46.293290Z"
    }
   },
   "outputs": [],
   "source": [
    "def bst_min(t):\n",
    "    if t.is_leaf() == True:\n",
    "        return t.label\n",
    "    if len(t.branches) == 2:\n",
    "        return bst_min(t.branches[0])\n",
    "    if len(t.branches) == 1:\n",
    "        if t.branches[0].label > t.label:\n",
    "            return t.label\n",
    "        else:\n",
    "            return bst_min(t.branches[0])"
   ]
  },
  {
   "cell_type": "code",
   "execution_count": 364,
   "id": "3880b4eb",
   "metadata": {
    "ExecuteTime": {
     "end_time": "2023-04-06T02:30:47.087924Z",
     "start_time": "2023-04-06T02:30:47.083003Z"
    }
   },
   "outputs": [],
   "source": [
    "def bst_max(t):\n",
    "    if t.is_leaf() == True:\n",
    "        return t.label\n",
    "    if len(t.branches) == 2:\n",
    "        return bst_max(t.branches[1])\n",
    "    if len(t.branches) == 1:\n",
    "        if t.branches[0].label <= t.label:\n",
    "            return t.label\n",
    "        else:\n",
    "            return bst_max(t.branches[0])"
   ]
  },
  {
   "cell_type": "markdown",
   "id": "53e678bd",
   "metadata": {},
   "source": [
    "Q8"
   ]
  },
  {
   "cell_type": "code",
   "execution_count": 459,
   "id": "677d6745",
   "metadata": {
    "ExecuteTime": {
     "end_time": "2023-04-06T03:21:37.846614Z",
     "start_time": "2023-04-06T03:21:37.840159Z"
    }
   },
   "outputs": [],
   "source": [
    "def in_order_traversal(t):\n",
    "    \"\"\"\n",
    "    Generator function that generates an \"in-order\" traversal, in which we \n",
    "    yield the value of every node in order from left to right, assuming that each node has either 0 or 2 branches.\n",
    "\n",
    "    For example, take the following tree t:\n",
    "            1\n",
    "        2       3\n",
    "    4     5\n",
    "         6  7\n",
    "\n",
    "    We have the in-order-traversal 4, 2, 6, 5, 7, 1, 3\n",
    "\n",
    "    >>> t = Tree(1, [Tree(2, [Tree(4), Tree(5, [Tree(6), Tree(7)])]), Tree(3)])\n",
    "    >>> list(in_order_traversal(t))\n",
    "    [4, 2, 6, 5, 7, 1, 3]\n",
    "    \"\"\"\n",
    "    \"*** YOUR CODE HERE ***\"\n",
    "    assert len(t.branches) == 0 or len(t.branches) == 2, 'each node must have either 0 or 2 branches'\n",
    "    if t.is_leaf() == True:\n",
    "        yield t.label\n",
    "    left, right = t.branches[0], t.branches[1]\n",
    "    if left.is_leaf() == True:\n",
    "        yield from [left.label, t.label]\n",
    "    else:\n",
    "        yield from in_order_traversal(left)\n",
    "        yield t.label\n",
    "    if right.is_leaf() == True:\n",
    "        yield right.label\n",
    "    else:\n",
    "        yield from in_order_traversal(right)"
   ]
  },
  {
   "cell_type": "code",
   "execution_count": 460,
   "id": "f889c6f1",
   "metadata": {
    "ExecuteTime": {
     "end_time": "2023-04-06T03:21:38.807960Z",
     "start_time": "2023-04-06T03:21:38.803847Z"
    }
   },
   "outputs": [],
   "source": []
  },
  {
   "cell_type": "code",
   "execution_count": 461,
   "id": "7a593478",
   "metadata": {
    "ExecuteTime": {
     "end_time": "2023-04-06T03:21:39.463407Z",
     "start_time": "2023-04-06T03:21:39.457641Z"
    }
   },
   "outputs": [
    {
     "data": {
      "text/plain": [
       "[4, 2, 6, 5, 7, 1, 3]"
      ]
     },
     "execution_count": 461,
     "metadata": {},
     "output_type": "execute_result"
    }
   ],
   "source": [
    "list(in_order_traversal(t))"
   ]
  },
  {
   "cell_type": "code",
   "execution_count": 397,
   "id": "b790f09f",
   "metadata": {
    "ExecuteTime": {
     "end_time": "2023-04-06T03:08:55.027186Z",
     "start_time": "2023-04-06T03:08:55.024217Z"
    }
   },
   "outputs": [],
   "source": [
    "def test(n):\n",
    "    for i in range(n):\n",
    "        yield i"
   ]
  },
  {
   "cell_type": "code",
   "execution_count": 403,
   "id": "132ac46f",
   "metadata": {
    "ExecuteTime": {
     "end_time": "2023-04-06T03:09:06.070206Z",
     "start_time": "2023-04-06T03:09:06.064582Z"
    }
   },
   "outputs": [
    {
     "data": {
      "text/plain": [
       "[0, 1, 2, 3, 4, 5, 6, 7, 8, 9]"
      ]
     },
     "execution_count": 403,
     "metadata": {},
     "output_type": "execute_result"
    }
   ],
   "source": [
    "list(test(10))"
   ]
  }
 ],
 "metadata": {
  "kernelspec": {
   "display_name": "Python 3 (ipykernel)",
   "language": "python",
   "name": "python3"
  },
  "language_info": {
   "codemirror_mode": {
    "name": "ipython",
    "version": 3
   },
   "file_extension": ".py",
   "mimetype": "text/x-python",
   "name": "python",
   "nbconvert_exporter": "python",
   "pygments_lexer": "ipython3",
   "version": "3.8.12"
  },
  "toc": {
   "base_numbering": 1,
   "nav_menu": {},
   "number_sections": true,
   "sideBar": true,
   "skip_h1_title": false,
   "title_cell": "Table of Contents",
   "title_sidebar": "Contents",
   "toc_cell": false,
   "toc_position": {},
   "toc_section_display": true,
   "toc_window_display": false
  }
 },
 "nbformat": 4,
 "nbformat_minor": 5
}
