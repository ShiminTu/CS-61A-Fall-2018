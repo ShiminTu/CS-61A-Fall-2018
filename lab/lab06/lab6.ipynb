{
 "cells": [
  {
   "cell_type": "markdown",
   "metadata": {},
   "source": [
    "# Object-oriented Programming"
   ]
  },
  {
   "cell_type": "code",
   "execution_count": 65,
   "metadata": {
    "ExecuteTime": {
     "end_time": "2023-03-22T03:57:54.326250Z",
     "start_time": "2023-03-22T03:57:54.312199Z"
    }
   },
   "outputs": [],
   "source": [
    "class Deck(object):\n",
    "    def __init__(self, cards):\n",
    "        \"\"\"\n",
    "        With a list of cards as input, create a deck.\n",
    "        This deck should keep track of the cards it contains, and\n",
    "        we should be able to draw from the deck, taking a random\n",
    "        card out of it.\n",
    "        \"\"\"\n",
    "        self.cards = cards\n",
    "\n",
    "    def draw(self):\n",
    "        \"\"\"\n",
    "        Draw a random card and remove it from the deck.\n",
    "        \"\"\"\n",
    "        assert self.cards, 'The deck is empty!'\n",
    "        rand_index = random.randrange(len(self.cards))\n",
    "        return self.cards.pop(rand_index)\n",
    "\n",
    "    def is_empty(self):\n",
    "        return len(self.cards) == 0\n",
    "\n",
    "    def copy(self):\n",
    "        \"\"\"\n",
    "        Create a copy of this deck.\n",
    "        \"\"\"\n",
    "        return Deck([card.copy() for card in self.cards])\n",
    "\n",
    "class Game(object):\n",
    "\n",
    "    win_score = 8\n",
    "\n",
    "    def __init__(self, player1, player2):\n",
    "        \"\"\"\n",
    "        Initialize a game of <REPLACE NAME>.\n",
    "        \"\"\"\n",
    "        self.player1, self.player2 = player1, player2\n",
    "        self.p1_score = 0\n",
    "        self.p2_score = 0\n",
    "\n",
    "    def play_round(self, p1_card, p2_card):\n",
    "        \"\"\"\n",
    "        After each player picks a card, play them against\n",
    "        each other.\n",
    "        \"\"\"\n",
    "        p1_card.effect(p2_card, self.player1, self.player2)\n",
    "        p2_card.effect(p1_card, self.player2, self.player1)\n",
    "        p1_power = p1_card.power(p2_card)\n",
    "        p2_power = p2_card.power(p1_card)\n",
    "        if p1_power > p2_power:\n",
    "            # Player 1 wins the round.\n",
    "            self.p1_score += 1\n",
    "            result = 'won'\n",
    "        elif p2_power > p1_power:\n",
    "            # Player 2 wins the round.\n",
    "            self.p2_score += 1\n",
    "            result = 'lost'\n",
    "        else:\n",
    "            # This round is a draw.\n",
    "            result = 'tied'\n",
    "        # Display results to user.\n",
    "        print('You {} this round!'.format(result))\n",
    "        print('{}\\'s card: {}; Power: {}'.format(self.player1.name, p1_card, p1_power))\n",
    "        print('Opponent\\'s card: {}; Power: {}'.format(p2_card, p2_power))\n",
    "\n",
    "\n",
    "    def game_won(self):\n",
    "        \"\"\"\n",
    "        Check if the game is won and, if so,\n",
    "        which player won.\n",
    "        \"\"\"\n",
    "        if self.p1_score < self.win_score and self.p2_score < self.win_score:\n",
    "            return 0\n",
    "        return 1 if self.p1_score > self.p2_score else 2\n",
    "\n",
    "    def display_scores(self):\n",
    "        \"\"\"\n",
    "        Display players' scores to the user.\n",
    "        \"\"\"\n",
    "        print('{}\\'s score: {}'.format(self.player1.name, self.p1_score))\n",
    "        print('Opponent\\'s score: {}'.format(self.p2_score))"
   ]
  },
  {
   "cell_type": "code",
   "execution_count": 2,
   "metadata": {
    "ExecuteTime": {
     "end_time": "2023-03-22T02:48:28.357061Z",
     "start_time": "2023-03-22T02:48:28.349858Z"
    }
   },
   "outputs": [],
   "source": [
    "class Car(object):\n",
    "    num_wheels = 4\n",
    "    gas = 30\n",
    "    headlights = 2\n",
    "    size = 'Tiny'\n",
    "\n",
    "    def __init__(self, make, model):\n",
    "        self.make = make\n",
    "        self.model = model\n",
    "        self.color = 'No color yet. You need to paint me.'\n",
    "        self.wheels = Car.num_wheels\n",
    "        self.gas = Car.gas\n",
    "\n",
    "    def paint(self, color):\n",
    "        self.color = color\n",
    "        return self.make + ' ' + self.model + ' is now ' + color\n",
    "\n",
    "    def drive(self):\n",
    "        if self.wheels < Car.num_wheels or self.gas <= 0:\n",
    "            return self.make + ' ' + self.model + ' cannot drive!'\n",
    "        self.gas -= 10\n",
    "        return self.make + ' ' + self.model + ' goes vroom!'\n",
    "\n",
    "    def pop_tire(self):\n",
    "        if self.wheels > 0:\n",
    "            self.wheels -= 1\n",
    "\n",
    "    def fill_gas(self):\n",
    "        self.gas += 20\n",
    "        return self.make + ' ' + self.model + ' gas level: ' + str(self.gas)"
   ]
  },
  {
   "cell_type": "code",
   "execution_count": 15,
   "metadata": {
    "ExecuteTime": {
     "end_time": "2023-03-22T03:07:02.844063Z",
     "start_time": "2023-03-22T03:07:02.839548Z"
    }
   },
   "outputs": [],
   "source": [
    "class MonsterTruck(Car):\n",
    "    size = 'Monster'\n",
    "\n",
    "    def rev(self):\n",
    "        print('Vroom! This Monster Truck is huge!')\n",
    "\n",
    "    def drive(self):\n",
    "        self.rev()\n",
    "        return Car.drive(self)"
   ]
  },
  {
   "cell_type": "markdown",
   "metadata": {},
   "source": [
    "## Q2 Using the Car class"
   ]
  },
  {
   "cell_type": "code",
   "execution_count": 25,
   "metadata": {
    "ExecuteTime": {
     "end_time": "2023-03-22T03:36:04.791634Z",
     "start_time": "2023-03-22T03:36:04.787155Z"
    }
   },
   "outputs": [],
   "source": [
    "deneros_car = Car('Tesla','Model S')"
   ]
  },
  {
   "cell_type": "code",
   "execution_count": 26,
   "metadata": {
    "ExecuteTime": {
     "end_time": "2023-03-22T03:36:11.974895Z",
     "start_time": "2023-03-22T03:36:11.969085Z"
    }
   },
   "outputs": [
    {
     "data": {
      "text/plain": [
       "'No color yet. You need to paint me.'"
      ]
     },
     "execution_count": 26,
     "metadata": {},
     "output_type": "execute_result"
    }
   ],
   "source": [
    "deneros_car.color"
   ]
  },
  {
   "cell_type": "code",
   "execution_count": 27,
   "metadata": {
    "ExecuteTime": {
     "end_time": "2023-03-22T03:36:30.012845Z",
     "start_time": "2023-03-22T03:36:30.007819Z"
    }
   },
   "outputs": [
    {
     "data": {
      "text/plain": [
       "'black'"
      ]
     },
     "execution_count": 27,
     "metadata": {},
     "output_type": "execute_result"
    }
   ],
   "source": [
    "deneros_car.paint('black')\n",
    "deneros_car.color"
   ]
  },
  {
   "cell_type": "code",
   "execution_count": 28,
   "metadata": {
    "ExecuteTime": {
     "end_time": "2023-03-22T03:36:39.677246Z",
     "start_time": "2023-03-22T03:36:39.672258Z"
    }
   },
   "outputs": [
    {
     "data": {
      "text/plain": [
       "'Model S'"
      ]
     },
     "execution_count": 28,
     "metadata": {},
     "output_type": "execute_result"
    }
   ],
   "source": [
    "deneros_car.model"
   ]
  },
  {
   "cell_type": "code",
   "execution_count": 29,
   "metadata": {
    "ExecuteTime": {
     "end_time": "2023-03-22T03:36:52.909078Z",
     "start_time": "2023-03-22T03:36:52.904094Z"
    }
   },
   "outputs": [
    {
     "data": {
      "text/plain": [
       "'Tesla Model S goes vroom!'"
      ]
     },
     "execution_count": 29,
     "metadata": {},
     "output_type": "execute_result"
    }
   ],
   "source": [
    "deneros_car.gas = 10\n",
    "deneros_car.drive()"
   ]
  },
  {
   "cell_type": "code",
   "execution_count": 30,
   "metadata": {
    "ExecuteTime": {
     "end_time": "2023-03-22T03:36:58.077222Z",
     "start_time": "2023-03-22T03:36:58.072278Z"
    }
   },
   "outputs": [
    {
     "data": {
      "text/plain": [
       "'Tesla Model S cannot drive!'"
      ]
     },
     "execution_count": 30,
     "metadata": {},
     "output_type": "execute_result"
    }
   ],
   "source": [
    "deneros_car.drive()"
   ]
  },
  {
   "cell_type": "code",
   "execution_count": 31,
   "metadata": {
    "ExecuteTime": {
     "end_time": "2023-03-22T03:37:09.418540Z",
     "start_time": "2023-03-22T03:37:09.413332Z"
    }
   },
   "outputs": [
    {
     "data": {
      "text/plain": [
       "'Tesla Model S gas level: 20'"
      ]
     },
     "execution_count": 31,
     "metadata": {},
     "output_type": "execute_result"
    }
   ],
   "source": [
    "deneros_car.fill_gas()"
   ]
  },
  {
   "cell_type": "code",
   "execution_count": 32,
   "metadata": {
    "ExecuteTime": {
     "end_time": "2023-03-22T03:37:13.258155Z",
     "start_time": "2023-03-22T03:37:13.253449Z"
    }
   },
   "outputs": [
    {
     "data": {
      "text/plain": [
       "20"
      ]
     },
     "execution_count": 32,
     "metadata": {},
     "output_type": "execute_result"
    }
   ],
   "source": [
    "deneros_car.gas"
   ]
  },
  {
   "cell_type": "code",
   "execution_count": 33,
   "metadata": {
    "ExecuteTime": {
     "end_time": "2023-03-22T03:37:21.787276Z",
     "start_time": "2023-03-22T03:37:21.780533Z"
    }
   },
   "outputs": [
    {
     "data": {
      "text/plain": [
       "30"
      ]
     },
     "execution_count": 33,
     "metadata": {},
     "output_type": "execute_result"
    }
   ],
   "source": [
    "Car.gas"
   ]
  },
  {
   "cell_type": "code",
   "execution_count": 34,
   "metadata": {
    "ExecuteTime": {
     "end_time": "2023-03-22T03:37:34.261374Z",
     "start_time": "2023-03-22T03:37:34.255893Z"
    }
   },
   "outputs": [
    {
     "data": {
      "text/plain": [
       "2"
      ]
     },
     "execution_count": 34,
     "metadata": {},
     "output_type": "execute_result"
    }
   ],
   "source": [
    "Car.headlights"
   ]
  },
  {
   "cell_type": "code",
   "execution_count": 35,
   "metadata": {
    "ExecuteTime": {
     "end_time": "2023-03-22T03:37:40.113258Z",
     "start_time": "2023-03-22T03:37:40.108222Z"
    }
   },
   "outputs": [
    {
     "data": {
      "text/plain": [
       "2"
      ]
     },
     "execution_count": 35,
     "metadata": {},
     "output_type": "execute_result"
    }
   ],
   "source": [
    "deneros_car.headlights"
   ]
  },
  {
   "cell_type": "code",
   "execution_count": 36,
   "metadata": {
    "ExecuteTime": {
     "end_time": "2023-03-22T03:37:45.604300Z",
     "start_time": "2023-03-22T03:37:45.600761Z"
    }
   },
   "outputs": [],
   "source": [
    "Car.headlights = 3"
   ]
  },
  {
   "cell_type": "code",
   "execution_count": 37,
   "metadata": {
    "ExecuteTime": {
     "end_time": "2023-03-22T03:37:54.225796Z",
     "start_time": "2023-03-22T03:37:54.220787Z"
    }
   },
   "outputs": [
    {
     "data": {
      "text/plain": [
       "3"
      ]
     },
     "execution_count": 37,
     "metadata": {},
     "output_type": "execute_result"
    }
   ],
   "source": [
    "deneros_car.headlights"
   ]
  },
  {
   "cell_type": "code",
   "execution_count": 38,
   "metadata": {
    "ExecuteTime": {
     "end_time": "2023-03-22T03:38:13.993403Z",
     "start_time": "2023-03-22T03:38:13.988056Z"
    }
   },
   "outputs": [
    {
     "data": {
      "text/plain": [
       "3"
      ]
     },
     "execution_count": 38,
     "metadata": {},
     "output_type": "execute_result"
    }
   ],
   "source": [
    "deneros_car.headlights = 2\n",
    "Car.headlights"
   ]
  },
  {
   "cell_type": "code",
   "execution_count": 39,
   "metadata": {
    "ExecuteTime": {
     "end_time": "2023-03-22T03:38:26.633099Z",
     "start_time": "2023-03-22T03:38:26.628127Z"
    }
   },
   "outputs": [
    {
     "data": {
      "text/plain": [
       "2"
      ]
     },
     "execution_count": 39,
     "metadata": {},
     "output_type": "execute_result"
    }
   ],
   "source": [
    "deneros_car.wheels = 2\n",
    "deneros_car.wheels"
   ]
  },
  {
   "cell_type": "code",
   "execution_count": 40,
   "metadata": {
    "ExecuteTime": {
     "end_time": "2023-03-22T03:38:31.050833Z",
     "start_time": "2023-03-22T03:38:31.045231Z"
    }
   },
   "outputs": [
    {
     "data": {
      "text/plain": [
       "4"
      ]
     },
     "execution_count": 40,
     "metadata": {},
     "output_type": "execute_result"
    }
   ],
   "source": [
    "Car.num_wheels"
   ]
  },
  {
   "cell_type": "code",
   "execution_count": 41,
   "metadata": {
    "ExecuteTime": {
     "end_time": "2023-03-22T03:38:43.885329Z",
     "start_time": "2023-03-22T03:38:43.880366Z"
    }
   },
   "outputs": [
    {
     "data": {
      "text/plain": [
       "'Tesla Model S cannot drive!'"
      ]
     },
     "execution_count": 41,
     "metadata": {},
     "output_type": "execute_result"
    }
   ],
   "source": [
    "deneros_car.drive()"
   ]
  },
  {
   "cell_type": "code",
   "execution_count": 56,
   "metadata": {
    "ExecuteTime": {
     "end_time": "2023-03-22T03:41:53.216162Z",
     "start_time": "2023-03-22T03:41:53.212523Z"
    }
   },
   "outputs": [],
   "source": [
    "# Car.drive()"
   ]
  },
  {
   "cell_type": "code",
   "execution_count": 46,
   "metadata": {
    "ExecuteTime": {
     "end_time": "2023-03-22T03:39:33.890028Z",
     "start_time": "2023-03-22T03:39:33.884669Z"
    }
   },
   "outputs": [
    {
     "data": {
      "text/plain": [
       "'Tesla Model S cannot drive!'"
      ]
     },
     "execution_count": 46,
     "metadata": {},
     "output_type": "execute_result"
    }
   ],
   "source": [
    "Car.drive(deneros_car)"
   ]
  },
  {
   "cell_type": "code",
   "execution_count": 47,
   "metadata": {
    "ExecuteTime": {
     "end_time": "2023-03-22T03:40:03.154541Z",
     "start_time": "2023-03-22T03:40:03.151270Z"
    }
   },
   "outputs": [],
   "source": [
    "deneros_car = MonsterTruck('Monster','Batmobile')"
   ]
  },
  {
   "cell_type": "code",
   "execution_count": 48,
   "metadata": {
    "ExecuteTime": {
     "end_time": "2023-03-22T03:40:27.814109Z",
     "start_time": "2023-03-22T03:40:27.808359Z"
    }
   },
   "outputs": [
    {
     "name": "stdout",
     "output_type": "stream",
     "text": [
      "Vroom! This Monster Truck is huge!\n"
     ]
    },
    {
     "data": {
      "text/plain": [
       "'Monster Batmobile goes vroom!'"
      ]
     },
     "execution_count": 48,
     "metadata": {},
     "output_type": "execute_result"
    }
   ],
   "source": [
    "deneros_car.drive()"
   ]
  },
  {
   "cell_type": "code",
   "execution_count": 50,
   "metadata": {
    "ExecuteTime": {
     "end_time": "2023-03-22T03:40:53.066759Z",
     "start_time": "2023-03-22T03:40:53.061454Z"
    }
   },
   "outputs": [
    {
     "data": {
      "text/plain": [
       "'Monster Batmobile goes vroom!'"
      ]
     },
     "execution_count": 50,
     "metadata": {},
     "output_type": "execute_result"
    }
   ],
   "source": [
    "Car.drive(deneros_car)"
   ]
  },
  {
   "cell_type": "code",
   "execution_count": 52,
   "metadata": {
    "ExecuteTime": {
     "end_time": "2023-03-22T03:41:25.465761Z",
     "start_time": "2023-03-22T03:41:25.460159Z"
    }
   },
   "outputs": [
    {
     "name": "stdout",
     "output_type": "stream",
     "text": [
      "Vroom! This Monster Truck is huge!\n"
     ]
    },
    {
     "data": {
      "text/plain": [
       "'Monster Batmobile goes vroom!'"
      ]
     },
     "execution_count": 52,
     "metadata": {},
     "output_type": "execute_result"
    }
   ],
   "source": [
    "MonsterTruck.drive(deneros_car)"
   ]
  },
  {
   "cell_type": "code",
   "execution_count": 54,
   "metadata": {
    "ExecuteTime": {
     "end_time": "2023-03-22T03:41:38.035031Z",
     "start_time": "2023-03-22T03:41:38.032277Z"
    }
   },
   "outputs": [],
   "source": [
    "# Car.rev(deneros_car)"
   ]
  },
  {
   "cell_type": "markdown",
   "metadata": {},
   "source": [
    "## Q3 "
   ]
  },
  {
   "cell_type": "code",
   "execution_count": 57,
   "metadata": {
    "ExecuteTime": {
     "end_time": "2023-03-22T03:51:15.942317Z",
     "start_time": "2023-03-22T03:51:15.936252Z"
    }
   },
   "outputs": [],
   "source": [
    "class Card(object):\n",
    "    cardtype = 'Staff'\n",
    "\n",
    "    def __init__(self, name, attack, defense):\n",
    "        \"\"\"\n",
    "        Create a Card object with a name, attack,\n",
    "        and defense.\n",
    "        >>> staff_member = Card('staff', 400, 300)\n",
    "        >>> staff_member.name\n",
    "        'staff'\n",
    "        >>> staff_member.attack\n",
    "        400\n",
    "        >>> staff_member.defense\n",
    "        300\n",
    "        >>> other_staff = Card('other', 300, 500)\n",
    "        >>> other_staff.attack\n",
    "        300\n",
    "        >>> other_staff.defense\n",
    "        500\n",
    "        \"\"\"\n",
    "        \"*** YOUR CODE HERE ***\"\n",
    "        self.name = name\n",
    "        self.attack = attack\n",
    "        self.defense = defense\n",
    "        \n",
    "    def power(self, other_card):\n",
    "        \"\"\"\n",
    "        Calculate power as:\n",
    "        (player card's attack) - (opponent card's defense)/2\n",
    "        where other_card is the opponent's card.\n",
    "        >>> staff_member = Card('staff', 400, 300)\n",
    "        >>> other_staff = Card('other', 300, 500)\n",
    "        >>> staff_member.power(other_staff)\n",
    "        150.0\n",
    "        >>> other_staff.power(staff_member)\n",
    "        150.0\n",
    "        >>> third_card = Card('third', 200, 400)\n",
    "        >>> staff_member.power(third_card)\n",
    "        200.0\n",
    "        >>> third_card.power(staff_member)\n",
    "        50.0\n",
    "        \"\"\"\n",
    "        \"*** YOUR CODE HERE ***\"\n",
    "        return self.attack - other_card.defense/2"
   ]
  },
  {
   "cell_type": "code",
   "execution_count": 58,
   "metadata": {
    "ExecuteTime": {
     "end_time": "2023-03-22T03:51:31.210855Z",
     "start_time": "2023-03-22T03:51:31.207159Z"
    }
   },
   "outputs": [],
   "source": [
    "staff_member = Card('staff', 400, 300)\n",
    "other_staff = Card('other', 300, 500)\n",
    "third_card = Card('third', 200, 400)"
   ]
  },
  {
   "cell_type": "markdown",
   "metadata": {},
   "source": [
    "## Q4: Making a Player"
   ]
  },
  {
   "cell_type": "code",
   "execution_count": 71,
   "metadata": {
    "ExecuteTime": {
     "end_time": "2023-03-22T04:08:50.820766Z",
     "start_time": "2023-03-22T04:08:50.815247Z"
    }
   },
   "outputs": [],
   "source": [
    "class Player(object):\n",
    "    def __init__(self,name,deck):\n",
    "        self.name = name\n",
    "        self.deck = deck\n",
    "        self.hand = [self.deck.draw() for _ in range(5)]\n",
    "        \n",
    "    def draw(self):\n",
    "        assert not self.deck.is_empty(), 'Deck is empty!'\n",
    "        \"*** YOUR CODE HERE ***\"\n",
    "        self.hand.append(self.deck.draw())\n",
    "        \n",
    "    def play(self, card_index):\n",
    "        \"*** YOUR CODE HERE ***\"\n",
    "        return self.hand.pop(card_index)"
   ]
  },
  {
   "cell_type": "markdown",
   "metadata": {
    "ExecuteTime": {
     "end_time": "2023-03-22T04:05:42.152008Z",
     "start_time": "2023-03-22T04:05:42.140235Z"
    }
   },
   "source": [
    "## Q5: Tutors:Flummox"
   ]
  },
  {
   "cell_type": "code",
   "execution_count": 78,
   "metadata": {
    "ExecuteTime": {
     "end_time": "2023-03-22T07:25:23.994891Z",
     "start_time": "2023-03-22T07:25:23.989899Z"
    }
   },
   "outputs": [],
   "source": [
    "class TutorCard(Card):\n",
    "    cardtype = 'Tutor'\n",
    "\n",
    "    def effect(self, other_card, player, opponent):\n",
    "        opponent.hand = opponent.hand[3:]\n",
    "        opponent.hand = opponent.hand + [opponent.hand.draw() for _ in range(3)]\n",
    "        #Uncomment the line below when you've finished implementing this method!\n",
    "        print('{} discarded and re-drew 3 cards!'.format(opponent.name))"
   ]
  },
  {
   "cell_type": "markdown",
   "metadata": {
    "ExecuteTime": {
     "end_time": "2023-03-22T07:19:53.265580Z",
     "start_time": "2023-03-22T07:19:53.261348Z"
    }
   },
   "source": [
    "## Q6: TAs: Shift"
   ]
  },
  {
   "cell_type": "code",
   "execution_count": 77,
   "metadata": {
    "ExecuteTime": {
     "end_time": "2023-03-22T07:25:23.123587Z",
     "start_time": "2023-03-22T07:25:23.118526Z"
    }
   },
   "outputs": [],
   "source": [
    "class TACard(Card):\n",
    "    cardtype = 'TA'\n",
    "\n",
    "    def effect(self, other_card, player, opponent):\n",
    "        \"\"\"\n",
    "        Swap the attack and defense of an opponent's card.\n",
    "        >>> from cards import *\n",
    "        >>> player1, player2 = Player(player_deck, 'p1'), Player(opponent_deck, 'p2')\n",
    "        >>> other_card = Card('other', 300, 600)\n",
    "        >>> ta_test = TACard('TA', 500, 500)\n",
    "        >>> ta_test.effect(other_card, player1, player2)\n",
    "        >>> other_card.attack\n",
    "        600\n",
    "        >>> other_card.defense\n",
    "        300\n",
    "        \"\"\"\n",
    "        \"*** YOUR CODE HERE ***\"\n",
    "        other_card.attack, other_card.defense = other_card.defense, other_card.attack"
   ]
  },
  {
   "cell_type": "markdown",
   "metadata": {},
   "source": [
    "## Q7: The Professor Arrives"
   ]
  },
  {
   "cell_type": "code",
   "execution_count": null,
   "metadata": {},
   "outputs": [],
   "source": [
    "class ProfessorCard(Card):\n",
    "    cardtype = 'Professor'\n",
    "\n",
    "    def effect(self, other_card, player, opponent):\n",
    "        orig_opponent_deck_length = len(opponent.deck.cards)\n",
    "        \"*** YOUR CODE HERE ***\"\n",
    "        for card in player.deck.cards:\n",
    "            card.attack += other_card.attack\n",
    "            card.defense += other_card.defense\n",
    "        for card in opponent.deck.cards:\n",
    "            if card.attack == other_card.attack or card.defense == other_card.defense:\n",
    "                opponent.deck.cards.remove(card)\n",
    "        discarded = orig_opponent_deck_length - len(opponent.deck.cards)\n",
    "        if discarded:\n",
    "            print('{} cards were discarded from {}\\'s deck!'.format(discarded, opponent.name))\n",
    "            return"
   ]
  }
 ],
 "metadata": {
  "kernelspec": {
   "display_name": "Python 3",
   "language": "python",
   "name": "python3"
  },
  "language_info": {
   "codemirror_mode": {
    "name": "ipython",
    "version": 3
   },
   "file_extension": ".py",
   "mimetype": "text/x-python",
   "name": "python",
   "nbconvert_exporter": "python",
   "pygments_lexer": "ipython3",
   "version": "3.8.5"
  },
  "toc": {
   "base_numbering": 1,
   "nav_menu": {},
   "number_sections": true,
   "sideBar": true,
   "skip_h1_title": false,
   "title_cell": "Table of Contents",
   "title_sidebar": "Contents",
   "toc_cell": false,
   "toc_position": {},
   "toc_section_display": true,
   "toc_window_display": false
  }
 },
 "nbformat": 4,
 "nbformat_minor": 4
}
