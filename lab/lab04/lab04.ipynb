{
 "cells": [
  {
   "cell_type": "code",
   "execution_count": 5,
   "id": "422d0464",
   "metadata": {},
   "outputs": [],
   "source": [
    "def if_this_not_that(i_list, this):\n",
    "    \"\"\"Define a function which takes a list of integers `i_list` and an integer\n",
    "    `this`. For each element in `i_list`, print the element if it is larger\n",
    "    than `this`; otherwise, print the word \"that\".\n",
    "\n",
    "    >>> original_list = [1, 2, 3, 4, 5]\n",
    "    >>> if_this_not_that(original_list, 3)\n",
    "    that\n",
    "    that\n",
    "    that\n",
    "    4\n",
    "    5\n",
    "    \"\"\"\n",
    "    \"*** YOUR CODE HERE ***\"\n",
    "    for i in i_list:\n",
    "        if i  > this:\n",
    "            print(i)\n",
    "        else:\n",
    "            print('that')"
   ]
  },
  {
   "cell_type": "code",
   "execution_count": 3,
   "id": "71ab2a53",
   "metadata": {},
   "outputs": [],
   "source": [
    "original_list = [1, 2, 3, 4, 5]"
   ]
  },
  {
   "cell_type": "code",
   "execution_count": 6,
   "id": "b7dbaf6b",
   "metadata": {
    "scrolled": true
   },
   "outputs": [
    {
     "name": "stdout",
     "output_type": "stream",
     "text": [
      "that\n",
      "that\n",
      "that\n",
      "4\n",
      "5\n"
     ]
    }
   ],
   "source": [
    "if_this_not_that(original_list, 3)"
   ]
  },
  {
   "cell_type": "code",
   "execution_count": 8,
   "id": "46101669",
   "metadata": {},
   "outputs": [],
   "source": [
    "# City ADT\n",
    "def make_city(name, lat, lon):\n",
    "    \"\"\"\n",
    "    >>> city = make_city('Berkeley', 0, 1)\n",
    "    >>> get_name(city)\n",
    "    'Berkeley'\n",
    "    >>> get_lat(city)\n",
    "    0\n",
    "    >>> get_lon(city)\n",
    "    1\n",
    "    \"\"\"\n",
    "    return [name, lat, lon]\n",
    "\n",
    "def get_name(city):\n",
    "    \"\"\"\n",
    "    >>> city = make_city('Berkeley', 0, 1)\n",
    "    >>> get_name(city)\n",
    "    'Berkeley'\n",
    "    \"\"\"\n",
    "    return city[0]\n",
    "\n",
    "def get_lat(city):\n",
    "    \"\"\"\n",
    "    >>> city = make_city('Berkeley', 0, 1)\n",
    "    >>> get_lat(city)\n",
    "    0\n",
    "    \"\"\"\n",
    "    return city[1]\n",
    "\n",
    "def get_lon(city):\n",
    "    \"\"\"\n",
    "    >>> city = make_city('Berkeley', 0, 1)\n",
    "    >>> get_lon(city)\n",
    "    1\n",
    "    \"\"\"\n",
    "    return city[2]\n",
    "\n",
    "# Q4\n",
    "from math import sqrt\n",
    "def distance(city1, city2):\n",
    "    \"\"\"\n",
    "    >>> city1 = make_city('city1', 0, 1)\n",
    "    >>> city2 = make_city('city2', 0, 2)\n",
    "    >>> distance(city1, city2)\n",
    "    1.0\n",
    "    >>> city3 = make_city('city3', 6.5, 12)\n",
    "    >>> city4 = make_city('city4', 2.5, 15)\n",
    "    >>> distance(city3, city4)\n",
    "    5.0\n",
    "    \"\"\"\n",
    "    \"*** YOUR CODE HERE ***\"\n",
    "    return sqrt((get_lat(city1)-get_lat(city2)) ** 2 + (get_lon(city1) - get_lon(city2))**2)"
   ]
  },
  {
   "cell_type": "code",
   "execution_count": 13,
   "id": "b97b9f02",
   "metadata": {},
   "outputs": [],
   "source": [
    "def closer_city(lat, lon, city1, city2):\n",
    "    \"\"\"\n",
    "    Returns the name of either city1 or city2, whichever is closest to\n",
    "    coordinate (lat, lon).\n",
    "\n",
    "    >>> berkeley = make_city('Berkeley', 37.87, 112.26)\n",
    "    >>> stanford = make_city('Stanford', 34.05, 118.25)\n",
    "    >>> closer_city(38.33, 121.44, berkeley, stanford)\n",
    "    'Stanford'\n",
    "    >>> bucharest = make_city('Bucharest', 44.43, 26.10)\n",
    "    >>> vienna = make_city('Vienna', 48.20, 16.37)\n",
    "    >>> closer_city(41.29, 174.78, bucharest, vienna)\n",
    "    'Bucharest'\n",
    "    \"\"\"\n",
    "    \"*** YOUR CODE HERE ***\"\n",
    "    new_city = make_city('new',lat,lon)\n",
    "    if distance(new_city,city1) < distance(new_city,city2):\n",
    "        return get_name(city1)\n",
    "    else:\n",
    "        return get_name(city2)"
   ]
  },
  {
   "cell_type": "code",
   "execution_count": 37,
   "id": "cf53ef0e",
   "metadata": {},
   "outputs": [],
   "source": [
    "def flatten(lst):\n",
    "    \"\"\"Returns a flattened version of lst.\n",
    "\n",
    "    >>> flatten([1, 2, 3])     # normal list\n",
    "    [1, 2, 3]\n",
    "    >>> x = [1, [2, 3], 4]      # deep list\n",
    "    >>> flatten(x)\n",
    "    [1, 2, 3, 4]\n",
    "    >>> x = [[1, [1, 1]], 1, [1, 1]] # deep list\n",
    "    >>> flatten(x)\n",
    "    [1, 1, 1, 1, 1, 1]\n",
    "    \"\"\"\n",
    "    \"*** YOUR CODE HERE ***\"\n",
    "    output_list = []\n",
    "    for i in lst:\n",
    "        if type(i) == list:\n",
    "            flattened_list = flatten(i)\n",
    "            output_list = output_list + flattened_list\n",
    "        else:\n",
    "            output_list = output_list + [i]\n",
    "                \n",
    "    return output_list\n",
    "            \n",
    "            "
   ]
  },
  {
   "cell_type": "code",
   "execution_count": 74,
   "id": "9c3ad1eb",
   "metadata": {},
   "outputs": [],
   "source": [
    "def merge(lst1, lst2):\n",
    "    \"\"\"Merges two sorted lists.\n",
    "\n",
    "    >>> merge([1, 3, 5], [2, 4, 6])\n",
    "    [1, 2, 3, 4, 5, 6]\n",
    "    >>> merge([], [2, 4, 6])\n",
    "    [2, 4, 6]\n",
    "    >>> merge([1, 2, 3], [])\n",
    "    [1, 2, 3]\n",
    "    >>> merge([5, 7], [2, 4, 6])\n",
    "    [2, 4, 5, 6, 7]\n",
    "    \"\"\"\n",
    "    \"*** YOUR CODE HERE ***\"\n",
    "    if len(lst1) != 0: \n",
    "        for i in lst2:\n",
    "            for j in lst1:\n",
    "                    if i < j:\n",
    "                        lst1.insert(lst1.index(j),i)\n",
    "                        break\n",
    "            if i > max(lst1):\n",
    "                lst1.insert(len(lst)+1,i)\n",
    "        return lst1\n",
    "    else:\n",
    "        return lst2\n",
    "                \n",
    "    "
   ]
  },
  {
   "cell_type": "code",
   "execution_count": 79,
   "id": "0b4fb302",
   "metadata": {},
   "outputs": [
    {
     "data": {
      "text/plain": [
       "[1, 2, 3, 7, 8, 9]"
      ]
     },
     "execution_count": 79,
     "metadata": {},
     "output_type": "execute_result"
    }
   ],
   "source": [
    "merge([1,3,7], [2, 8, 9])"
   ]
  },
  {
   "cell_type": "code",
   "execution_count": 3,
   "id": "012c88ed",
   "metadata": {},
   "outputs": [],
   "source": [
    "def create_row(size):\n",
    "    \"\"\"Returns a single, empty row with the given size. Each empty spot is\n",
    "    represented by the string '-'.\n",
    "\n",
    "    >>> create_row(5)\n",
    "    ['-', '-', '-', '-', '-']\n",
    "    \"\"\"\n",
    "    \"*** YOUR CODE HERE ***\"\n",
    "    row_list = []\n",
    "    for i in range(size):\n",
    "        row_list.append('-')\n",
    "        \n",
    "    return row_list"
   ]
  },
  {
   "cell_type": "code",
   "execution_count": 4,
   "id": "295f282c",
   "metadata": {},
   "outputs": [
    {
     "data": {
      "text/plain": [
       "['-', '-', '-', '-', '-']"
      ]
     },
     "execution_count": 4,
     "metadata": {},
     "output_type": "execute_result"
    }
   ],
   "source": [
    "create_row(5)"
   ]
  },
  {
   "cell_type": "code",
   "execution_count": 5,
   "id": "ab6847da",
   "metadata": {},
   "outputs": [],
   "source": [
    "# Q9\n",
    "def create_board(rows, columns):\n",
    "    \"\"\"Returns a board with the given dimensions.\n",
    "\n",
    "    >>> create_board(3, 5)\n",
    "    [['-', '-', '-', '-', '-'], ['-', '-', '-', '-', '-'], ['-', '-', '-', '-', '-']]\n",
    "    \"\"\"\n",
    "    \"*** YOUR CODE HERE ***\"\n",
    "    board_list = []\n",
    "    for i in range(rows):\n",
    "        board_list.append(create_row(columns))\n",
    "        \n",
    "    return board_list"
   ]
  },
  {
   "cell_type": "code",
   "execution_count": 6,
   "id": "55ca9719",
   "metadata": {},
   "outputs": [
    {
     "data": {
      "text/plain": [
       "[['-', '-', '-', '-', '-'],\n",
       " ['-', '-', '-', '-', '-'],\n",
       " ['-', '-', '-', '-', '-']]"
      ]
     },
     "execution_count": 6,
     "metadata": {},
     "output_type": "execute_result"
    }
   ],
   "source": [
    "create_board(3, 5)"
   ]
  },
  {
   "cell_type": "code",
   "execution_count": 7,
   "id": "3c49ae6e",
   "metadata": {},
   "outputs": [],
   "source": [
    "# Q10\n",
    "def replace_elem(lst, index, elem):\n",
    "    \"\"\"Create and return a new list whose elements are the same as those in\n",
    "    LST except at index INDEX, which should contain element ELEM instead.\n",
    "\n",
    "    >>> old = [1, 2, 3, 4, 5, 6, 7]\n",
    "    >>> new = replace_elem(old, 2, 8)\n",
    "    >>> new\n",
    "    [1, 2, 8, 4, 5, 6, 7]\n",
    "    >>> new is old   # check that replace_elem outputs a new list\n",
    "    False\n",
    "    \"\"\"\n",
    "    assert index >= 0 and index < len(lst), 'Index is out of bounds'\n",
    "    \"*** YOUR CODE HERE ***\"\n",
    "    lst[index] = elem\n",
    "    \n",
    "    return lst"
   ]
  },
  {
   "cell_type": "code",
   "execution_count": 13,
   "id": "c02cf77f",
   "metadata": {},
   "outputs": [
    {
     "data": {
      "text/plain": [
       "[7, 6, 5, 4, 8, 2, 1]"
      ]
     },
     "execution_count": 13,
     "metadata": {},
     "output_type": "execute_result"
    }
   ],
   "source": [
    "old = [1, 2, 3, 4, 5, 6, 7]\n",
    "new = replace_elem(old, 2, 8)\n",
    "new[::-1]"
   ]
  },
  {
   "cell_type": "code",
   "execution_count": 9,
   "id": "bb019659",
   "metadata": {},
   "outputs": [],
   "source": [
    "# Q11\n",
    "def get_piece(board, row, column):\n",
    "    \"\"\"Returns the piece at location (row, column) in the board.\n",
    "\n",
    "    >>> rows, columns = 2, 2\n",
    "    >>> board = create_board(rows, columns)\n",
    "    >>> board = put_piece(board, rows, 0, 'X')[1] # Puts piece \"X\" in column 0 of board and updates board\n",
    "    >>> board = put_piece(board, rows, 0, 'O')[1] # Puts piece \"O\" in column 0 of board and updates board\n",
    "    >>> get_piece(board, 1, 0)\n",
    "    'X'\n",
    "    >>> get_piece(board, 1, 1)\n",
    "    '-'\n",
    "    \"\"\"\n",
    "    \"*** YOUR CODE HERE ***\"\n",
    "    return board[row][column]"
   ]
  },
  {
   "cell_type": "code",
   "execution_count": 45,
   "id": "bb02507b",
   "metadata": {},
   "outputs": [],
   "source": [
    "def put_piece(board, max_rows, column, player):\n",
    "    \"\"\"Puts PLAYER's piece in the bottommost empty spot in the given column of\n",
    "    the board. Returns a tuple of two elements:\n",
    "\n",
    "        1. The index of the row the piece ends up in, or -1 if the column\n",
    "           is full.\n",
    "        2. The new board\n",
    "\n",
    "    >>> rows, columns = 2, 2\n",
    "    >>> board = create_board(rows, columns)\n",
    "    >>> row, new_board = put_piece(board, rows, 0, 'X')\n",
    "    >>> row\n",
    "    1\n",
    "    >>> row, new_board = put_piece(new_board, rows, 0, 'O')\n",
    "    >>> row\n",
    "    0\n",
    "    >>> row, new_board = put_piece(new_board, rows, 0, 'X')\n",
    "    >>> row\n",
    "    -1\n",
    "    replace_elem(lst, index, elem):\n",
    "    \"\"\"\n",
    "    \"*** YOUR CODE HERE ***\"\n",
    "    row = max_rows\n",
    "    i = len(board) - 1\n",
    "    while i > -1:\n",
    "        row = row - 1\n",
    "        if board[i][column] == '-':\n",
    "            board[i] = replace_elem(board[i], column, player)\n",
    "            break\n",
    "        else:\n",
    "            i = i - 1\n",
    "        \n",
    "    if i < 0:\n",
    "        return -1, board\n",
    "    else:\n",
    "        return row, board"
   ]
  },
  {
   "cell_type": "code",
   "execution_count": 64,
   "id": "a9ccbe1c",
   "metadata": {},
   "outputs": [],
   "source": [
    "# Q12\n",
    "def make_move(board, max_rows, max_cols, col, player):\n",
    "    \"\"\"Put player's piece in column COL of the board, if it is a valid move.\n",
    "    Return a tuple of two values:\n",
    "\n",
    "        1. If the move is valid, make_move returns the index of the row the\n",
    "           piece is placed in. Otherwise, it returns -1.\n",
    "        2. The updated board\n",
    "\n",
    "    >>> rows, columns = 2, 2\n",
    "    >>> board = create_board(rows, columns)\n",
    "    >>> row, board = make_move(board, rows, columns, 0, 'X')\n",
    "    >>> row\n",
    "    1\n",
    "    >>> get_piece(board, 1, 0)\n",
    "    'X'\n",
    "    >>> row, board = make_move(board, rows, columns, 0, 'O')\n",
    "    >>> row\n",
    "    0\n",
    "    >>> row, board = make_move(board, rows, columns, 0, 'X')\n",
    "    >>> row\n",
    "    -1\n",
    "    >>> row, board = make_move(board, rows, columns, -4, '0')\n",
    "    >>> row\n",
    "    -1\n",
    "    \"\"\"\n",
    "    \"*** YOUR CODE HERE ***\"\n",
    "    if col > max_cols or col < 0:\n",
    "        return -1, board\n",
    "    else:\n",
    "        row = max_rows\n",
    "        i = len(board) - 1\n",
    "        while i > -1:\n",
    "            row = row - 1\n",
    "            if board[i][col] == '-':\n",
    "                board[i] = replace_elem(board[i], col, player)\n",
    "                break\n",
    "            else:\n",
    "                i = i - 1\n",
    "\n",
    "        if i < 0:\n",
    "            return -1, board\n",
    "        else:\n",
    "            return row, board"
   ]
  },
  {
   "cell_type": "code",
   "execution_count": 91,
   "id": "e930d504",
   "metadata": {},
   "outputs": [],
   "source": [
    "# Q13\n",
    "def print_board(board, max_rows, max_cols):\n",
    "    \"\"\"Prints the board. Row 0 is at the top, and column 0 at the far left.\n",
    "\n",
    "    >>> rows, columns = 2, 2\n",
    "    >>> board = create_board(rows, columns)\n",
    "    >>> print_board(board, rows, columns)\n",
    "    - -\n",
    "    - -\n",
    "    >>> new_board = make_move(board, rows, columns, 0, 'X')[1]\n",
    "    >>> print_board(new_board, rows, columns)\n",
    "    - -\n",
    "    X -\n",
    "    \"\"\"\n",
    "    \"*** YOUR CODE HERE ***\"\n",
    "    for i in range(max_rows):\n",
    "        value = ''\n",
    "        for j in range(max_cols):\n",
    "            value = value + ' ' + get_piece(board, i, j)\n",
    "        print(value.strip())\n"
   ]
  },
  {
   "cell_type": "code",
   "execution_count": 127,
   "id": "b9efa9f4",
   "metadata": {},
   "outputs": [],
   "source": [
    "# Q14\n",
    "def check_in_row(board, max_rows, max_cols, num_connect, row, player):\n",
    "    \"\"\" Returns True if the given player has a horizontal win\n",
    "    >>> check_win_row(board, rows, columns, num_connect, 3, 'O')   # We only detect wins for the given player\n",
    "    False\n",
    "    \"\"\"\n",
    "    \"*** YOUR CODE HERE ***\"\n",
    "    if row > max_rows - 1 or row < 0:\n",
    "        return False\n",
    "    else:\n",
    "        is_true = 0\n",
    "        for i in range(max_cols):\n",
    "            if get_piece(board, row, i) == player:\n",
    "                is_true += 1\n",
    "                if is_true == num_connect:\n",
    "                    return True\n",
    "            else: \n",
    "                is_true = 0\n",
    "        return False"
   ]
  },
  {
   "cell_type": "code",
   "execution_count": 128,
   "id": "13de4501",
   "metadata": {},
   "outputs": [],
   "source": [
    "def check_win_column(board, max_rows, max_cols, num_connect, col, player):\n",
    "    \"\"\" Returns True if the given player has a vertical win in the given column,\n",
    "    and otherwise False.\n",
    "\n",
    "    >>> rows, columns, num_connect = 5, 5, 2\n",
    "    >>> board = create_board(rows, columns)\n",
    "    >>> board = make_move(board, rows, columns, 0, 'X')[1]\n",
    "    >>> board = make_move(board, rows, columns, 1, 'O')[1]\n",
    "    >>> check_win_column(board, rows, columns, num_connect, 0, 'X')\n",
    "    False\n",
    "    >>> board = make_move(board, rows, columns, 1, 'X')[1]\n",
    "    >>> board = make_move(board, rows, columns, 1, 'O')[1]\n",
    "    >>> check_win_column(board, rows, columns, num_connect, 1, 'O')\n",
    "    False\n",
    "    >>> board = make_move(board, rows, columns, 2, 'X')[1]\n",
    "    >>> board = make_move(board, rows, columns, 1, 'O')[1]\n",
    "    >>> check_win_column(board, rows, columns, num_connect, 1, 'O')\n",
    "    True\n",
    "    >>> check_win_column(board, rows, columns, 4, 1, 'O')\n",
    "    False\n",
    "    >>> check_win_column(board, rows, columns, num_connect, 1, 'X')\n",
    "    False\n",
    "    \"\"\"\n",
    "    \"*** YOUR CODE HERE ***\"\n",
    "    if col > max_cols - 1 or col < 0:\n",
    "        return False\n",
    "    else:\n",
    "        is_true = 0\n",
    "        for i in range(max_rows):\n",
    "            if get_piece(board, i, col) == player:\n",
    "                is_true += 1\n",
    "                if is_true == num_connect:\n",
    "                    return True\n",
    "            else: \n",
    "                is_true = 0\n",
    "        return False"
   ]
  },
  {
   "cell_type": "code",
   "execution_count": 123,
   "id": "99f9131b",
   "metadata": {},
   "outputs": [
    {
     "data": {
      "text/plain": [
       "[['X', '-'], ['X', 'O']]"
      ]
     },
     "execution_count": 123,
     "metadata": {},
     "output_type": "execute_result"
    }
   ],
   "source": [
    "board"
   ]
  },
  {
   "cell_type": "code",
   "execution_count": 121,
   "id": "d84cd901",
   "metadata": {
    "scrolled": true
   },
   "outputs": [
    {
     "name": "stdout",
     "output_type": "stream",
     "text": [
      "X -\n",
      "X O\n"
     ]
    }
   ],
   "source": [
    "print_board(board, 2, 2)"
   ]
  },
  {
   "cell_type": "code",
   "execution_count": 129,
   "id": "f0e1c017",
   "metadata": {},
   "outputs": [
    {
     "data": {
      "text/plain": [
       "True"
      ]
     },
     "execution_count": 129,
     "metadata": {},
     "output_type": "execute_result"
    }
   ],
   "source": [
    "check_win_column(board, 2, 2, 2, 0, 'X')"
   ]
  },
  {
   "cell_type": "code",
   "execution_count": 111,
   "id": "c69e0c15",
   "metadata": {},
   "outputs": [],
   "source": [
    "# Q15\n",
    "def check_win(board, max_rows, max_cols, num_connect, row, col, player):\n",
    "    \"\"\"Returns True if the given player has any kind of win passing through \n",
    "    (row, col), and False otherwise.\n",
    "\n",
    "    >>> board = create_board(rows, columns)\n",
    "    >>> board = make_move(board, rows, columns, 0, 'X')[1]\n",
    "    >>> board = make_move(board, rows, columns, 0, 'O')[1]\n",
    "    >>> board = make_move(board, rows, columns, 1, 'X')[1]\n",
    "    >>> check_win(board, rows, columns, num_connect, 1, 0, 'X')\n",
    "    True\n",
    "    >>> check_win(board, rows, columns, num_connect, 0, 0, 'X')\n",
    "    False\n",
    "\n",
    "    >>> board = create_board(rows, columns)\n",
    "    >>> board = make_move(board, rows, columns, 0, 'X')[1]\n",
    "    >>> board = make_move(board, rows, columns, 1, 'O')[1]\n",
    "    >>> board = make_move(board, rows, columns, 1, 'X')[1]\n",
    "    >>> check_win(board, rows, columns, num_connect, 0, 0, 'X')\n",
    "    False\n",
    "    >>> check_win(board, rows, columns, num_connect, 1, 0, 'X')\n",
    "    True\n",
    "    \"\"\"\n",
    "    diagonal_win = check_win_diagonal(board, max_rows, max_cols, num_connect,\n",
    "                                      row, col, player)\n",
    "    \"*** YOUR CODE HERE ***\"\n",
    "    row_win = check_win_row(board, max_rows, max_cols, num_connect, row, player)\n",
    "    column_win = check_win_column(board, max_rows, max_cols, num_connect, col, player)\n",
    "    \n",
    "    if diagonal_win == True:\n",
    "        return True\n",
    "    elif row_win == True:\n",
    "        return True\n",
    "    elif column_win == True:\n",
    "        return True\n",
    "    else:\n",
    "        return False"
   ]
  },
  {
   "cell_type": "code",
   "execution_count": 114,
   "id": "e16c12ec",
   "metadata": {},
   "outputs": [
    {
     "name": "stdout",
     "output_type": "stream",
     "text": [
      "X -\n",
      "X O\n"
     ]
    }
   ],
   "source": [
    "rows, columns, num_connect = 2, 2, 2\n",
    "board = create_board(rows, columns)\n",
    "board = make_move(board, rows, columns, 0, 'X')[1]\n",
    "board = make_move(board, rows, columns, 1, 'O')[1]\n",
    "board = make_move(board, rows, columns, 0, 'X')[1]\n",
    "#     >>> check_win(board, rows, columns, num_connect, 0, 0, 'O')\n",
    "#     False\n",
    "#     >>> check_win(board, rows, columns, num_connect, 0, 0, 'X')\n",
    "#     True\n",
    "print_board(board, 2, 2)"
   ]
  },
  {
   "cell_type": "code",
   "execution_count": 130,
   "id": "dd097d2a",
   "metadata": {
    "scrolled": true
   },
   "outputs": [
    {
     "data": {
      "text/plain": [
       "False"
      ]
     },
     "execution_count": 130,
     "metadata": {},
     "output_type": "execute_result"
    }
   ],
   "source": [
    "check_win(board, rows, columns, num_connect, 0, 0, 'O')"
   ]
  },
  {
   "cell_type": "code",
   "execution_count": 131,
   "id": "b5ee7280",
   "metadata": {},
   "outputs": [
    {
     "data": {
      "text/plain": [
       "True"
      ]
     },
     "execution_count": 131,
     "metadata": {},
     "output_type": "execute_result"
    }
   ],
   "source": [
    "check_win(board, rows, columns, num_connect, 0, 0, 'X')"
   ]
  },
  {
   "cell_type": "code",
   "execution_count": 132,
   "id": "348ddd0d",
   "metadata": {},
   "outputs": [
    {
     "data": {
      "text/plain": [
       "False"
      ]
     },
     "execution_count": 132,
     "metadata": {},
     "output_type": "execute_result"
    }
   ],
   "source": [
    "check_win_row(board, 2, 2, num_connect, 0, 'X')"
   ]
  },
  {
   "cell_type": "code",
   "execution_count": 110,
   "id": "005af65f",
   "metadata": {},
   "outputs": [],
   "source": [
    "def check_win_diagonal(board, max_rows, max_cols, num_connect, row, col, player):\n",
    "    \"\"\" Returns True if the given player has a diagonal win passing the spot\n",
    "    (row, column), and False otherwise.\n",
    "    \"\"\"\n",
    "    # Find top left of diagonal passing through (row, col).\n",
    "    adjacent = 0\n",
    "    row_top_left, col_top_left = row, col\n",
    "    while row_top_left > 0 and col_top_left > 0:\n",
    "        row_top_left -= 1\n",
    "        col_top_left -= 1\n",
    "\n",
    "    # Loop through top left to bottom right diagonal and check for win.\n",
    "    while row_top_left < max_rows and col_top_left < max_cols:\n",
    "        piece = get_piece(board, row_top_left, col_top_left)\n",
    "        if piece == player:\n",
    "            adjacent += 1\n",
    "        else:\n",
    "            adjacent = 0\n",
    "        if adjacent >= num_connect:\n",
    "            return True\n",
    "        row_top_left += 1\n",
    "        col_top_left += 1\n",
    "\n",
    "    # Find top right of diagonal passing through (row, col).\n",
    "    adjacent = 0\n",
    "    row_top_right, col_top_right = row, col\n",
    "    while row_top_right > 0 and col_top_right < max_cols - 1:\n",
    "        row_top_right -= 1\n",
    "        col_top_right += 1\n",
    "\n",
    "    # Loop through top right to bottom left diagonal and check for win.\n",
    "    while row_top_right < max_rows and col_top_right >= 0:\n",
    "        piece = get_piece(board, row_top_right, col_top_right)\n",
    "        if piece == player:\n",
    "            adjacent += 1\n",
    "        else:\n",
    "            adjacent = 0\n",
    "        if adjacent >= num_connect:\n",
    "            return True\n",
    "        row_top_right += 1\n",
    "        col_top_right -= 1\n",
    "\n",
    "    return False"
   ]
  }
 ],
 "metadata": {
  "kernelspec": {
   "display_name": "Python 3 (ipykernel)",
   "language": "python",
   "name": "python3"
  },
  "language_info": {
   "codemirror_mode": {
    "name": "ipython",
    "version": 3
   },
   "file_extension": ".py",
   "mimetype": "text/x-python",
   "name": "python",
   "nbconvert_exporter": "python",
   "pygments_lexer": "ipython3",
   "version": "3.9.12"
  },
  "toc": {
   "base_numbering": 1,
   "nav_menu": {},
   "number_sections": true,
   "sideBar": true,
   "skip_h1_title": false,
   "title_cell": "Table of Contents",
   "title_sidebar": "Contents",
   "toc_cell": false,
   "toc_position": {},
   "toc_section_display": true,
   "toc_window_display": false
  }
 },
 "nbformat": 4,
 "nbformat_minor": 5
}
