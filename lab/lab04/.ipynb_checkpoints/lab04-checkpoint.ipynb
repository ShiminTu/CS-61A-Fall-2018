{
 "cells": [
  {
   "cell_type": "code",
   "execution_count": 5,
   "id": "422d0464",
   "metadata": {},
   "outputs": [],
   "source": [
    "def if_this_not_that(i_list, this):\n",
    "    \"\"\"Define a function which takes a list of integers `i_list` and an integer\n",
    "    `this`. For each element in `i_list`, print the element if it is larger\n",
    "    than `this`; otherwise, print the word \"that\".\n",
    "\n",
    "    >>> original_list = [1, 2, 3, 4, 5]\n",
    "    >>> if_this_not_that(original_list, 3)\n",
    "    that\n",
    "    that\n",
    "    that\n",
    "    4\n",
    "    5\n",
    "    \"\"\"\n",
    "    \"*** YOUR CODE HERE ***\"\n",
    "    for i in i_list:\n",
    "        if i  > this:\n",
    "            print(i)\n",
    "        else:\n",
    "            print('that')"
   ]
  },
  {
   "cell_type": "code",
   "execution_count": 3,
   "id": "71ab2a53",
   "metadata": {},
   "outputs": [],
   "source": [
    "original_list = [1, 2, 3, 4, 5]"
   ]
  },
  {
   "cell_type": "code",
   "execution_count": 6,
   "id": "b7dbaf6b",
   "metadata": {
    "scrolled": true
   },
   "outputs": [
    {
     "name": "stdout",
     "output_type": "stream",
     "text": [
      "that\n",
      "that\n",
      "that\n",
      "4\n",
      "5\n"
     ]
    }
   ],
   "source": [
    "if_this_not_that(original_list, 3)"
   ]
  },
  {
   "cell_type": "code",
   "execution_count": 8,
   "id": "46101669",
   "metadata": {},
   "outputs": [],
   "source": [
    "# City ADT\n",
    "def make_city(name, lat, lon):\n",
    "    \"\"\"\n",
    "    >>> city = make_city('Berkeley', 0, 1)\n",
    "    >>> get_name(city)\n",
    "    'Berkeley'\n",
    "    >>> get_lat(city)\n",
    "    0\n",
    "    >>> get_lon(city)\n",
    "    1\n",
    "    \"\"\"\n",
    "    return [name, lat, lon]\n",
    "\n",
    "def get_name(city):\n",
    "    \"\"\"\n",
    "    >>> city = make_city('Berkeley', 0, 1)\n",
    "    >>> get_name(city)\n",
    "    'Berkeley'\n",
    "    \"\"\"\n",
    "    return city[0]\n",
    "\n",
    "def get_lat(city):\n",
    "    \"\"\"\n",
    "    >>> city = make_city('Berkeley', 0, 1)\n",
    "    >>> get_lat(city)\n",
    "    0\n",
    "    \"\"\"\n",
    "    return city[1]\n",
    "\n",
    "def get_lon(city):\n",
    "    \"\"\"\n",
    "    >>> city = make_city('Berkeley', 0, 1)\n",
    "    >>> get_lon(city)\n",
    "    1\n",
    "    \"\"\"\n",
    "    return city[2]\n",
    "\n",
    "# Q4\n",
    "from math import sqrt\n",
    "def distance(city1, city2):\n",
    "    \"\"\"\n",
    "    >>> city1 = make_city('city1', 0, 1)\n",
    "    >>> city2 = make_city('city2', 0, 2)\n",
    "    >>> distance(city1, city2)\n",
    "    1.0\n",
    "    >>> city3 = make_city('city3', 6.5, 12)\n",
    "    >>> city4 = make_city('city4', 2.5, 15)\n",
    "    >>> distance(city3, city4)\n",
    "    5.0\n",
    "    \"\"\"\n",
    "    \"*** YOUR CODE HERE ***\"\n",
    "    return sqrt((get_lat(city1)-get_lat(city2)) ** 2 + (get_lon(city1) - get_lon(city2))**2)"
   ]
  },
  {
   "cell_type": "code",
   "execution_count": 13,
   "id": "b97b9f02",
   "metadata": {},
   "outputs": [],
   "source": [
    "def closer_city(lat, lon, city1, city2):\n",
    "    \"\"\"\n",
    "    Returns the name of either city1 or city2, whichever is closest to\n",
    "    coordinate (lat, lon).\n",
    "\n",
    "    >>> berkeley = make_city('Berkeley', 37.87, 112.26)\n",
    "    >>> stanford = make_city('Stanford', 34.05, 118.25)\n",
    "    >>> closer_city(38.33, 121.44, berkeley, stanford)\n",
    "    'Stanford'\n",
    "    >>> bucharest = make_city('Bucharest', 44.43, 26.10)\n",
    "    >>> vienna = make_city('Vienna', 48.20, 16.37)\n",
    "    >>> closer_city(41.29, 174.78, bucharest, vienna)\n",
    "    'Bucharest'\n",
    "    \"\"\"\n",
    "    \"*** YOUR CODE HERE ***\"\n",
    "    new_city = make_city('new',lat,lon)\n",
    "    if distance(new_city,city1) < distance(new_city,city2):\n",
    "        return get_name(city1)\n",
    "    else:\n",
    "        return get_name(city2)"
   ]
  },
  {
   "cell_type": "code",
   "execution_count": 37,
   "id": "cf53ef0e",
   "metadata": {},
   "outputs": [],
   "source": [
    "def flatten(lst):\n",
    "    \"\"\"Returns a flattened version of lst.\n",
    "\n",
    "    >>> flatten([1, 2, 3])     # normal list\n",
    "    [1, 2, 3]\n",
    "    >>> x = [1, [2, 3], 4]      # deep list\n",
    "    >>> flatten(x)\n",
    "    [1, 2, 3, 4]\n",
    "    >>> x = [[1, [1, 1]], 1, [1, 1]] # deep list\n",
    "    >>> flatten(x)\n",
    "    [1, 1, 1, 1, 1, 1]\n",
    "    \"\"\"\n",
    "    \"*** YOUR CODE HERE ***\"\n",
    "    output_list = []\n",
    "    for i in lst:\n",
    "        if type(i) == list:\n",
    "            flattened_list = flatten(i)\n",
    "            output_list = output_list + flattened_list\n",
    "        else:\n",
    "            output_list = output_list + [i]\n",
    "                \n",
    "    return output_list\n",
    "            \n",
    "            "
   ]
  },
  {
   "cell_type": "code",
   "execution_count": 74,
   "id": "9c3ad1eb",
   "metadata": {},
   "outputs": [],
   "source": [
    "def merge(lst1, lst2):\n",
    "    \"\"\"Merges two sorted lists.\n",
    "\n",
    "    >>> merge([1, 3, 5], [2, 4, 6])\n",
    "    [1, 2, 3, 4, 5, 6]\n",
    "    >>> merge([], [2, 4, 6])\n",
    "    [2, 4, 6]\n",
    "    >>> merge([1, 2, 3], [])\n",
    "    [1, 2, 3]\n",
    "    >>> merge([5, 7], [2, 4, 6])\n",
    "    [2, 4, 5, 6, 7]\n",
    "    \"\"\"\n",
    "    \"*** YOUR CODE HERE ***\"\n",
    "    if len(lst1) != 0: \n",
    "        for i in lst2:\n",
    "            for j in lst1:\n",
    "                    if i < j:\n",
    "                        lst1.insert(lst1.index(j),i)\n",
    "                        break\n",
    "            if i > max(lst1):\n",
    "                lst1.insert(len(lst)+1,i)\n",
    "        return lst1\n",
    "    else:\n",
    "        return lst2\n",
    "                \n",
    "    "
   ]
  },
  {
   "cell_type": "code",
   "execution_count": 79,
   "id": "0b4fb302",
   "metadata": {},
   "outputs": [
    {
     "data": {
      "text/plain": [
       "[1, 2, 3, 7, 8, 9]"
      ]
     },
     "execution_count": 79,
     "metadata": {},
     "output_type": "execute_result"
    }
   ],
   "source": [
    "merge([1,3,7], [2, 8, 9])"
   ]
  }
 ],
 "metadata": {
  "kernelspec": {
   "display_name": "Python 3 (ipykernel)",
   "language": "python",
   "name": "python3"
  },
  "language_info": {
   "codemirror_mode": {
    "name": "ipython",
    "version": 3
   },
   "file_extension": ".py",
   "mimetype": "text/x-python",
   "name": "python",
   "nbconvert_exporter": "python",
   "pygments_lexer": "ipython3",
   "version": "3.9.12"
  }
 },
 "nbformat": 4,
 "nbformat_minor": 5
}
