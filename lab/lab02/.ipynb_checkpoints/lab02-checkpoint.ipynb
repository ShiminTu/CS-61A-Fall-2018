{
 "cells": [
  {
   "cell_type": "code",
   "execution_count": 2,
   "id": "43d0346f",
   "metadata": {},
   "outputs": [
    {
     "data": {
      "text/plain": [
       "16"
      ]
     },
     "execution_count": 2,
     "metadata": {},
     "output_type": "execute_result"
    }
   ],
   "source": [
    "d = lambda f: f(4)  # They can have functions as arguments as well.\n",
    "def square(x):\n",
    "    return x * x\n",
    "d(square)"
   ]
  },
  {
   "cell_type": "code",
   "execution_count": 9,
   "id": "f6ca9f5a",
   "metadata": {},
   "outputs": [
    {
     "data": {
      "text/plain": [
       "88"
      ]
     },
     "execution_count": 9,
     "metadata": {},
     "output_type": "execute_result"
    }
   ],
   "source": [
    "b = lambda x: lambda: x  # Lambdas can return other lambdas!\n",
    "c = b(88)\n",
    "c()"
   ]
  },
  {
   "cell_type": "code",
   "execution_count": 11,
   "id": "ef938181",
   "metadata": {},
   "outputs": [
    {
     "data": {
      "text/plain": [
       "3"
      ]
     },
     "execution_count": 11,
     "metadata": {},
     "output_type": "execute_result"
    }
   ],
   "source": [
    "(lambda: 3)()"
   ]
  },
  {
   "cell_type": "code",
   "execution_count": 12,
   "id": "c2228785",
   "metadata": {},
   "outputs": [
    {
     "data": {
      "text/plain": [
       "4"
      ]
     },
     "execution_count": 12,
     "metadata": {},
     "output_type": "execute_result"
    }
   ],
   "source": [
    "z = 3\n",
    "e = lambda x: lambda y: lambda: x + y + z\n",
    "e(0)(1)()"
   ]
  },
  {
   "cell_type": "code",
   "execution_count": 14,
   "id": "9711f1f5",
   "metadata": {},
   "outputs": [],
   "source": [
    "f = lambda z: x + z"
   ]
  },
  {
   "cell_type": "code",
   "execution_count": 16,
   "id": "388a57f1",
   "metadata": {},
   "outputs": [
    {
     "data": {
      "text/plain": [
       "4"
      ]
     },
     "execution_count": 16,
     "metadata": {},
     "output_type": "execute_result"
    }
   ],
   "source": [
    "higher_order_lambda = lambda f: lambda x: f(x)\n",
    "g = lambda x: x * x\n",
    "higher_order_lambda(g)(2) "
   ]
  },
  {
   "cell_type": "code",
   "execution_count": 17,
   "id": "c8bda52b",
   "metadata": {},
   "outputs": [
    {
     "data": {
      "text/plain": [
       "3"
      ]
     },
     "execution_count": 17,
     "metadata": {},
     "output_type": "execute_result"
    }
   ],
   "source": [
    "call_thrice = lambda f: lambda x: f(f(f(x)))\n",
    "call_thrice(lambda y: y + 1)(0)"
   ]
  },
  {
   "cell_type": "code",
   "execution_count": 18,
   "id": "e6b06886",
   "metadata": {},
   "outputs": [
    {
     "data": {
      "text/plain": [
       "<function __main__.<lambda>(z)>"
      ]
     },
     "execution_count": 18,
     "metadata": {},
     "output_type": "execute_result"
    }
   ],
   "source": [
    "print_lambda = lambda z: print(z)  # When is the return expression of a lambda expression executed?\n",
    "print_lambda"
   ]
  },
  {
   "cell_type": "code",
   "execution_count": 20,
   "id": "db813791",
   "metadata": {
    "scrolled": true
   },
   "outputs": [
    {
     "name": "stdout",
     "output_type": "stream",
     "text": [
      "1000\n"
     ]
    }
   ],
   "source": [
    "one_thousand = print_lambda(1000)\n",
    "one_thousand"
   ]
  },
  {
   "cell_type": "code",
   "execution_count": 21,
   "id": "a68e1570",
   "metadata": {},
   "outputs": [
    {
     "data": {
      "text/plain": [
       "<function __main__.even.<locals>.odd(x)>"
      ]
     },
     "execution_count": 21,
     "metadata": {},
     "output_type": "execute_result"
    }
   ],
   "source": [
    "def even(f):\n",
    "     def odd(x):\n",
    "         if x < 0:\n",
    "             return f(-x)\n",
    "         return f(x)\n",
    "     return odd\n",
    "steven = lambda x: x\n",
    "stewart = even(steven)\n",
    "stewart"
   ]
  },
  {
   "cell_type": "code",
   "execution_count": 23,
   "id": "bb9ba7a2",
   "metadata": {},
   "outputs": [
    {
     "data": {
      "text/plain": [
       "4"
      ]
     },
     "execution_count": 23,
     "metadata": {},
     "output_type": "execute_result"
    }
   ],
   "source": [
    "stewart(-4)"
   ]
  },
  {
   "cell_type": "code",
   "execution_count": 24,
   "id": "9d5988e4",
   "metadata": {},
   "outputs": [],
   "source": [
    "def cake():\n",
    "    print('beets')\n",
    "    def pie():\n",
    "        print('sweets')\n",
    "        return 'cake'\n",
    "    return pie"
   ]
  },
  {
   "cell_type": "code",
   "execution_count": 25,
   "id": "0800dcd7",
   "metadata": {},
   "outputs": [
    {
     "name": "stdout",
     "output_type": "stream",
     "text": [
      "beets\n"
     ]
    }
   ],
   "source": [
    "chocolate = cake()"
   ]
  },
  {
   "cell_type": "code",
   "execution_count": 26,
   "id": "f2fb6a16",
   "metadata": {},
   "outputs": [
    {
     "data": {
      "text/plain": [
       "<function __main__.cake.<locals>.pie()>"
      ]
     },
     "execution_count": 26,
     "metadata": {},
     "output_type": "execute_result"
    }
   ],
   "source": [
    "chocolate"
   ]
  },
  {
   "cell_type": "code",
   "execution_count": 28,
   "id": "30714bb2",
   "metadata": {},
   "outputs": [
    {
     "name": "stdout",
     "output_type": "stream",
     "text": [
      "sweets\n"
     ]
    },
    {
     "data": {
      "text/plain": [
       "'cake'"
      ]
     },
     "execution_count": 28,
     "metadata": {},
     "output_type": "execute_result"
    }
   ],
   "source": [
    "chocolate()"
   ]
  },
  {
   "cell_type": "code",
   "execution_count": 29,
   "id": "5504725d",
   "metadata": {},
   "outputs": [
    {
     "name": "stdout",
     "output_type": "stream",
     "text": [
      "sweets\n"
     ]
    }
   ],
   "source": [
    "more_chocolate, more_cake = chocolate(), cake"
   ]
  },
  {
   "cell_type": "code",
   "execution_count": 31,
   "id": "f74f5a3c",
   "metadata": {},
   "outputs": [
    {
     "data": {
      "text/plain": [
       "<function __main__.cake()>"
      ]
     },
     "execution_count": 31,
     "metadata": {},
     "output_type": "execute_result"
    }
   ],
   "source": [
    "more_cake"
   ]
  },
  {
   "cell_type": "code",
   "execution_count": 32,
   "id": "6d8c1a1b",
   "metadata": {},
   "outputs": [
    {
     "data": {
      "text/plain": [
       "'cake'"
      ]
     },
     "execution_count": 32,
     "metadata": {},
     "output_type": "execute_result"
    }
   ],
   "source": [
    "more_chocolate"
   ]
  },
  {
   "cell_type": "code",
   "execution_count": 33,
   "id": "5fef0eef",
   "metadata": {},
   "outputs": [],
   "source": [
    "def snake(x, y):\n",
    "    if cake == more_cake:\n",
    "        return lambda: x + y\n",
    "    else:\n",
    "        return x + y"
   ]
  },
  {
   "cell_type": "code",
   "execution_count": 35,
   "id": "8b19eb47",
   "metadata": {},
   "outputs": [
    {
     "data": {
      "text/plain": [
       "30"
      ]
     },
     "execution_count": 35,
     "metadata": {},
     "output_type": "execute_result"
    }
   ],
   "source": [
    "snake(10,20)()"
   ]
  },
  {
   "cell_type": "code",
   "execution_count": 36,
   "id": "5bf77415",
   "metadata": {},
   "outputs": [],
   "source": [
    "cake = 'cake'"
   ]
  },
  {
   "cell_type": "code",
   "execution_count": 37,
   "id": "725e0a55",
   "metadata": {
    "scrolled": true
   },
   "outputs": [
    {
     "data": {
      "text/plain": [
       "30"
      ]
     },
     "execution_count": 37,
     "metadata": {},
     "output_type": "execute_result"
    }
   ],
   "source": [
    "snake(10,20)"
   ]
  },
  {
   "cell_type": "code",
   "execution_count": 38,
   "id": "2187c73a",
   "metadata": {},
   "outputs": [],
   "source": [
    "from operator import add"
   ]
  },
  {
   "cell_type": "code",
   "execution_count": 44,
   "id": "d1e11ca6",
   "metadata": {},
   "outputs": [
    {
     "data": {
      "text/plain": [
       "5"
      ]
     },
     "execution_count": 44,
     "metadata": {},
     "output_type": "execute_result"
    }
   ],
   "source": [
    "add(2,3)"
   ]
  },
  {
   "cell_type": "code",
   "execution_count": 56,
   "id": "bee2e183",
   "metadata": {},
   "outputs": [],
   "source": [
    "def lambda_curry2(func):\n",
    "    \"\"\"\n",
    "    Returns a Curried version of a two-argument function FUNC.\n",
    "    >>> from operator import add\n",
    "    >>> curried_add = lambda_curry2(add)\n",
    "    >>> add_three = curried_add(3)\n",
    "    >>> add_three(5)\n",
    "    8\n",
    "    \"\"\"\n",
    "    \"*** YOUR CODE HERE ***\"\n",
    "    return lambda x: lambda y: func(x,y)\n"
   ]
  },
  {
   "cell_type": "code",
   "execution_count": 58,
   "id": "bfab0958",
   "metadata": {},
   "outputs": [
    {
     "data": {
      "text/plain": [
       "7"
      ]
     },
     "execution_count": 58,
     "metadata": {},
     "output_type": "execute_result"
    }
   ],
   "source": [
    "lambda_curry2(add)(3)(4)"
   ]
  },
  {
   "cell_type": "code",
   "execution_count": 59,
   "id": "0651f70c",
   "metadata": {},
   "outputs": [],
   "source": [
    "n = 9\n",
    "def make_adder(n):\n",
    "    return lambda k: k + n\n",
    "add_ten = make_adder(n+1)\n",
    "result = add_ten(n)"
   ]
  },
  {
   "cell_type": "code",
   "execution_count": 60,
   "id": "cf34f3a4",
   "metadata": {},
   "outputs": [
    {
     "data": {
      "text/plain": [
       "19"
      ]
     },
     "execution_count": 60,
     "metadata": {},
     "output_type": "execute_result"
    }
   ],
   "source": [
    "result"
   ]
  },
  {
   "cell_type": "code",
   "execution_count": 61,
   "id": "f03505b5",
   "metadata": {},
   "outputs": [
    {
     "data": {
      "text/plain": [
       "21"
      ]
     },
     "execution_count": 61,
     "metadata": {},
     "output_type": "execute_result"
    }
   ],
   "source": [
    "a = lambda x: x * 2 + 1\n",
    "def b(b, x):\n",
    "     return b(x + a(x))\n",
    "x = 3\n",
    "b(a, x)"
   ]
  }
 ],
 "metadata": {
  "kernelspec": {
   "display_name": "Python 3 (ipykernel)",
   "language": "python",
   "name": "python3"
  },
  "language_info": {
   "codemirror_mode": {
    "name": "ipython",
    "version": 3
   },
   "file_extension": ".py",
   "mimetype": "text/x-python",
   "name": "python",
   "nbconvert_exporter": "python",
   "pygments_lexer": "ipython3",
   "version": "3.9.12"
  }
 },
 "nbformat": 4,
 "nbformat_minor": 5
}
