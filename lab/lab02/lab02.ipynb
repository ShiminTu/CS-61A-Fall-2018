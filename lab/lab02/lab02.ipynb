{
 "cells": [
  {
   "cell_type": "code",
   "execution_count": 2,
   "id": "adaad275",
   "metadata": {},
   "outputs": [
    {
     "data": {
      "text/plain": [
       "16"
      ]
     },
     "execution_count": 2,
     "metadata": {},
     "output_type": "execute_result"
    }
   ],
   "source": [
    "d = lambda f: f(4)  # They can have functions as arguments as well.\n",
    "def square(x):\n",
    "    return x * x\n",
    "d(square)"
   ]
  },
  {
   "cell_type": "code",
   "execution_count": 9,
   "id": "79c9ce83",
   "metadata": {},
   "outputs": [
    {
     "data": {
      "text/plain": [
       "88"
      ]
     },
     "execution_count": 9,
     "metadata": {},
     "output_type": "execute_result"
    }
   ],
   "source": [
    "b = lambda x: lambda: x  # Lambdas can return other lambdas!\n",
    "c = b(88)\n",
    "c()"
   ]
  },
  {
   "cell_type": "code",
   "execution_count": 11,
   "id": "a0db7117",
   "metadata": {},
   "outputs": [
    {
     "data": {
      "text/plain": [
       "3"
      ]
     },
     "execution_count": 11,
     "metadata": {},
     "output_type": "execute_result"
    }
   ],
   "source": [
    "(lambda: 3)()"
   ]
  },
  {
   "cell_type": "code",
   "execution_count": 7,
   "id": "149fe96a",
   "metadata": {},
   "outputs": [
    {
     "data": {
      "text/plain": [
       "88"
      ]
     },
     "execution_count": 7,
     "metadata": {},
     "output_type": "execute_result"
    }
   ],
   "source": [
    "b = lambda x: lambda : x\n",
    "c = b(88)\n",
    "c()"
   ]
  },
  {
   "cell_type": "code",
   "execution_count": 8,
   "id": "d2ffa87f",
   "metadata": {},
   "outputs": [
    {
     "data": {
      "text/plain": [
       "16"
      ]
     },
     "execution_count": 8,
     "metadata": {},
     "output_type": "execute_result"
    }
   ],
   "source": [
    "d = lambda f: f(4)  # They can have functions as arguments as well.\n",
    "def square(x):\n",
    "     return x * x\n",
    "d(square)"
   ]
  },
  {
   "cell_type": "code",
   "execution_count": 12,
   "id": "6aecf35e",
   "metadata": {},
   "outputs": [
    {
     "data": {
      "text/plain": [
       "4"
      ]
     },
     "execution_count": 12,
     "metadata": {},
     "output_type": "execute_result"
    }
   ],
   "source": [
    "z = 3\n",
    "e = lambda x: lambda y: lambda: x + y + z\n",
    "e(0)(1)()"
   ]
  },
  {
   "cell_type": "code",
   "execution_count": 9,
   "id": "3e6b235b",
   "metadata": {},
   "outputs": [
    {
     "ename": "NameError",
     "evalue": "name 'x' is not defined",
     "output_type": "error",
     "traceback": [
      "\u001b[0;31m---------------------------------------------------------------------------\u001b[0m",
      "\u001b[0;31mNameError\u001b[0m                                 Traceback (most recent call last)",
      "Input \u001b[0;32mIn [9]\u001b[0m, in \u001b[0;36m<cell line: 2>\u001b[0;34m()\u001b[0m\n\u001b[1;32m      1\u001b[0m f \u001b[38;5;241m=\u001b[39m \u001b[38;5;28;01mlambda\u001b[39;00m z: x \u001b[38;5;241m+\u001b[39m z\n\u001b[0;32m----> 2\u001b[0m \u001b[43mf\u001b[49m\u001b[43m(\u001b[49m\u001b[38;5;241;43m3\u001b[39;49m\u001b[43m)\u001b[49m\n",
      "Input \u001b[0;32mIn [9]\u001b[0m, in \u001b[0;36m<lambda>\u001b[0;34m(z)\u001b[0m\n\u001b[0;32m----> 1\u001b[0m f \u001b[38;5;241m=\u001b[39m \u001b[38;5;28;01mlambda\u001b[39;00m z: \u001b[43mx\u001b[49m \u001b[38;5;241m+\u001b[39m z\n\u001b[1;32m      2\u001b[0m f(\u001b[38;5;241m3\u001b[39m)\n",
      "\u001b[0;31mNameError\u001b[0m: name 'x' is not defined"
     ]
    }
   ],
   "source": [
    "f = lambda z: x + z\n",
    "f(3)"
   ]
  },
  {
   "cell_type": "code",
   "execution_count": 16,
   "id": "d686105b",
   "metadata": {},
   "outputs": [
    {
     "data": {
      "text/plain": [
       "4"
      ]
     },
     "execution_count": 16,
     "metadata": {},
     "output_type": "execute_result"
    }
   ],
   "source": [
    "higher_order_lambda = lambda f: lambda x: f(x)\n",
    "g = lambda x: x * x\n",
    "higher_order_lambda(g)(2) "
   ]
  },
  {
   "cell_type": "code",
   "execution_count": 17,
   "id": "68a3f6bc",
   "metadata": {},
   "outputs": [
    {
     "data": {
      "text/plain": [
       "3"
      ]
     },
     "execution_count": 17,
     "metadata": {},
     "output_type": "execute_result"
    }
   ],
   "source": [
    "call_thrice = lambda f: lambda x: f(f(f(x)))\n",
    "call_thrice(lambda y: y + 1)(0)"
   ]
  },
  {
   "cell_type": "code",
   "execution_count": 18,
   "id": "04ab1be3",
   "metadata": {},
   "outputs": [
    {
     "data": {
      "text/plain": [
       "<function __main__.<lambda>(z)>"
      ]
     },
     "execution_count": 18,
     "metadata": {},
     "output_type": "execute_result"
    }
   ],
   "source": [
    "print_lambda = lambda z: print(z)  # When is the return expression of a lambda expression executed?\n",
    "print_lambda"
   ]
  },
  {
   "cell_type": "code",
   "execution_count": 20,
   "id": "b6cc0cd6",
   "metadata": {
    "scrolled": true
   },
   "outputs": [
    {
     "name": "stdout",
     "output_type": "stream",
     "text": [
      "1000\n"
     ]
    }
   ],
   "source": [
    "one_thousand = print_lambda(1000)\n",
    "one_thousand"
   ]
  },
  {
   "cell_type": "code",
   "execution_count": 21,
   "id": "094d1c92",
   "metadata": {},
   "outputs": [
    {
     "data": {
      "text/plain": [
       "<function __main__.even.<locals>.odd(x)>"
      ]
     },
     "execution_count": 21,
     "metadata": {},
     "output_type": "execute_result"
    }
   ],
   "source": [
    "def even(f):\n",
    "     def odd(x):\n",
    "         if x < 0:\n",
    "             return f(-x)\n",
    "         return f(x)\n",
    "     return odd\n",
    "steven = lambda x: x\n",
    "stewart = even(steven)\n",
    "stewart"
   ]
  },
  {
   "cell_type": "code",
   "execution_count": 23,
   "id": "4d5ce71d",
   "metadata": {},
   "outputs": [
    {
     "data": {
      "text/plain": [
       "4"
      ]
     },
     "execution_count": 23,
     "metadata": {},
     "output_type": "execute_result"
    }
   ],
   "source": [
    "stewart(-4)"
   ]
  },
  {
   "cell_type": "code",
   "execution_count": 11,
   "id": "3dbed537",
   "metadata": {},
   "outputs": [],
   "source": [
    "def cake():\n",
    "    print('beets')\n",
    "    def pie():\n",
    "        print('sweets')\n",
    "        return 'cake'\n",
    "    return pie"
   ]
  },
  {
   "cell_type": "code",
   "execution_count": 12,
   "id": "8636cc8b",
   "metadata": {},
   "outputs": [
    {
     "data": {
      "text/plain": [
       "<function __main__.cake()>"
      ]
     },
     "execution_count": 12,
     "metadata": {},
     "output_type": "execute_result"
    }
   ],
   "source": [
    "cake"
   ]
  },
  {
   "cell_type": "code",
   "execution_count": 25,
   "id": "f6bb5e20",
   "metadata": {},
   "outputs": [
    {
     "name": "stdout",
     "output_type": "stream",
     "text": [
      "beets\n"
     ]
    }
   ],
   "source": [
    "chocolate = cake()"
   ]
  },
  {
   "cell_type": "code",
   "execution_count": 26,
   "id": "e7dca579",
   "metadata": {},
   "outputs": [
    {
     "data": {
      "text/plain": [
       "<function __main__.cake.<locals>.pie()>"
      ]
     },
     "execution_count": 26,
     "metadata": {},
     "output_type": "execute_result"
    }
   ],
   "source": [
    "chocolate"
   ]
  },
  {
   "cell_type": "code",
   "execution_count": 28,
   "id": "841c33a8",
   "metadata": {},
   "outputs": [
    {
     "name": "stdout",
     "output_type": "stream",
     "text": [
      "sweets\n"
     ]
    },
    {
     "data": {
      "text/plain": [
       "'cake'"
      ]
     },
     "execution_count": 28,
     "metadata": {},
     "output_type": "execute_result"
    }
   ],
   "source": [
    "chocolate()"
   ]
  },
  {
   "cell_type": "code",
   "execution_count": 29,
   "id": "b116c7f9",
   "metadata": {},
   "outputs": [
    {
     "name": "stdout",
     "output_type": "stream",
     "text": [
      "sweets\n"
     ]
    }
   ],
   "source": [
    "more_chocolate, more_cake = chocolate(), cake"
   ]
  },
  {
   "cell_type": "code",
   "execution_count": 31,
   "id": "ec426825",
   "metadata": {},
   "outputs": [
    {
     "data": {
      "text/plain": [
       "<function __main__.cake()>"
      ]
     },
     "execution_count": 31,
     "metadata": {},
     "output_type": "execute_result"
    }
   ],
   "source": [
    "more_cake"
   ]
  },
  {
   "cell_type": "code",
   "execution_count": 32,
   "id": "02887cc1",
   "metadata": {},
   "outputs": [
    {
     "data": {
      "text/plain": [
       "'cake'"
      ]
     },
     "execution_count": 32,
     "metadata": {},
     "output_type": "execute_result"
    }
   ],
   "source": [
    "more_chocolate"
   ]
  },
  {
   "cell_type": "code",
   "execution_count": 33,
   "id": "6b10b6ff",
   "metadata": {},
   "outputs": [],
   "source": [
    "def snake(x, y):\n",
    "    if cake == more_cake:\n",
    "        return lambda: x + y\n",
    "    else:\n",
    "        return x + y"
   ]
  },
  {
   "cell_type": "code",
   "execution_count": 35,
   "id": "6397b9a4",
   "metadata": {},
   "outputs": [
    {
     "data": {
      "text/plain": [
       "30"
      ]
     },
     "execution_count": 35,
     "metadata": {},
     "output_type": "execute_result"
    }
   ],
   "source": [
    "snake(10,20)()"
   ]
  },
  {
   "cell_type": "code",
   "execution_count": 36,
   "id": "da335202",
   "metadata": {},
   "outputs": [],
   "source": [
    "cake = 'cake'"
   ]
  },
  {
   "cell_type": "code",
   "execution_count": 37,
   "id": "473e9bd3",
   "metadata": {
    "scrolled": true
   },
   "outputs": [
    {
     "data": {
      "text/plain": [
       "30"
      ]
     },
     "execution_count": 37,
     "metadata": {},
     "output_type": "execute_result"
    }
   ],
   "source": [
    "snake(10,20)"
   ]
  },
  {
   "cell_type": "code",
   "execution_count": 38,
   "id": "41cea67b",
   "metadata": {},
   "outputs": [],
   "source": [
    "from operator import add"
   ]
  },
  {
   "cell_type": "code",
   "execution_count": 44,
   "id": "99e368b1",
   "metadata": {},
   "outputs": [
    {
     "data": {
      "text/plain": [
       "5"
      ]
     },
     "execution_count": 44,
     "metadata": {},
     "output_type": "execute_result"
    }
   ],
   "source": [
    "add(2,3)"
   ]
  },
  {
   "cell_type": "code",
   "execution_count": 56,
   "id": "9768fcfb",
   "metadata": {},
   "outputs": [],
   "source": [
    "def lambda_curry2(func):\n",
    "    \"\"\"\n",
    "    Returns a Curried version of a two-argument function FUNC.\n",
    "    >>> from operator import add\n",
    "    >>> curried_add = lambda_curry2(add)\n",
    "    >>> add_three = curried_add(3)\n",
    "    >>> add_three(5)\n",
    "    8\n",
    "    \"\"\"\n",
    "    \"*** YOUR CODE HERE ***\"\n",
    "    return lambda x: lambda y: func(x,y)\n"
   ]
  },
  {
   "cell_type": "code",
   "execution_count": 58,
   "id": "337b8752",
   "metadata": {},
   "outputs": [
    {
     "data": {
      "text/plain": [
       "7"
      ]
     },
     "execution_count": 58,
     "metadata": {},
     "output_type": "execute_result"
    }
   ],
   "source": [
    "lambda_curry2(add)(3)(4)"
   ]
  },
  {
   "cell_type": "code",
   "execution_count": 59,
   "id": "b1b07a53",
   "metadata": {},
   "outputs": [],
   "source": [
    "n = 9\n",
    "def make_adder(n):\n",
    "    return lambda k: k + n\n",
    "add_ten = make_adder(n+1)\n",
    "result = add_ten(n)"
   ]
  },
  {
   "cell_type": "code",
   "execution_count": 60,
   "id": "c770378c",
   "metadata": {},
   "outputs": [
    {
     "data": {
      "text/plain": [
       "19"
      ]
     },
     "execution_count": 60,
     "metadata": {},
     "output_type": "execute_result"
    }
   ],
   "source": [
    "result"
   ]
  },
  {
   "cell_type": "code",
   "execution_count": 61,
   "id": "f6fa2b4c",
   "metadata": {},
   "outputs": [
    {
     "data": {
      "text/plain": [
       "21"
      ]
     },
     "execution_count": 61,
     "metadata": {},
     "output_type": "execute_result"
    }
   ],
   "source": [
    "a = lambda x: x * 2 + 1\n",
    "def b(b, x):\n",
    "     return b(x + a(x))\n",
    "x = 3\n",
    "b(a, x)"
   ]
  },
  {
   "cell_type": "code",
   "execution_count": 85,
   "id": "c8bff22d",
   "metadata": {},
   "outputs": [],
   "source": [
    "def compose1(f, g):\n",
    "    \"\"\"Return the composition function which given x, computes f(g(x)).\n",
    "\n",
    "    >>> add_one = lambda x: x + 1        # adds one to x\n",
    "    >>> square = lambda x: x**2\n",
    "    >>> a1 = compose1(square, add_one)   # (x + 1)^2\n",
    "    >>> a1(4)\n",
    "    25\n",
    "    >>> mul_three = lambda x: x * 3      # multiplies 3 to x\n",
    "    >>> a2 = compose1(mul_three, a1)    # ((x + 1)^2) * 3\n",
    "    >>> a2(4)\n",
    "    75\n",
    "    >>> a2(5)\n",
    "    108\n",
    "    \"\"\"\n",
    "    return lambda x: f(g(x))"
   ]
  },
  {
   "cell_type": "code",
   "execution_count": 69,
   "id": "64667b11",
   "metadata": {},
   "outputs": [],
   "source": [
    "add_one = lambda x: x + 1        # adds one to x\n",
    "square = lambda x: x**2"
   ]
  },
  {
   "cell_type": "code",
   "execution_count": 130,
   "id": "204948e2",
   "metadata": {},
   "outputs": [],
   "source": [
    "def composite_identity(f, g):\n",
    "    \"\"\"\n",
    "    Return a function with one parameter x that returns True if f(g(x)) is\n",
    "    equal to g(f(x)). You can assume the result of g(x) is a valid input for f\n",
    "    and vice versa.\n",
    "\n",
    "    >>> add_one = lambda x: x + 1        # adds one to x\n",
    "    >>> square = lambda x: x**2\n",
    "    >>> b1 = composite_identity(square, add_one)\n",
    "    >>> b1(0)                            # (0 + 1)^2 == 0^2 + 1\n",
    "    True\n",
    "    >>> b1(4)                            # (4 + 1)^2 != 4^2 + 1\n",
    "    False\n",
    "    \"\"\"\n",
    "    \"*** YOUR CODE HERE ***\"\n",
    "    return lambda x: compose1(f,g)(x) == compose1(g,f)(x)\n"
   ]
  },
  {
   "cell_type": "code",
   "execution_count": 142,
   "id": "b6d3ab1e",
   "metadata": {},
   "outputs": [],
   "source": [
    "def count_factors(n):\n",
    "    \"\"\"Return the number of positive factors that n has.\n",
    "    >>> count_factors(6)\n",
    "    4   # 1, 2, 3, 6\n",
    "    >>> count_factors(4)\n",
    "    3   # 1, 2, 4\n",
    "    \"\"\"\n",
    "    i, count = 1, 0\n",
    "    while i <= n:\n",
    "        if n % i == 0:\n",
    "            count += 1\n",
    "        i += 1\n",
    "    return count\n",
    "\n",
    "def count_primes(n):\n",
    "    \"\"\"Return the number of prime numbers up to and including n.\n",
    "    >>> count_primes(6)\n",
    "    3   # 2, 3, 5\n",
    "    >>> count_primes(13)\n",
    "    6   # 2, 3, 5, 7, 11, 13\n",
    "    \"\"\"\n",
    "    i, count = 1, 0\n",
    "    while i <= n:\n",
    "        if is_prime(i):\n",
    "            count += 1\n",
    "        i += 1\n",
    "    return count\n",
    "\n",
    "def is_prime(n):\n",
    "    return count_factors(n) == 2 # only factors are 1 and n"
   ]
  },
  {
   "cell_type": "code",
   "execution_count": 149,
   "id": "f439349e",
   "metadata": {},
   "outputs": [],
   "source": [
    "def count_cond(condition):\n",
    "    \"\"\"Returns a function with one parameter N that counts all the numbers from\n",
    "    1 to N that satisfy the two-argument predicate function Condition, where\n",
    "    the first argument for Condition is N and the second argument is the\n",
    "    number from 1 to N.\n",
    "\n",
    "    >>> count_factors = count_cond(lambda n, i: n % i == 0)\n",
    "    >>> count_factors(2)   # 1, 2\n",
    "    2\n",
    "    >>> count_factors(4)   # 1, 2, 4\n",
    "    3\n",
    "    >>> count_factors(12)  # 1, 2, 3, 4, 6, 12\n",
    "    6\n",
    "\n",
    "    >>> is_prime = lambda n, i: count_factors(i) == 2\n",
    "    >>> count_primes = count_cond(is_prime)\n",
    "    >>> count_primes(2)    # 2\n",
    "    1\n",
    "    >>> count_primes(3)    # 2, 3\n",
    "    2\n",
    "    >>> count_primes(4)    # 2, 3\n",
    "    2\n",
    "    >>> count_primes(5)    # 2, 3, 5\n",
    "    3\n",
    "    >>> count_primes(20)   # 2, 3, 5, 7, 11, 13, 17, 19\n",
    "    8\n",
    "    \"\"\"\n",
    "    \"*** YOUR CODE HERE ***\"\n",
    "    def Func(N):\n",
    "        i, count = 1, 0\n",
    "        while i <= N:\n",
    "            if condition(N,i):\n",
    "                count += 1\n",
    "            i += 1\n",
    "        return count\n",
    "\n",
    "    return Func"
   ]
  },
  {
   "cell_type": "code",
   "execution_count": 150,
   "id": "ea5a3c7b",
   "metadata": {},
   "outputs": [
    {
     "data": {
      "text/plain": [
       "6"
      ]
     },
     "execution_count": 150,
     "metadata": {},
     "output_type": "execute_result"
    }
   ],
   "source": [
    "count_factors = count_cond(lambda n, i: n % i == 0)\n",
    "count_factors(12)"
   ]
  },
  {
   "cell_type": "code",
   "execution_count": 151,
   "id": "b72c82c2",
   "metadata": {},
   "outputs": [
    {
     "data": {
      "text/plain": [
       "8"
      ]
     },
     "execution_count": 151,
     "metadata": {},
     "output_type": "execute_result"
    }
   ],
   "source": [
    "is_prime = lambda n, i: count_factors(i) == 2\n",
    "count_primes = count_cond(is_prime)\n",
    "count_primes(20)  "
   ]
  },
  {
   "cell_type": "code",
   "execution_count": 241,
   "id": "6a424ef2",
   "metadata": {},
   "outputs": [],
   "source": [
    "def cycle(f1, f2, f3):\n",
    "    \n",
    "    def allF(y):\n",
    "            return f3(f2(f1(y)))\n",
    "        \n",
    "    def func(n):        \n",
    "        def finalF(x):\n",
    "            i, j = n // 3, n % 3\n",
    "            for i in range(i):\n",
    "                x = allF(x)\n",
    "            if j == 0:\n",
    "                return x\n",
    "            if j == 1:\n",
    "                return f1(x)\n",
    "            else:\n",
    "                return f2(f1(x)) \n",
    "        return finalF\n",
    "    \n",
    "    return func\n",
    "            \n",
    "    "
   ]
  },
  {
   "cell_type": "code",
   "execution_count": 242,
   "id": "7c71b265",
   "metadata": {},
   "outputs": [],
   "source": [
    "def add1(x):\n",
    "    return x + 1\n",
    "def times2(x):\n",
    "     return x * 2\n",
    "def add3(x):\n",
    "     return x + 3\n",
    "def add4(x):\n",
    "    return x+4\n",
    "my_cycle = cycle(add1, times2, add3)"
   ]
  },
  {
   "cell_type": "code",
   "execution_count": 248,
   "id": "05362c5f",
   "metadata": {},
   "outputs": [
    {
     "data": {
      "text/plain": [
       "19"
      ]
     },
     "execution_count": 248,
     "metadata": {},
     "output_type": "execute_result"
    }
   ],
   "source": [
    "my_cycle(6)(1)"
   ]
  }
 ],
 "metadata": {
  "kernelspec": {
   "display_name": "Python 3 (ipykernel)",
   "language": "python",
   "name": "python3"
  },
  "language_info": {
   "codemirror_mode": {
    "name": "ipython",
    "version": 3
   },
   "file_extension": ".py",
   "mimetype": "text/x-python",
   "name": "python",
   "nbconvert_exporter": "python",
   "pygments_lexer": "ipython3",
   "version": "3.9.12"
  }
 },
 "nbformat": 4,
 "nbformat_minor": 5
}
