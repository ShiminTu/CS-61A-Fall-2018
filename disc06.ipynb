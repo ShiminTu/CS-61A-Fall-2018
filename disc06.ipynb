{
 "cells": [
  {
   "cell_type": "markdown",
   "id": "b00b3680",
   "metadata": {},
   "source": [
    "1.1"
   ]
  },
  {
   "cell_type": "code",
   "execution_count": 1,
   "id": "9d620f6a",
   "metadata": {},
   "outputs": [],
   "source": [
    "class Instructor:\n",
    "    degree = \"PhD (Magic)\" # this is a class attribute\n",
    "    def __init__(self, name):\n",
    "        self.name = name # this is an instance attribute\n",
    "    def lecture(self, topic):\n",
    "        print(\"Today we're learning about \" + topic)"
   ]
  },
  {
   "cell_type": "code",
   "execution_count": 2,
   "id": "f04cb19b",
   "metadata": {},
   "outputs": [],
   "source": [
    "dumbledore = Instructor(\"Dumbledore\")"
   ]
  },
  {
   "cell_type": "code",
   "execution_count": 13,
   "id": "5af1c408",
   "metadata": {},
   "outputs": [],
   "source": [
    "class Student:\n",
    "    instructor = dumbledore\n",
    "    def __init__(self, name, ta):\n",
    "        self.name = name\n",
    "        self.understanding = 0\n",
    "        ta.add_student(self)\n",
    "    def attend_lecture(self, topic):\n",
    "        Student.instructor.lecture(topic)\n",
    "        if Student.instructor == dumbledore:\n",
    "            print(Student.instructor.name + \" is awesome!\")\n",
    "        else:\n",
    "            print(\"I miss Dumbledore.\")\n",
    "        self.understanding += 1\n",
    "    def visit_office_hours(self, staff):\n",
    "        staff.assist(self)\n",
    "        print(\"Thanks, \" + staff.name)"
   ]
  },
  {
   "cell_type": "code",
   "execution_count": 14,
   "id": "793e7e27",
   "metadata": {},
   "outputs": [],
   "source": [
    "class TeachingAssistant:\n",
    "    def __init__(self, name):\n",
    "        self.name = name\n",
    "        self.students = {}\n",
    "    def add_student(self, student):\n",
    "        self.students[student.name] = student\n",
    "    def assist(self, student):\n",
    "        student.understanding += 1"
   ]
  },
  {
   "cell_type": "code",
   "execution_count": 15,
   "id": "a04ba7dd",
   "metadata": {},
   "outputs": [
    {
     "name": "stdout",
     "output_type": "stream",
     "text": [
      "Today we're learning about potions\n",
      "Dumbledore is awesome!\n"
     ]
    }
   ],
   "source": [
    "snape = TeachingAssistant(\"Snape\")\n",
    "harry = Student(\"Harry\", snape)\n",
    "harry.attend_lecture(\"potions\")"
   ]
  },
  {
   "cell_type": "code",
   "execution_count": 16,
   "id": "66c6b6d9",
   "metadata": {},
   "outputs": [
    {
     "name": "stdout",
     "output_type": "stream",
     "text": [
      "Thanks, Hagrid\n"
     ]
    }
   ],
   "source": [
    "harry.visit_office_hours(TeachingAssistant(\"Hagrid\"))"
   ]
  },
  {
   "cell_type": "code",
   "execution_count": 17,
   "id": "47a25789",
   "metadata": {},
   "outputs": [
    {
     "data": {
      "text/plain": [
       "2"
      ]
     },
     "execution_count": 17,
     "metadata": {},
     "output_type": "execute_result"
    }
   ],
   "source": [
    "harry.understanding"
   ]
  },
  {
   "cell_type": "code",
   "execution_count": 18,
   "id": "f4080a48",
   "metadata": {},
   "outputs": [
    {
     "data": {
      "text/plain": [
       "['Harry']"
      ]
     },
     "execution_count": 18,
     "metadata": {},
     "output_type": "execute_result"
    }
   ],
   "source": [
    " [name for name in snape.students]"
   ]
  },
  {
   "cell_type": "code",
   "execution_count": 19,
   "id": "42bb790a",
   "metadata": {},
   "outputs": [],
   "source": [
    "Student.instructor = Instructor(\"Umbridge\")"
   ]
  },
  {
   "cell_type": "code",
   "execution_count": 20,
   "id": "459ccd10",
   "metadata": {},
   "outputs": [
    {
     "name": "stdout",
     "output_type": "stream",
     "text": [
      "Today we're learning about transfiguration\n",
      "I miss Dumbledore.\n"
     ]
    }
   ],
   "source": [
    "Student.attend_lecture(harry, \"transfiguration\")\n",
    "# Equivalent to harry.attend_lecture(\"transfiguration\")"
   ]
  },
  {
   "cell_type": "markdown",
   "id": "64739e04",
   "metadata": {},
   "source": [
    "1.2"
   ]
  },
  {
   "cell_type": "code",
   "execution_count": 44,
   "id": "d4508b47",
   "metadata": {},
   "outputs": [],
   "source": [
    "class Email:\n",
    "    \"\"\"Every email object has 3 instance attributes: the\n",
    "    message, the sender name, and the recipient name.\n",
    "    \"\"\"\n",
    "    def __init__(self, msg, sender_name, recipient_name):\n",
    "        self.msg = msg\n",
    "        self.sender_name = sender_name\n",
    "        self.recipient_name = recipient_name"
   ]
  },
  {
   "cell_type": "code",
   "execution_count": 43,
   "id": "1d88b3bf",
   "metadata": {},
   "outputs": [],
   "source": [
    "class Mailman:\n",
    "    \"\"\"Each Mailman has an instance attribute clients, which\n",
    "    is a dictionary that associates client names with\n",
    "    client objects.\n",
    "    \"\"\"\n",
    "    def __init__(self):\n",
    "        self.clients = {}\n",
    "        \n",
    "    def send(self, email):\n",
    "        \"\"\"Take an email and put it in the inbox of the client\n",
    "        it is addressed to.\n",
    "        \"\"\"\n",
    "        receiver = self.clients[email.recipient_name]\n",
    "        receiver.inbox.append(email.msg)\n",
    "        \n",
    "    def register_client(self, client, client_name):\n",
    "        \"\"\"Takes a client object and client_name and adds it\n",
    "        to the clients instance attribute.\n",
    "        \"\"\"\n",
    "        self.clients[client_name] = client\n",
    "    \n",
    "    "
   ]
  },
  {
   "cell_type": "code",
   "execution_count": 51,
   "id": "b7f6d5c5",
   "metadata": {},
   "outputs": [],
   "source": [
    "class Client:\n",
    "    \"\"\"Every Client has instance attributes name (which is\n",
    "    used for addressing emails to the client), mailman\n",
    "    (which is used to send emails out to other clients), and\n",
    "    inbox (a list of all emails the client has received).\n",
    "    \"\"\"\n",
    "    def __init__(self, mailman, name):\n",
    "        self.inbox = []\n",
    "        self.name = name\n",
    "        self.mailman = mailman\n",
    "        \n",
    "    def compose(self, msg, receipient_name):\n",
    "        \"\"\"Send an email with the given message msg to the\n",
    "        given recipient client.\n",
    "        \"\"\"\n",
    "        self.msg = msg\n",
    "        self.receipient_name = receipient_name\n",
    "        email = Email(self.msg,self.name,self.receipient_name)\n",
    "        self.mailman.send(email)\n",
    "        \n",
    "    def receive(self, email):\n",
    "        \"\"\"Take an email and add it to the inbox of this\n",
    "        client.\n",
    "        \"\"\"\n",
    "        self.email = email\n",
    "        self.inbox.append(email)"
   ]
  },
  {
   "cell_type": "code",
   "execution_count": 52,
   "id": "7c884941",
   "metadata": {},
   "outputs": [],
   "source": [
    "mailman = Mailman()"
   ]
  },
  {
   "cell_type": "code",
   "execution_count": 53,
   "id": "632b47fc",
   "metadata": {},
   "outputs": [],
   "source": [
    "sender = Client(mailman,'sender')\n",
    "receiver = Client(mailman,'receiver')"
   ]
  },
  {
   "cell_type": "code",
   "execution_count": 54,
   "id": "12c7eb8c",
   "metadata": {},
   "outputs": [],
   "source": [
    "mailman.register_client(sender,'sender')\n",
    "mailman.register_client(receiver,'receiver')"
   ]
  },
  {
   "cell_type": "code",
   "execution_count": 55,
   "id": "82fda653",
   "metadata": {},
   "outputs": [],
   "source": [
    "sender.compose('hi receiver!','receiver')"
   ]
  },
  {
   "cell_type": "markdown",
   "id": "76c04c93",
   "metadata": {},
   "source": [
    "2.1"
   ]
  },
  {
   "cell_type": "code",
   "execution_count": 57,
   "id": "298b3155",
   "metadata": {},
   "outputs": [],
   "source": [
    "class Dog(object):\n",
    "    def __init__(self, name, owner):\n",
    "        self.is_alive = True\n",
    "        self.name = name\n",
    "        self.owner = owner\n",
    "    def eat(self, thing):\n",
    "        print(self.name + \" ate a \" + str(thing) + \"!\")\n",
    "    def talk(self):\n",
    "        print(self.name + \" says woof!\")\n",
    "        \n",
    "class Cat(object):\n",
    "    def __init__(self, name, owner, lives=9):\n",
    "        self.is_alive = True\n",
    "        self.name = name\n",
    "        self.owner = owner\n",
    "        self.lives = lives\n",
    "    def eat(self, thing):\n",
    "        print(self.name + \" ate a \" + str(thing) + \"!\")\n",
    "    def talk(self):\n",
    "        print(self.name + \" says meow!\")"
   ]
  },
  {
   "cell_type": "code",
   "execution_count": 58,
   "id": "494cbcef",
   "metadata": {},
   "outputs": [],
   "source": [
    "class Pet(object):\n",
    "    def __init__(self, name, owner):\n",
    "        self.is_alive = True # It's alive!!!\n",
    "        self.name = name\n",
    "        self.owner = owner\n",
    "    def eat(self, thing):\n",
    "        print(self.name + \" ate a \" + str(thing) + \"!\")\n",
    "    def talk(self):\n",
    "        print(self.name)\n",
    "        \n",
    "class Dog(Pet):\n",
    "    def talk(self):\n",
    "        print(self.name + ' says woof!')"
   ]
  },
  {
   "cell_type": "code",
   "execution_count": 65,
   "id": "432deef7",
   "metadata": {},
   "outputs": [],
   "source": [
    "class Cat(Pet):\n",
    "    def __init__(self, name, owner, lives=9):\n",
    "        self.is_alive = True\n",
    "        self.lives = lives\n",
    "        self.name = name\n",
    "        self.owner = owner\n",
    "        \n",
    "    def talk(self):\n",
    "        print(self.name + \" says meow!\")\n",
    "        \n",
    "    def lose_life(self):\n",
    "        self.lives -= 1\n",
    "        if self.lives == 0:\n",
    "            self.is_alive = False"
   ]
  },
  {
   "cell_type": "markdown",
   "id": "29db9d4e",
   "metadata": {},
   "source": [
    "2.2"
   ]
  },
  {
   "cell_type": "code",
   "execution_count": 80,
   "id": "c15bb42d",
   "metadata": {},
   "outputs": [],
   "source": [
    "class NoisyCat(Cat): # Fill me in!\n",
    "    \"\"\"A Cat that repeats things twice.\"\"\"\n",
    "    def talk(self):\n",
    "        \"\"\"Talks twice as much as a regular cat.\n",
    "        >>> NoisyCat('Magic', 'James').talk()\n",
    "        Magic says meow!\n",
    "        Magic says meow!\n",
    "        \"\"\"\n",
    "        print(self.name + \" says meow!\")\n",
    "        print(self.name + \" says meow!\")"
   ]
  }
 ],
 "metadata": {
  "kernelspec": {
   "display_name": "Python 3 (ipykernel)",
   "language": "python",
   "name": "python3"
  },
  "language_info": {
   "codemirror_mode": {
    "name": "ipython",
    "version": 3
   },
   "file_extension": ".py",
   "mimetype": "text/x-python",
   "name": "python",
   "nbconvert_exporter": "python",
   "pygments_lexer": "ipython3",
   "version": "3.8.12"
  }
 },
 "nbformat": 4,
 "nbformat_minor": 5
}
