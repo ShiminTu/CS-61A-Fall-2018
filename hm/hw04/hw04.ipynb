{
 "cells": [
  {
   "cell_type": "code",
   "execution_count": 1,
   "id": "840a3819",
   "metadata": {},
   "outputs": [],
   "source": [
    "def intersection(st, ave):\n",
    "    \"\"\"Represent an intersection using the Cantor pairing function.\"\"\"\n",
    "    return (st+ave)*(st+ave+1)//2 + ave\n",
    "\n",
    "def street(inter):\n",
    "    return w(inter) - avenue(inter)\n",
    "\n",
    "def avenue(inter):\n",
    "    return inter - (w(inter) ** 2 + w(inter)) // 2\n",
    "\n",
    "w = lambda z: int(((8*z+1)**0.5-1)/2)\n",
    "\n",
    "def taxicab(a, b):\n",
    "    \"\"\"Return the taxicab distance between two intersections.\n",
    "\n",
    "    >>> times_square = intersection(46, 7)\n",
    "    >>> ess_a_bagel = intersection(51, 3)\n",
    "    >>> taxicab(times_square, ess_a_bagel)\n",
    "    9\n",
    "    >>> taxicab(ess_a_bagel, times_square)\n",
    "    9\n",
    "    \"\"\"\n",
    "    \"*** YOUR CODE HERE ***\"\n",
    "    return abs(street(a)-street(b)) + abs(avenue(a)-avenue(b))"
   ]
  },
  {
   "cell_type": "code",
   "execution_count": 2,
   "id": "6d05605b",
   "metadata": {},
   "outputs": [
    {
     "data": {
      "text/plain": [
       "9"
      ]
     },
     "execution_count": 2,
     "metadata": {},
     "output_type": "execute_result"
    }
   ],
   "source": [
    "times_square = intersection(46, 7)\n",
    "ess_a_bagel = intersection(51, 3)\n",
    "taxicab(times_square, ess_a_bagel)"
   ]
  },
  {
   "cell_type": "code",
   "execution_count": 3,
   "id": "91a6dfb7",
   "metadata": {},
   "outputs": [
    {
     "data": {
      "text/plain": [
       "9"
      ]
     },
     "execution_count": 3,
     "metadata": {},
     "output_type": "execute_result"
    }
   ],
   "source": [
    "taxicab(ess_a_bagel, times_square)"
   ]
  },
  {
   "cell_type": "code",
   "execution_count": 6,
   "id": "3b00975d",
   "metadata": {},
   "outputs": [
    {
     "data": {
      "text/plain": [
       "False"
      ]
     },
     "execution_count": 6,
     "metadata": {},
     "output_type": "execute_result"
    }
   ],
   "source": [
    "from math import sqrt\n",
    "sqrt(80) == round(sqrt(80))"
   ]
  },
  {
   "cell_type": "code",
   "execution_count": 21,
   "id": "7d0438f8",
   "metadata": {},
   "outputs": [],
   "source": [
    "def squares(s):\n",
    "    \"\"\"Returns a new list containing square roots of the elements of the\n",
    "    original list that are perfect squares.\n",
    "\n",
    "    >>> seq = [8, 49, 8, 9, 2, 1, 100, 102]\n",
    "    >>> squares(seq)\n",
    "    [7, 3, 1, 10]\n",
    "    >>> seq = [500, 30]\n",
    "    >>> squares(seq)\n",
    "    []\n",
    "    \"\"\"\n",
    "    \"*** YOUR CODE HERE ***\"\n",
    "#     assert s == list, 'input is not a list'\n",
    "    output = []\n",
    "    for i in s:\n",
    "        if sqrt(i) == round(sqrt(i)):\n",
    "            output.append(int(sqrt(i)))\n",
    "            \n",
    "    return output\n",
    "            "
   ]
  },
  {
   "cell_type": "code",
   "execution_count": 22,
   "id": "a015a229",
   "metadata": {
    "scrolled": false
   },
   "outputs": [
    {
     "data": {
      "text/plain": [
       "[]"
      ]
     },
     "execution_count": 22,
     "metadata": {},
     "output_type": "execute_result"
    }
   ],
   "source": [
    "squares([500, 30])"
   ]
  },
  {
   "cell_type": "code",
   "execution_count": null,
   "id": "59a9984b",
   "metadata": {},
   "outputs": [],
   "source": [
    "# G(n) = n,                                       if n <= 3\n",
    "# G(n) = G(n - 1) + 2 * G(n - 2) + 3 * G(n - 3),  if n > 3"
   ]
  },
  {
   "cell_type": "code",
   "execution_count": 23,
   "id": "3dacff76",
   "metadata": {},
   "outputs": [],
   "source": [
    "def g(n):\n",
    "    \"\"\"Return the value of G(n), computed recursively.\n",
    "\n",
    "    >>> g(1)\n",
    "    1\n",
    "    >>> g(2)\n",
    "    2\n",
    "    >>> g(3)\n",
    "    3\n",
    "    >>> g(4)\n",
    "    10\n",
    "    >>> g(5)\n",
    "    22\n",
    "    >>> from construct_check import check\n",
    "    >>> check(HW_SOURCE_FILE, 'g', ['While', 'For'])\n",
    "    True\n",
    "    \"\"\"\n",
    "    \"*** YOUR CODE HERE ***\"\n",
    "    if n <= 3:\n",
    "        return n \n",
    "    else:\n",
    "        return g(n-1) + 2*g(n-2) + 3*g(n-3) \n",
    "    "
   ]
  },
  {
   "cell_type": "code",
   "execution_count": 34,
   "id": "4b92aed4",
   "metadata": {},
   "outputs": [],
   "source": [
    "def g_iter(n):\n",
    "    \"\"\"Return the value of G(n), computed iteratively.\n",
    "\n",
    "    >>> g_iter(1)\n",
    "    1\n",
    "    >>> g_iter(2)\n",
    "    2\n",
    "    >>> g_iter(3)\n",
    "    3\n",
    "    >>> g_iter(4)\n",
    "    10\n",
    "    >>> g_iter(5)\n",
    "    22\n",
    "    >>> from construct_check import check\n",
    "    >>> check(HW_SOURCE_FILE, 'g_iter', ['Recursion'])\n",
    "    True\n",
    "    \"\"\"\n",
    "    \"*** YOUR CODE HERE ***\"\n",
    "    if n <= 3:\n",
    "        return n\n",
    "    else: \n",
    "        i = 4\n",
    "        a = 1\n",
    "        b = 2\n",
    "        c = 3\n",
    "        while i <= n:\n",
    "            d = a\n",
    "            a = b\n",
    "            b = c\n",
    "            c = 3*d + 2*a + b\n",
    "            i = i + 1\n",
    "        \n",
    "    return c\n",
    "            "
   ]
  },
  {
   "cell_type": "code",
   "execution_count": 36,
   "id": "41c08b4b",
   "metadata": {},
   "outputs": [
    {
     "data": {
      "text/plain": [
       "51"
      ]
     },
     "execution_count": 36,
     "metadata": {},
     "output_type": "execute_result"
    }
   ],
   "source": [
    "g_iter(6)"
   ]
  },
  {
   "cell_type": "code",
   "execution_count": 95,
   "id": "b5bd03ab",
   "metadata": {},
   "outputs": [],
   "source": [
    "def count_change(amount):\n",
    "    \"\"\"Return the number of ways to make change for amount.\n",
    "\n",
    "    >>> count_change(7)\n",
    "    6\n",
    "    >>> count_change(10)\n",
    "    14\n",
    "    >>> count_change(20)\n",
    "    60\n",
    "    >>> count_change(100)\n",
    "    9828\n",
    "    >>> from construct_check import check\n",
    "    >>> check(HW_SOURCE_FILE, 'count_change', ['While', 'For'])\n",
    "    True\n",
    "    \"\"\"\n",
    "    \"*** YOUR CODE HERE ***\"\n",
    "    if amount <= 0:\n",
    "        count = 0\n",
    "        return count\n",
    "    elif amount == 0 or amount == 1:\n",
    "        count = 1\n",
    "        return count\n",
    "    else:\n",
    "        count = 1 + count_change(amount-2) + count_change(amount-4) + count_change(amount-8) + count_change(amount-16)\n",
    "        minus = \n",
    "        return count - minus\n",
    "\n",
    "    return count\n",
    "\n",
    "\"\"\"\n",
    "\n",
    "\n",
    "\"\"\""
   ]
  },
  {
   "cell_type": "code",
   "execution_count": 96,
   "id": "173063c6",
   "metadata": {},
   "outputs": [
    {
     "data": {
      "text/plain": [
       "2"
      ]
     },
     "execution_count": 96,
     "metadata": {},
     "output_type": "execute_result"
    }
   ],
   "source": [
    "count_change(10)"
   ]
  }
 ],
 "metadata": {
  "kernelspec": {
   "display_name": "Python 3 (ipykernel)",
   "language": "python",
   "name": "python3"
  },
  "language_info": {
   "codemirror_mode": {
    "name": "ipython",
    "version": 3
   },
   "file_extension": ".py",
   "mimetype": "text/x-python",
   "name": "python",
   "nbconvert_exporter": "python",
   "pygments_lexer": "ipython3",
   "version": "3.9.12"
  }
 },
 "nbformat": 4,
 "nbformat_minor": 5
}
