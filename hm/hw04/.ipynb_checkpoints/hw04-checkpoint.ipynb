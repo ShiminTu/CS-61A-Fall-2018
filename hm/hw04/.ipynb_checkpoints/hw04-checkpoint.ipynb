{
 "cells": [
  {
   "cell_type": "code",
   "execution_count": 1,
   "id": "840a3819",
   "metadata": {},
   "outputs": [],
   "source": [
    "def intersection(st, ave):\n",
    "    \"\"\"Represent an intersection using the Cantor pairing function.\"\"\"\n",
    "    return (st+ave)*(st+ave+1)//2 + ave\n",
    "\n",
    "def street(inter):\n",
    "    return w(inter) - avenue(inter)\n",
    "\n",
    "def avenue(inter):\n",
    "    return inter - (w(inter) ** 2 + w(inter)) // 2\n",
    "\n",
    "w = lambda z: int(((8*z+1)**0.5-1)/2)\n",
    "\n",
    "def taxicab(a, b):\n",
    "    \"\"\"Return the taxicab distance between two intersections.\n",
    "\n",
    "    >>> times_square = intersection(46, 7)\n",
    "    >>> ess_a_bagel = intersection(51, 3)\n",
    "    >>> taxicab(times_square, ess_a_bagel)\n",
    "    9\n",
    "    >>> taxicab(ess_a_bagel, times_square)\n",
    "    9\n",
    "    \"\"\"\n",
    "    \"*** YOUR CODE HERE ***\"\n",
    "    return abs(street(a)-street(b)) + abs(avenue(a)-avenue(b))"
   ]
  },
  {
   "cell_type": "code",
   "execution_count": 2,
   "id": "6d05605b",
   "metadata": {},
   "outputs": [
    {
     "data": {
      "text/plain": [
       "9"
      ]
     },
     "execution_count": 2,
     "metadata": {},
     "output_type": "execute_result"
    }
   ],
   "source": [
    "times_square = intersection(46, 7)\n",
    "ess_a_bagel = intersection(51, 3)\n",
    "taxicab(times_square, ess_a_bagel)"
   ]
  },
  {
   "cell_type": "code",
   "execution_count": 3,
   "id": "91a6dfb7",
   "metadata": {},
   "outputs": [
    {
     "data": {
      "text/plain": [
       "9"
      ]
     },
     "execution_count": 3,
     "metadata": {},
     "output_type": "execute_result"
    }
   ],
   "source": [
    "taxicab(ess_a_bagel, times_square)"
   ]
  },
  {
   "cell_type": "code",
   "execution_count": 6,
   "id": "bc9445de",
   "metadata": {},
   "outputs": [
    {
     "data": {
      "text/plain": [
       "False"
      ]
     },
     "execution_count": 6,
     "metadata": {},
     "output_type": "execute_result"
    }
   ],
   "source": [
    "from math import sqrt\n",
    "sqrt(80) == round(sqrt(80))"
   ]
  },
  {
   "cell_type": "code",
   "execution_count": 21,
   "id": "b2275980",
   "metadata": {},
   "outputs": [],
   "source": [
    "def squares(s):\n",
    "    \"\"\"Returns a new list containing square roots of the elements of the\n",
    "    original list that are perfect squares.\n",
    "\n",
    "    >>> seq = [8, 49, 8, 9, 2, 1, 100, 102]\n",
    "    >>> squares(seq)\n",
    "    [7, 3, 1, 10]\n",
    "    >>> seq = [500, 30]\n",
    "    >>> squares(seq)\n",
    "    []\n",
    "    \"\"\"\n",
    "    \"*** YOUR CODE HERE ***\"\n",
    "#     assert s == list, 'input is not a list'\n",
    "    output = []\n",
    "    for i in s:\n",
    "        if sqrt(i) == round(sqrt(i)):\n",
    "            output.append(int(sqrt(i)))\n",
    "            \n",
    "    return output\n",
    "            "
   ]
  },
  {
   "cell_type": "code",
   "execution_count": 22,
   "id": "8994f74e",
   "metadata": {
    "scrolled": false
   },
   "outputs": [
    {
     "data": {
      "text/plain": [
       "[]"
      ]
     },
     "execution_count": 22,
     "metadata": {},
     "output_type": "execute_result"
    }
   ],
   "source": [
    "squares([500, 30])"
   ]
  },
  {
   "cell_type": "code",
   "execution_count": null,
   "id": "fdaf7b66",
   "metadata": {},
   "outputs": [],
   "source": [
    "# G(n) = n,                                       if n <= 3\n",
    "# G(n) = G(n - 1) + 2 * G(n - 2) + 3 * G(n - 3),  if n > 3"
   ]
  },
  {
   "cell_type": "code",
   "execution_count": 23,
   "id": "fd426e4f",
   "metadata": {},
   "outputs": [],
   "source": [
    "def g(n):\n",
    "    \"\"\"Return the value of G(n), computed recursively.\n",
    "\n",
    "    >>> g(1)\n",
    "    1\n",
    "    >>> g(2)\n",
    "    2\n",
    "    >>> g(3)\n",
    "    3\n",
    "    >>> g(4)\n",
    "    10\n",
    "    >>> g(5)\n",
    "    22\n",
    "    >>> from construct_check import check\n",
    "    >>> check(HW_SOURCE_FILE, 'g', ['While', 'For'])\n",
    "    True\n",
    "    \"\"\"\n",
    "    \"*** YOUR CODE HERE ***\"\n",
    "    if n <= 3:\n",
    "        return n \n",
    "    else:\n",
    "        return g(n-1) + 2*g(n-2) + 3*g(n-3) \n",
    "    "
   ]
  },
  {
   "cell_type": "code",
   "execution_count": null,
   "id": "ff0ddbf6",
   "metadata": {},
   "outputs": [],
   "source": [
    "def g_iter(n):\n",
    "    \"\"\"Return the value of G(n), computed iteratively.\n",
    "\n",
    "    >>> g_iter(1)\n",
    "    1\n",
    "    >>> g_iter(2)\n",
    "    2\n",
    "    >>> g_iter(3)\n",
    "    3\n",
    "    >>> g_iter(4)\n",
    "    10\n",
    "    >>> g_iter(5)\n",
    "    22\n",
    "    >>> from construct_check import check\n",
    "    >>> check(HW_SOURCE_FILE, 'g_iter', ['Recursion'])\n",
    "    True\n",
    "    \"\"\"\n",
    "    \"*** YOUR CODE HERE ***\"\n",
    "    while i <= n:\n",
    "        if n "
   ]
  }
 ],
 "metadata": {
  "kernelspec": {
   "display_name": "Python 3 (ipykernel)",
   "language": "python",
   "name": "python3"
  },
  "language_info": {
   "codemirror_mode": {
    "name": "ipython",
    "version": 3
   },
   "file_extension": ".py",
   "mimetype": "text/x-python",
   "name": "python",
   "nbconvert_exporter": "python",
   "pygments_lexer": "ipython3",
   "version": "3.9.12"
  }
 },
 "nbformat": 4,
 "nbformat_minor": 5
}
