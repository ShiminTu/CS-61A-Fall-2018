{
 "cells": [
  {
   "cell_type": "code",
   "execution_count": 4,
   "id": "4c955598",
   "metadata": {},
   "outputs": [
    {
     "data": {
      "text/plain": [
       "5"
      ]
     },
     "execution_count": 4,
     "metadata": {},
     "output_type": "execute_result"
    }
   ],
   "source": [
    "### 1.2\n",
    "curry2 = lambda h: lambda x: lambda y: h(x,y)\n",
    "curry2(lambda x, y : x + y)(3)(2)"
   ]
  },
  {
   "cell_type": "code",
   "execution_count": 5,
   "id": "26943175",
   "metadata": {},
   "outputs": [],
   "source": [
    "### 1.5\n",
    "def keep_ints(cond, n):\n",
    "    \"\"\"Print out all integers 1..i..n where cond(i) is true\n",
    "        >>> def is_even(x):\n",
    "                # Even numbers have remainder 0 when divided by 2.\n",
    "                return x % 2 == 0\n",
    "        >>> keep_ints(is_even, 5)\n",
    "        2\n",
    "        4\n",
    "    \"\"\"\n",
    "    i = 1\n",
    "    while i <= n:\n",
    "        if cond(i) == True:\n",
    "            print(i)\n",
    "        i += 1\n",
    "    "
   ]
  },
  {
   "cell_type": "code",
   "execution_count": 8,
   "id": "7a182081",
   "metadata": {},
   "outputs": [],
   "source": [
    "### 1.6\n",
    "\n",
    "def keep_ints(n):\n",
    "    \"\"\"Returns a function which takes one parameter cond and prints out all integers 1..i..n where calling cond(i) returns True.\n",
    "    >>> def is_even(x):\n",
    "             # Even numbers have remainder 0 when divided by 2.\n",
    "             return x % 2 == 0\n",
    "    >>> keep_ints(5)(is_even)\n",
    "    2\n",
    "    4\n",
    "    \"\"\"\n",
    "    def cond(x):\n",
    "        i = 1\n",
    "        while i <= n:\n",
    "            if x(i) == True:\n",
    "                print(i)\n",
    "            i += 1      \n",
    "    return cond"
   ]
  },
  {
   "cell_type": "code",
   "execution_count": 9,
   "id": "018ee57f",
   "metadata": {},
   "outputs": [],
   "source": [
    "def is_even(x):\n",
    "    # Even numbers have remainder 0 when divided by 2.\n",
    "    return x % 2 == 0"
   ]
  },
  {
   "cell_type": "code",
   "execution_count": 27,
   "id": "012b428f",
   "metadata": {},
   "outputs": [],
   "source": [
    "### 2.1\n",
    "def multiply(m, n): \n",
    "    \"\"\"\n",
    "    >>> multiply(5, 3)\n",
    "    15\n",
    "    \"\"\"\n",
    "    if n == 1:\n",
    "        return m\n",
    "    else:\n",
    "        return m + multiply(m,n-1)"
   ]
  },
  {
   "cell_type": "code",
   "execution_count": 29,
   "id": "f2cbc53f",
   "metadata": {},
   "outputs": [],
   "source": [
    "### 2.2\n",
    "def countdown(n): \n",
    "    \"\"\"\n",
    "    >>> countdown(3)\n",
    "    3\n",
    "    2\n",
    "    1\n",
    "    \"\"\"\n",
    "    if n == 1:\n",
    "        print(n)\n",
    "    else:\n",
    "        print(n)\n",
    "        return countdown(n-1)"
   ]
  },
  {
   "cell_type": "code",
   "execution_count": 45,
   "id": "8dc4f9d3",
   "metadata": {},
   "outputs": [],
   "source": [
    "### 2.3\n",
    "def countup(n): \n",
    "    \"\"\"\n",
    "    >>> countup(3)\n",
    "    1\n",
    "    2\n",
    "    3\n",
    "    \"\"\"\n",
    "#     def fun1(i):\n",
    "#         if i == n:\n",
    "#             print(n)\n",
    "#         else:\n",
    "#             print(i)\n",
    "#             return fun1(i+1)\n",
    "        \n",
    "    if n == 1:\n",
    "        print(n)\n",
    "        return\n",
    "    else:\n",
    "        countup(n-1)\n",
    "        print(n)"
   ]
  },
  {
   "cell_type": "code",
   "execution_count": 37,
   "id": "d858c44f",
   "metadata": {},
   "outputs": [],
   "source": [
    "### 2.4\n",
    "def sum_every_other_digit(n):\n",
    "    \"\"\"\n",
    "        >>> sum_every_other_digit(7)\n",
    "        7\n",
    "        >>> sum_every_other_digit(30)\n",
    "        0\n",
    "        >>> sum_every_other_digit(228)\n",
    "        10\n",
    "        >>> sum_every_other_digit(123456)\n",
    "        12\n",
    "        >>> sum_every_other_digit(1234567) # 1 + 3 + 5 + 7\n",
    "        16\n",
    "        \"\"\"\n",
    "    others = n // 100\n",
    "    last_one = n % 10\n",
    "    \n",
    "    if others == 0:\n",
    "        return last_one\n",
    "    else:\n",
    "        return last_one + sum_every_other_digit(others)"
   ]
  }
 ],
 "metadata": {
  "kernelspec": {
   "display_name": "Python 3 (ipykernel)",
   "language": "python",
   "name": "python3"
  },
  "language_info": {
   "codemirror_mode": {
    "name": "ipython",
    "version": 3
   },
   "file_extension": ".py",
   "mimetype": "text/x-python",
   "name": "python",
   "nbconvert_exporter": "python",
   "pygments_lexer": "ipython3",
   "version": "3.9.12"
  }
 },
 "nbformat": 4,
 "nbformat_minor": 5
}
