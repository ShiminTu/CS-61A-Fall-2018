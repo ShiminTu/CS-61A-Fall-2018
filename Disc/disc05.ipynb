{
 "cells": [
  {
   "cell_type": "code",
   "execution_count": 9,
   "metadata": {
    "ExecuteTime": {
     "end_time": "2023-02-28T08:35:01.245062Z",
     "start_time": "2023-02-28T08:35:01.238993Z"
    }
   },
   "outputs": [
    {
     "name": "stdout",
     "output_type": "stream",
     "text": [
      "[1, 2, 4, 2, 1, 5]\n",
      "[1, 2, 4, 2, 1, 5, 2, 2]\n"
     ]
    }
   ],
   "source": [
    "#1.2\n",
    "def add_this_many(x,el,lst):\n",
    "    for i in range(x):\n",
    "        lst.append(el)\n",
    "    return lst\n",
    "\n",
    "lst=[1,2,4,2,1]\n",
    "print(add_this_many(1,5,lst))\n",
    "print(add_this_many(2,2,lst))"
   ]
  },
  {
   "cell_type": "code",
   "execution_count": 10,
   "metadata": {
    "ExecuteTime": {
     "end_time": "2023-02-28T08:47:24.245386Z",
     "start_time": "2023-02-28T08:47:24.238788Z"
    }
   },
   "outputs": [
    {
     "data": {
      "text/plain": [
       "5"
      ]
     },
     "execution_count": 10,
     "metadata": {},
     "output_type": "execute_result"
    }
   ],
   "source": [
    "#2.1\n",
    "def stepper(num):\n",
    "    def step():\n",
    "        nonlocal num\n",
    "        num = num + 1\n",
    "        return num\n",
    "    return step\n",
    "\n",
    "s = stepper(3)\n",
    "s()\n",
    "s()"
   ]
  },
  {
   "cell_type": "code",
   "execution_count": 45,
   "metadata": {
    "ExecuteTime": {
     "end_time": "2023-02-28T09:03:32.985072Z",
     "start_time": "2023-02-28T09:03:32.980801Z"
    }
   },
   "outputs": [],
   "source": [
    "#2.2\n",
    "def bathtub(n):\n",
    "    def ducky_annihilator(rate):\n",
    "        def ducky():\n",
    "            nonlocal n \n",
    "            nonlocal rate\n",
    "            n = n-rate\n",
    "            return str(n) +' rubber duckies left'\n",
    "            \n",
    "        return ducky\n",
    "    return ducky_annihilator"
   ]
  },
  {
   "cell_type": "code",
   "execution_count": 46,
   "metadata": {
    "ExecuteTime": {
     "end_time": "2023-02-28T09:03:33.727138Z",
     "start_time": "2023-02-28T09:03:33.723251Z"
    }
   },
   "outputs": [
    {
     "data": {
      "text/plain": [
       "'500 rubber duckies left'"
      ]
     },
     "execution_count": 46,
     "metadata": {},
     "output_type": "execute_result"
    }
   ],
   "source": [
    "annihilator = bathtub(500)\n",
    "kylo_ren = annihilator(10)\n",
    "kylo_ren()\n",
    "rey = annihilator(-20)\n",
    "rey()\n",
    "kylo_ren()"
   ]
  },
  {
   "cell_type": "code",
   "execution_count": 14,
   "metadata": {
    "ExecuteTime": {
     "end_time": "2023-03-01T03:14:21.704308Z",
     "start_time": "2023-03-01T03:14:21.700166Z"
    }
   },
   "outputs": [],
   "source": [
    "def gen_all_items(lst):\n",
    "    for i in range(len(lst)):\n",
    "        yield from list(lst[i])"
   ]
  },
  {
   "cell_type": "code",
   "execution_count": 18,
   "metadata": {
    "ExecuteTime": {
     "end_time": "2023-03-01T03:14:42.568830Z",
     "start_time": "2023-03-01T03:14:42.562610Z"
    },
    "scrolled": true
   },
   "outputs": [
    {
     "data": {
      "text/plain": [
       "[<list_iterator at 0x7fb772006940>,\n",
       " <list_iterator at 0x7fb7720068b0>,\n",
       " <list_iterator at 0x7fb772006220>]"
      ]
     },
     "execution_count": 18,
     "metadata": {},
     "output_type": "execute_result"
    }
   ],
   "source": [
    "nums=[[1,2],[3,4],[[5,6]]]\n",
    "num_iter=[iter(l) for l in nums]\n",
    "num_iter"
   ]
  },
  {
   "cell_type": "code",
   "execution_count": 19,
   "metadata": {
    "ExecuteTime": {
     "end_time": "2023-03-01T03:14:43.388331Z",
     "start_time": "2023-03-01T03:14:43.382845Z"
    }
   },
   "outputs": [
    {
     "data": {
      "text/plain": [
       "[1, 2, 3, 4, [5, 6]]"
      ]
     },
     "execution_count": 19,
     "metadata": {},
     "output_type": "execute_result"
    }
   ],
   "source": [
    "list(gen_all_items(num_iter))"
   ]
  }
 ],
 "metadata": {
  "kernelspec": {
   "display_name": "Python 3",
   "language": "python",
   "name": "python3"
  },
  "language_info": {
   "codemirror_mode": {
    "name": "ipython",
    "version": 3
   },
   "file_extension": ".py",
   "mimetype": "text/x-python",
   "name": "python",
   "nbconvert_exporter": "python",
   "pygments_lexer": "ipython3",
   "version": "3.8.5"
  },
  "toc": {
   "base_numbering": 1,
   "nav_menu": {},
   "number_sections": true,
   "sideBar": true,
   "skip_h1_title": false,
   "title_cell": "Table of Contents",
   "title_sidebar": "Contents",
   "toc_cell": false,
   "toc_position": {},
   "toc_section_display": true,
   "toc_window_display": false
  }
 },
 "nbformat": 4,
 "nbformat_minor": 4
}
