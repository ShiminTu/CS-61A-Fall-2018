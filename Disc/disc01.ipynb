{
 "cells": [
  {
   "cell_type": "code",
   "execution_count": 3,
   "id": "40d94dbf",
   "metadata": {},
   "outputs": [],
   "source": [
    "### 1.1\n",
    "def wears_jacket_with_if(temp, raining): \n",
    "    \"\"\"\n",
    "    >>> wears_jacket(90, False)\n",
    "    False\n",
    "    >>> wears_jacket(40, False)\n",
    "    True\n",
    "    >>> wears_jacket(100, True)\n",
    "    True\n",
    "    \"\"\"\n",
    "    if temp < 60 or raining == True:\n",
    "        return True\n",
    "    else:\n",
    "        return False"
   ]
  },
  {
   "cell_type": "code",
   "execution_count": 8,
   "id": "3b70dbbb",
   "metadata": {},
   "outputs": [
    {
     "data": {
      "text/plain": [
       "True"
      ]
     },
     "execution_count": 8,
     "metadata": {},
     "output_type": "execute_result"
    }
   ],
   "source": [
    "wears_jacket_with_if(100, True)"
   ]
  },
  {
   "cell_type": "code",
   "execution_count": 11,
   "id": "98d18d53",
   "metadata": {},
   "outputs": [],
   "source": [
    "def wears_jacket(temp, raining):\n",
    "    return wears_jacket_with_if(temp, raining)"
   ]
  },
  {
   "cell_type": "code",
   "execution_count": 12,
   "id": "1d378d24",
   "metadata": {
    "scrolled": false
   },
   "outputs": [
    {
     "data": {
      "text/plain": [
       "False"
      ]
     },
     "execution_count": 12,
     "metadata": {},
     "output_type": "execute_result"
    }
   ],
   "source": [
    "wears_jacket(90, False)"
   ]
  },
  {
   "cell_type": "code",
   "execution_count": 29,
   "id": "bc44e9f0",
   "metadata": {
    "scrolled": true
   },
   "outputs": [],
   "source": [
    "### 1.3 \n",
    "def is_prime(n):\n",
    "    '''\n",
    "    >>> is_prime(10)\n",
    "    False\n",
    "    >>> is_prime(7)\n",
    "    True\n",
    "    '''\n",
    "    i = 2\n",
    "    count = 0\n",
    "    while i < n:\n",
    "        if n % i == 0:\n",
    "            return False\n",
    "        i += 1\n",
    "    return True"
   ]
  },
  {
   "cell_type": "code",
   "execution_count": 32,
   "id": "4f0e5ad3",
   "metadata": {},
   "outputs": [
    {
     "data": {
      "text/plain": [
       "False"
      ]
     },
     "execution_count": 32,
     "metadata": {},
     "output_type": "execute_result"
    }
   ],
   "source": [
    "is_prime(10)"
   ]
  },
  {
   "cell_type": "code",
   "execution_count": null,
   "id": "258b15a1",
   "metadata": {},
   "outputs": [],
   "source": []
  }
 ],
 "metadata": {
  "kernelspec": {
   "display_name": "Python 3 (ipykernel)",
   "language": "python",
   "name": "python3"
  },
  "language_info": {
   "codemirror_mode": {
    "name": "ipython",
    "version": 3
   },
   "file_extension": ".py",
   "mimetype": "text/x-python",
   "name": "python",
   "nbconvert_exporter": "python",
   "pygments_lexer": "ipython3",
   "version": "3.9.12"
  }
 },
 "nbformat": 4,
 "nbformat_minor": 5
}
