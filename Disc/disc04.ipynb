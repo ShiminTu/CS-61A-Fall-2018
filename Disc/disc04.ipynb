{
 "cells": [
  {
   "cell_type": "code",
   "execution_count": 129,
   "id": "c3b66ddd",
   "metadata": {},
   "outputs": [],
   "source": [
    "# Constructor\n",
    "def tree(label, branches=[]):\n",
    "    for branch in branches:\n",
    "        assert is_tree(branch)\n",
    "    return [label] + list(branches)# Selectors\n",
    "\n",
    "def label(tree):\n",
    "    return tree[0]\n",
    "\n",
    "def branches(tree):\n",
    "    return tree[1:]\n",
    "\n",
    "# For convenience\n",
    "def is_leaf(tree):\n",
    "    return not branches(tree)\n",
    "\n",
    "def is_tree(tree):\n",
    "        if type(tree) != list or len(tree) < 1:\n",
    "            return False\n",
    "        for branch in branches(tree):\n",
    "            if not is_tree(branch):\n",
    "                return False\n",
    "        return True"
   ]
  },
  {
   "cell_type": "code",
   "execution_count": 122,
   "id": "6b0286ef",
   "metadata": {},
   "outputs": [],
   "source": [
    "t = tree(1,[tree(3,[tree(9,[tree(10)]),tree(5,[tree(8)]),tree(6)]),tree(2)])"
   ]
  },
  {
   "cell_type": "code",
   "execution_count": 120,
   "id": "46dc6145",
   "metadata": {
    "scrolled": false
   },
   "outputs": [
    {
     "data": {
      "text/plain": [
       "[1, [3, [9, [10]], [5], [6]], [2]]"
      ]
     },
     "execution_count": 120,
     "metadata": {},
     "output_type": "execute_result"
    }
   ],
   "source": [
    "t"
   ]
  },
  {
   "cell_type": "code",
   "execution_count": 91,
   "id": "c8e9a907",
   "metadata": {},
   "outputs": [],
   "source": [
    "# 2.1 \n",
    "def tree_max(t):\n",
    "    \"\"\"Return the maximum label in a tree.\n",
    "    >>> t = tree(4, [tree(2, [tree(1)]), tree(10)])\n",
    "    >>> tree_max(t)\n",
    "    10\n",
    "    \"\"\"\n",
    "    label_lst = []\n",
    "    \n",
    "    def flatten(t):\n",
    "        nonlocal label_lst\n",
    "        for i in t:\n",
    "            if type(i) != list:\n",
    "                label_lst.append(i)\n",
    "            elif len(i) == 1:\n",
    "                label_lst += i\n",
    "            else:\n",
    "                flatten(i)\n",
    "        return label_lst\n",
    "            \n",
    "    return max(flatten(t))   \n",
    "\n",
    "def tree_max(t):\n",
    "    \"\"\"Return the maximum label in a tree.\n",
    "    >>> t = tree(4, [tree(2, [tree(1)]), tree(10)])\n",
    "    >>> tree_max(t)\n",
    "    10\n",
    "    \"\"\"\n",
    "    label_lst = []\n",
    "    \n",
    "    def flatten(t):\n",
    "        nonlocal label_lst\n",
    "        if is_leaf(t):\n",
    "            label_lst += t\n",
    "        else:\n",
    "            label_lst.append(label(t))\n",
    "            for branch in branches(t):\n",
    "                flatten(branch)\n",
    "        return label_lst\n",
    "    \n",
    "    return max(flatten(t))"
   ]
  },
  {
   "cell_type": "code",
   "execution_count": 94,
   "id": "8a0a4189",
   "metadata": {},
   "outputs": [
    {
     "data": {
      "text/plain": [
       "[1, [3, [9], [2], [20]], [2]]"
      ]
     },
     "execution_count": 94,
     "metadata": {},
     "output_type": "execute_result"
    }
   ],
   "source": [
    "t"
   ]
  },
  {
   "cell_type": "code",
   "execution_count": 111,
   "id": "96db20fa",
   "metadata": {},
   "outputs": [],
   "source": [
    "# 2.2\n",
    "def height(t):\n",
    "    \"\"\"Return the height of a tree.\n",
    "    >>> t = tree(3, [tree(5, [tree(1)]), tree(2)])\n",
    "    >>> height(t)\n",
    "    2\n",
    "    \"\"\"\n",
    "    height_lst = []\n",
    "    \n",
    "    def ():\n",
    "        nonlocal height_lst\n",
    "#         heigh = 0\n",
    "        if is_leaf(t):\n",
    "            height_lst.append(height)\n",
    "        else:\n",
    "            b\n",
    "                \n",
    "\n"
   ]
  },
  {
   "cell_type": "code",
   "execution_count": 139,
   "id": "ebd12efd",
   "metadata": {},
   "outputs": [],
   "source": [
    "# 2.3\n",
    "def square_tree(t):\n",
    "    if is_leaf(t):\n",
    "        t[0] = label(t) ** 2\n",
    "    else:\n",
    "        t[0] = label(t) ** 2\n",
    "        for i in range(len(branches(t))):\n",
    "            t[i+1] = square_tree(branches(t)[i])\n",
    "    return t"
   ]
  },
  {
   "cell_type": "code",
   "execution_count": null,
   "id": "e4c34d40",
   "metadata": {},
   "outputs": [],
   "source": [
    "def find_path(tree, x):\n",
    "    \"\"\"\n",
    "    >>> t = tree(2, [tree(7, [tree(3), tree(6, [tree(5), tree(11)])] ), tree(15)])\n",
    "    >>> find_path(t, 5)\n",
    "    [2, 7, 6, 5]\n",
    "    >>> find_path(t, 10) # returns None\n",
    "    \"\"\"\n",
    "\n",
    "        \n",
    "        \n",
    "    if label(tree) == x:\n",
    "        return [x]\n",
    "    else:\n",
    "        for branch in branches(tree):\n",
    "            find_path(branch,x)\n",
    "            \n",
    "        "
   ]
  },
  {
   "cell_type": "code",
   "execution_count": 144,
   "id": "a2458a0a",
   "metadata": {},
   "outputs": [
    {
     "data": {
      "text/plain": [
       "False"
      ]
     },
     "execution_count": 144,
     "metadata": {},
     "output_type": "execute_result"
    }
   ],
   "source": [
    "5 in [2,3,4]"
   ]
  }
 ],
 "metadata": {
  "kernelspec": {
   "display_name": "Python 3 (ipykernel)",
   "language": "python",
   "name": "python3"
  },
  "language_info": {
   "codemirror_mode": {
    "name": "ipython",
    "version": 3
   },
   "file_extension": ".py",
   "mimetype": "text/x-python",
   "name": "python",
   "nbconvert_exporter": "python",
   "pygments_lexer": "ipython3",
   "version": "3.9.12"
  },
  "toc": {
   "base_numbering": 1,
   "nav_menu": {},
   "number_sections": true,
   "sideBar": true,
   "skip_h1_title": false,
   "title_cell": "Table of Contents",
   "title_sidebar": "Contents",
   "toc_cell": false,
   "toc_position": {},
   "toc_section_display": true,
   "toc_window_display": false
  }
 },
 "nbformat": 4,
 "nbformat_minor": 5
}
