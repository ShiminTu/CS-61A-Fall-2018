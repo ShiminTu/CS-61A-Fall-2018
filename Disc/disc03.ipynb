{
 "cells": [
  {
   "cell_type": "code",
   "execution_count": 12,
   "id": "a82c3310",
   "metadata": {},
   "outputs": [],
   "source": [
    "# 1.1\n",
    "def is_prime(n): \n",
    "    \"\"\"\n",
    "    >>> is_prime(7)\n",
    "    True\n",
    "    >>> is_prime(10)\n",
    "    False\n",
    "    >>> is_prime(1)\n",
    "    False\n",
    "    \"\"\"\n",
    "    def prime_helper(m):\n",
    "        if m == 1:\n",
    "            return True\n",
    "        elif n % m == 0 and n != m:\n",
    "            return False\n",
    "        else: \n",
    "            return prime_helper(m-1)\n",
    "        \n",
    "    if n == 1:\n",
    "        return False\n",
    "    else:\n",
    "        return prime_helper(n)"
   ]
  },
  {
   "cell_type": "code",
   "execution_count": 10,
   "id": "b31163d6",
   "metadata": {},
   "outputs": [],
   "source": [
    "# 1.2\n",
    "def make_func_repeater(f, x):\n",
    "    \"\"\"\n",
    "    >>> incr_1 = make_func_repeater(lambda x: x + 1, 1)\n",
    "    >>> incr_1(2) #same as f(f(x))\n",
    "    3\n",
    "    >>> incr_1(5)\n",
    "    6\n",
    "    \"\"\"\n",
    "    def repeat(n):\n",
    "        if n == 1:\n",
    "            return f(x)\n",
    "        else:\n",
    "            return f(repeat(n-1))\n",
    "    \n",
    "    return repeat"
   ]
  },
  {
   "cell_type": "code",
   "execution_count": 71,
   "id": "dfe0e075",
   "metadata": {},
   "outputs": [],
   "source": [
    "# 2.1\n",
    "def count_stair_ways(n):\n",
    "    if n == 0:\n",
    "        return 1\n",
    "    elif n < 0:\n",
    "        return 0\n",
    "    else:\n",
    "        return count_stair_ways(n-2) + count_stair_ways(n-1)"
   ]
  },
  {
   "cell_type": "code",
   "execution_count": 83,
   "id": "ae532776",
   "metadata": {},
   "outputs": [],
   "source": [
    "# 2.2\n",
    "def count_k(n, k):\n",
    "    \"\"\"\n",
    "    >>> count_k(3, 3) # 3, 2 + 1, 1 + 2, 1 + 1 + 1\n",
    "    4\n",
    "    >>> count_k(4, 4)\n",
    "    8\n",
    "    >>> count_k(10, 3)\n",
    "    274\n",
    "    >>> count_k(300, 1) # Only one step at a time\n",
    "    1\n",
    "    \"\"\"\n",
    "    if n == 0:\n",
    "        return 1\n",
    "    elif n < 0:\n",
    "        return 0\n",
    "    i, total = 1, 0\n",
    "    while i <= k:\n",
    "        total = total + count_k(n-i, k)\n",
    "        i += 1\n",
    "        \n",
    "    return total"
   ]
  },
  {
   "cell_type": "code",
   "execution_count": 89,
   "id": "eca3a7cc",
   "metadata": {},
   "outputs": [],
   "source": [
    "# 2.3\n",
    "def pascal(row, column):\n",
    "\n",
    "    if column > row or column < 0 or row < 0:\n",
    "        return 0\n",
    "    elif row == 0 or column == 0:\n",
    "        return 1\n",
    "    else:\n",
    "        return pascal(row-1, column) + pascal(row-1, column-1)\n",
    "    "
   ]
  }
 ],
 "metadata": {
  "kernelspec": {
   "display_name": "Python 3 (ipykernel)",
   "language": "python",
   "name": "python3"
  },
  "language_info": {
   "codemirror_mode": {
    "name": "ipython",
    "version": 3
   },
   "file_extension": ".py",
   "mimetype": "text/x-python",
   "name": "python",
   "nbconvert_exporter": "python",
   "pygments_lexer": "ipython3",
   "version": "3.9.12"
  },
  "toc": {
   "base_numbering": 1,
   "nav_menu": {},
   "number_sections": true,
   "sideBar": true,
   "skip_h1_title": false,
   "title_cell": "Table of Contents",
   "title_sidebar": "Contents",
   "toc_cell": false,
   "toc_position": {},
   "toc_section_display": true,
   "toc_window_display": false
  }
 },
 "nbformat": 4,
 "nbformat_minor": 5
}
