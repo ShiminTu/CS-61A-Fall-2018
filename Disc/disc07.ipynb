{
 "cells": [
  {
   "cell_type": "markdown",
   "id": "0a024134",
   "metadata": {},
   "source": [
    "https://inst.eecs.berkeley.edu/~cs61a/fa18/disc/disc07.pdf"
   ]
  },
  {
   "cell_type": "code",
   "execution_count": 22,
   "id": "686f92ac",
   "metadata": {
    "ExecuteTime": {
     "end_time": "2023-04-06T08:32:30.621592Z",
     "start_time": "2023-04-06T08:32:30.612013Z"
    }
   },
   "outputs": [],
   "source": [
    "import numpy as np\n",
    "import doctest"
   ]
  },
  {
   "cell_type": "code",
   "execution_count": 86,
   "id": "c0f4299c",
   "metadata": {
    "ExecuteTime": {
     "end_time": "2023-04-06T11:37:10.137098Z",
     "start_time": "2023-04-06T11:37:10.120829Z"
    }
   },
   "outputs": [],
   "source": [
    "# Tree Class\n",
    "class Tree:\n",
    "    \"\"\"\n",
    "    >>> t = Tree(3, [Tree(2, [Tree(5)]), Tree(4)])\n",
    "    >>> t.label\n",
    "    3\n",
    "    >>> t.branches[0].label\n",
    "    2\n",
    "    >>> t.branches[1].is_leaf()\n",
    "    True\n",
    "    \"\"\"\n",
    "    def __init__(self, label, branches=[]):\n",
    "        for b in branches:\n",
    "            assert isinstance(b, Tree)\n",
    "        self.label = label\n",
    "        self.branches = list(branches)\n",
    "\n",
    "    def is_leaf(self):\n",
    "        return not self.branches\n",
    "\n",
    "    def __repr__(self):\n",
    "        if self.branches:\n",
    "            branch_str = ', ' + repr(self.branches)\n",
    "        else:\n",
    "            branch_str = ''\n",
    "        return 'Tree({0}{1})'.format(self.label, branch_str)\n",
    "\n",
    "    def __str__(self):\n",
    "        def print_tree(t, indent=0):\n",
    "            tree_str = '  ' * indent + str(t.label) + \"\\n\"\n",
    "            for b in t.branches:\n",
    "                tree_str += print_tree(b, indent + 1)\n",
    "            return tree_str\n",
    "        return print_tree(self).rstrip()"
   ]
  },
  {
   "cell_type": "code",
   "execution_count": 3,
   "id": "a64d774c",
   "metadata": {
    "ExecuteTime": {
     "end_time": "2023-04-06T08:16:52.684554Z",
     "start_time": "2023-04-06T08:16:52.674041Z"
    }
   },
   "outputs": [],
   "source": [
    "class Link:\n",
    "    empty = ()\n",
    "    def __init__(self, first, rest=empty):\n",
    "        assert rest is Link.empty or isinstance(rest, Link)\n",
    "        self.first = first\n",
    "        self.rest = rest\n",
    "        \n",
    "    def __repr__(self):\n",
    "        if self.rest:\n",
    "            rest_str = ', ' + repr(self.rest)\n",
    "        else:\n",
    "            rest_str = ''\n",
    "        return 'Link({0}{1})'.format(repr(self.first), rest_str)\n",
    "    \n",
    "    @property\n",
    "    def second(self):\n",
    "        return self.rest.first\n",
    "    \n",
    "    @second.setter\n",
    "    def second(self, value):\n",
    "        self.rest.first = value\n",
    "    def __str__(self):\n",
    "        string = '<'\n",
    "        while self.rest is not Link.empty:\n",
    "            string += str(self.first) + ' '\n",
    "            self = self.rest\n",
    "        return string + str(self.first) + '>'"
   ]
  },
  {
   "cell_type": "markdown",
   "id": "6a46bef3",
   "metadata": {},
   "source": [
    "2.1"
   ]
  },
  {
   "cell_type": "code",
   "execution_count": 15,
   "id": "621cce3c",
   "metadata": {
    "ExecuteTime": {
     "end_time": "2023-04-06T08:31:36.827873Z",
     "start_time": "2023-04-06T08:31:36.821414Z"
    }
   },
   "outputs": [],
   "source": [
    "def multiply_lnks(lst_of_lnks):\n",
    "    \"\"\"\n",
    "    >>> a = Link(2, Link(3, Link(5)))\n",
    "    >>> b = Link(6, Link(4, Link(2)))\n",
    "    >>> c = Link(4, Link(1, Link(0, Link(2))))\n",
    "    >>> p = multiply_lnks([a, b, c])\n",
    "    >>> p.first\n",
    "    48\n",
    "    >>> p.rest.first\n",
    "    12\n",
    "    >>> p.rest.rest.rest\n",
    "    ()\n",
    "    \"\"\"\n",
    "    firsts = [link.first for link in lst_of_lnks]\n",
    "    rests = [link.rest for link in lst_of_lnks]\n",
    "    if Link.empty in rests:\n",
    "        rest = Link.empty\n",
    "    else:\n",
    "        rest = multiply_lnks(rests)\n",
    "    return Link(np.prod(firsts), rest)"
   ]
  },
  {
   "cell_type": "code",
   "execution_count": 23,
   "id": "fced9c39",
   "metadata": {
    "ExecuteTime": {
     "end_time": "2023-04-06T08:32:41.961610Z",
     "start_time": "2023-04-06T08:32:41.898553Z"
    }
   },
   "outputs": [],
   "source": [
    "doctest.run_docstring_examples(multiply_lnks,globals())"
   ]
  },
  {
   "cell_type": "markdown",
   "id": "135d99af",
   "metadata": {},
   "source": [
    "2.2"
   ]
  },
  {
   "cell_type": "code",
   "execution_count": 33,
   "id": "8e2131a9",
   "metadata": {
    "ExecuteTime": {
     "end_time": "2023-04-06T08:45:50.398134Z",
     "start_time": "2023-04-06T08:45:50.392953Z"
    }
   },
   "outputs": [],
   "source": [
    "def remove_duplicates(lnk):\n",
    "    \"\"\"\n",
    "    >>> lnk = Link(1, Link(1, Link(1, Link(1, Link(5)))))\n",
    "    >>> remove_duplicates(lnk)\n",
    "    >>> lnk\n",
    "    Link(1, Link(5))\n",
    "    \"\"\"\n",
    "    if lnk.rest == Link.empty:\n",
    "        return lnk\n",
    "    if lnk.first == lnk.rest.first:\n",
    "        lnk.rest = lnk.rest.rest\n",
    "        remove_duplicates(lnk)\n",
    "    else:\n",
    "        Link(lnk.first, remove_duplicates(lnk.rest))"
   ]
  },
  {
   "cell_type": "code",
   "execution_count": 34,
   "id": "bb24e8b0",
   "metadata": {
    "ExecuteTime": {
     "end_time": "2023-04-06T08:45:59.524808Z",
     "start_time": "2023-04-06T08:45:59.516103Z"
    }
   },
   "outputs": [],
   "source": [
    "doctest.run_docstring_examples(remove_duplicates,globals())"
   ]
  },
  {
   "cell_type": "markdown",
   "id": "a93798d4",
   "metadata": {},
   "source": [
    "3.1"
   ]
  },
  {
   "cell_type": "code",
   "execution_count": 36,
   "id": "88cf8ce5",
   "metadata": {
    "ExecuteTime": {
     "end_time": "2023-04-06T08:48:04.942522Z",
     "start_time": "2023-04-06T08:48:04.937419Z"
    }
   },
   "outputs": [],
   "source": [
    "def even_weighted(lst):\n",
    "    \"\"\"\n",
    "    >>> x = [1, 2, 3, 4, 5, 6]\n",
    "    >>> even_weighted(x)\n",
    "    [0, 6, 20]\n",
    "    \"\"\"\n",
    "    return [i * lst.index(i) for i in lst if lst.index(i)%2 == 0]"
   ]
  },
  {
   "cell_type": "code",
   "execution_count": 38,
   "id": "03aa7c6e",
   "metadata": {
    "ExecuteTime": {
     "end_time": "2023-04-06T08:48:25.904869Z",
     "start_time": "2023-04-06T08:48:25.894102Z"
    }
   },
   "outputs": [],
   "source": [
    "doctest.run_docstring_examples(even_weighted,globals())"
   ]
  },
  {
   "cell_type": "markdown",
   "id": "60818e29",
   "metadata": {},
   "source": [
    "3.2"
   ]
  },
  {
   "cell_type": "code",
   "execution_count": 56,
   "id": "4ad0de97",
   "metadata": {
    "ExecuteTime": {
     "end_time": "2023-04-06T08:58:39.824888Z",
     "start_time": "2023-04-06T08:58:39.819295Z"
    }
   },
   "outputs": [],
   "source": [
    "def quicksort_list(lst):\n",
    "    \"\"\"\n",
    "    >>> quicksort_list([3, 1, 4])\n",
    "    [1, 3, 4]\n",
    "    \"\"\"\n",
    "    if len(lst) == 1 or len(lst) == 0:\n",
    "        return lst\n",
    "    pivot = lst[0]\n",
    "    less = [i for i in lst if i < pivot]\n",
    "    greater = [i for i in lst if i > pivot]\n",
    "    return quicksort_list(less) + [pivot] + quicksort_list(greater)"
   ]
  },
  {
   "cell_type": "code",
   "execution_count": 58,
   "id": "bfc7976f",
   "metadata": {
    "ExecuteTime": {
     "end_time": "2023-04-06T08:58:52.540188Z",
     "start_time": "2023-04-06T08:58:52.533889Z"
    }
   },
   "outputs": [],
   "source": [
    "doctest.run_docstring_examples(quicksort_list,globals())"
   ]
  },
  {
   "cell_type": "markdown",
   "id": "f9b4bef5",
   "metadata": {},
   "source": [
    "3.3"
   ]
  },
  {
   "cell_type": "code",
   "execution_count": 78,
   "id": "2e2aff35",
   "metadata": {
    "ExecuteTime": {
     "end_time": "2023-04-06T09:23:50.574109Z",
     "start_time": "2023-04-06T09:23:50.566055Z"
    }
   },
   "outputs": [],
   "source": [
    "def max_product(lst):\n",
    "    \"\"\"Return the maximum product that can be formed using lst\n",
    "    without using any consecutive numbers\n",
    "    >>> max_product([10,3,1,9,2]) # 10 * 9\n",
    "    90\n",
    "    >>> max_product([5,10,5,10,5]) # 5 * 5 * 5\n",
    "    125\n",
    "    >>> max_product([])\n",
    "    1\n",
    "    \"\"\"\n",
    "    if len(lst) == 1:\n",
    "        return lst[0]\n",
    "    elif len(lst) == 2:\n",
    "        return max(lst)\n",
    "    elif len(lst) == 0:\n",
    "        return 1\n",
    "    else:\n",
    "        production = []\n",
    "        for i in range(len(lst)):\n",
    "            for j in range(i+2, len(lst)):\n",
    "                production.append(lst[i] * max_product(lst[j:]))  \n",
    "        return max(production)"
   ]
  },
  {
   "cell_type": "code",
   "execution_count": 79,
   "id": "ec82a4ec",
   "metadata": {
    "ExecuteTime": {
     "end_time": "2023-04-06T09:23:52.013840Z",
     "start_time": "2023-04-06T09:23:52.006925Z"
    }
   },
   "outputs": [],
   "source": [
    "doctest.run_docstring_examples(max_product,globals())"
   ]
  },
  {
   "cell_type": "markdown",
   "id": "7ec2b86d",
   "metadata": {},
   "source": [
    "3.4"
   ]
  },
  {
   "cell_type": "code",
   "execution_count": 173,
   "id": "cb0b7524",
   "metadata": {
    "ExecuteTime": {
     "end_time": "2023-04-06T12:16:45.800032Z",
     "start_time": "2023-04-06T12:16:45.794423Z"
    }
   },
   "outputs": [],
   "source": [
    "def redundant_map(t, f):\n",
    "    \"\"\"\n",
    "    >>> double = lambda x: x*2\n",
    "    >>> tree = Tree(1, [Tree(1), Tree(2, [Tree(1, [Tree(1)])])])\n",
    "    >>> redundant_map(tree, double)\n",
    "    \"\"\"\n",
    "    def redundant(t,d):\n",
    "        nonlocal f\n",
    "        for i in range(2**d):\n",
    "            t.label = f(t.label)\n",
    "        if t.is_leaf() == False:\n",
    "            for b in t.branches:\n",
    "                redundant(b, d+1)\n",
    "            \n",
    "    return redundant(t,0)\n"
   ]
  },
  {
   "cell_type": "code",
   "execution_count": 174,
   "id": "0e6c002f",
   "metadata": {
    "ExecuteTime": {
     "end_time": "2023-04-06T12:16:46.745558Z",
     "start_time": "2023-04-06T12:16:46.738574Z"
    }
   },
   "outputs": [],
   "source": [
    "doctest.run_docstring_examples(redundant_map,globals())"
   ]
  }
 ],
 "metadata": {
  "kernelspec": {
   "display_name": "Python 3 (ipykernel)",
   "language": "python",
   "name": "python3"
  },
  "language_info": {
   "codemirror_mode": {
    "name": "ipython",
    "version": 3
   },
   "file_extension": ".py",
   "mimetype": "text/x-python",
   "name": "python",
   "nbconvert_exporter": "python",
   "pygments_lexer": "ipython3",
   "version": "3.8.12"
  },
  "toc": {
   "base_numbering": 1,
   "nav_menu": {},
   "number_sections": true,
   "sideBar": true,
   "skip_h1_title": false,
   "title_cell": "Table of Contents",
   "title_sidebar": "Contents",
   "toc_cell": false,
   "toc_position": {},
   "toc_section_display": true,
   "toc_window_display": false
  }
 },
 "nbformat": 4,
 "nbformat_minor": 5
}
