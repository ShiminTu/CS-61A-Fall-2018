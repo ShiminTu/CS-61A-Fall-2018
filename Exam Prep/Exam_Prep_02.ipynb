{
 "cells": [
  {
   "cell_type": "code",
   "execution_count": null,
   "id": "c4504e14",
   "metadata": {},
   "outputs": [],
   "source": [
    "# print numbers\n",
    "def print_numbers(n, k):\n",
    "    \"\"\"Print all numbers that (A) can be formed from the digits \n",
    "    of `n` in reverse order and (B) are multiples of `k`.\n",
    "    \n",
    "    This is essentially Fall 2015 Midterm 2 #3c written to not \n",
    "    depend on knowledge of lists.\n",
    "    \n",
    "    Args:\n",
    "    n (int): The number that results must use digits from.\n",
    "    k (int): The number that results must be multiples of.\n",
    "    \n",
    "    >>> print_numbers(97531, 5)\n",
    "    135\n",
    "    15\n",
    "    35\n",
    "    \n",
    "    >>> print_numbers(97531, 7)\n",
    "    1379\n",
    "    357\n",
    "    35\n",
    "    \n",
    "    >>> print_numbers(97531, 2)\n",
    "    \"\"\"\n",
    "    def inner(n, s): # count\n",
    "        if n == 0:\n",
    "            if __________________________:\n",
    "                    __________________________\n",
    "        else:\n",
    "            __________________________\n",
    "            __________________________\n",
    "            inner(n // 10,s)\n",
    "    \n",
    "    inner(n, 0)"
   ]
  },
  {
   "cell_type": "code",
   "execution_count": 25,
   "id": "38f36866",
   "metadata": {},
   "outputs": [],
   "source": [
    "# sixty ones\n",
    "def sixty_ones(n):\n",
    "    \"\"\"Return the number of times that a 1 directly follows a 6\n",
    "    in the digits of `n`.\n",
    "    This is essentially Fall 2014 Midterm 2 #3a written to not\n",
    "    depend on knowledge of lists.\n",
    "    Args:\n",
    "    n (int): The number whose digits are to be examined.\n",
    "    Returns:\n",
    "    int: The number of occurrences.\n",
    "    >>> sixty_ones(461601)\n",
    "    1\n",
    "    >>> sixty_ones(161461601)\n",
    "    2\n",
    "    \"\"\"\n",
    "    if n // 10 == 0 :\n",
    "        return 0\n",
    "    elif n % 10 == 1 and  n % 100 // 10 == 6:\n",
    "        return 1 + sixty_ones(n // 10)\n",
    "    else:\n",
    "        return sixty_ones(n // 10)"
   ]
  },
  {
   "cell_type": "code",
   "execution_count": 27,
   "id": "10fcf40e",
   "metadata": {},
   "outputs": [
    {
     "data": {
      "text/plain": [
       "2"
      ]
     },
     "execution_count": 27,
     "metadata": {},
     "output_type": "execute_result"
    }
   ],
   "source": [
    "sixty_ones(161461601)"
   ]
  },
  {
   "cell_type": "code",
   "execution_count": 48,
   "id": "72220e85",
   "metadata": {},
   "outputs": [],
   "source": [
    "#no elevens\n",
    "def no_elevens(n):\n",
    "    \"\"\"Return the number of `n`-digit numbers whose digits\n",
    "    consist of 1's and 6's and do not contain a `1` and\n",
    "    then another `1` consecutively.\n",
    "    This is essentially Fall 2014 Midterm 2 #3b rewritten to\n",
    "    not depend on knowledge of lists.\n",
    "    Args:\n",
    "    n (int): The length of the numbers.\n",
    "    Returns:\n",
    "    int: The number of numbers.\n",
    "    >>> no_elevens(2) # 66, 61, 16\n",
    "    3\n",
    "    >>> no_elevens(3) # 666, 661, 616, 166, 161\n",
    "    5\n",
    "    \"\"\"\n",
    "    if n == 1:\n",
    "        return 2\n",
    "    elif n == 2:\n",
    "        return 3\n",
    "    else:\n",
    "        return no_elevens(n-1) + no_elevens(n-2)"
   ]
  },
  {
   "cell_type": "code",
   "execution_count": 50,
   "id": "797ecce3",
   "metadata": {},
   "outputs": [
    {
     "data": {
      "text/plain": [
       "13"
      ]
     },
     "execution_count": 50,
     "metadata": {},
     "output_type": "execute_result"
    }
   ],
   "source": [
    "no_elevens(5)"
   ]
  }
 ],
 "metadata": {
  "kernelspec": {
   "display_name": "Python 3 (ipykernel)",
   "language": "python",
   "name": "python3"
  },
  "language_info": {
   "codemirror_mode": {
    "name": "ipython",
    "version": 3
   },
   "file_extension": ".py",
   "mimetype": "text/x-python",
   "name": "python",
   "nbconvert_exporter": "python",
   "pygments_lexer": "ipython3",
   "version": "3.9.12"
  }
 },
 "nbformat": 4,
 "nbformat_minor": 5
}
