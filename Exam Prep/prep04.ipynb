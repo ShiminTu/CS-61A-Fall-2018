{
 "cells": [
  {
   "cell_type": "code",
   "execution_count": 7,
   "metadata": {
    "ExecuteTime": {
     "end_time": "2023-03-16T07:44:49.796430Z",
     "start_time": "2023-03-16T07:44:49.790039Z"
    }
   },
   "outputs": [],
   "source": [
    "def adder(x,y):\n",
    "    carry, i = 0, len(x)-1\n",
    "    for d in reversed([0] + y):\n",
    "        if i < 0:\n",
    "            x.insert(0,0)\n",
    "            i = 0\n",
    "        d = carry + x[i] + d\n",
    "        if d >= 10:\n",
    "            carry, x[i] = 1, d % 10\n",
    "        else:\n",
    "            carry, x[i] = 0, d\n",
    "        i = i - 1\n",
    "    if x[0] == 0:\n",
    "        x.remove(0)\n",
    "    return x"
   ]
  },
  {
   "cell_type": "code",
   "execution_count": 11,
   "metadata": {
    "ExecuteTime": {
     "end_time": "2023-03-16T07:45:54.463236Z",
     "start_time": "2023-03-16T07:45:54.460313Z"
    }
   },
   "outputs": [],
   "source": [
    "a = [3,4,5]"
   ]
  },
  {
   "cell_type": "code",
   "execution_count": 12,
   "metadata": {
    "ExecuteTime": {
     "end_time": "2023-03-16T07:46:04.172866Z",
     "start_time": "2023-03-16T07:46:04.167014Z"
    }
   },
   "outputs": [
    {
     "data": {
      "text/plain": [
       "[4, 0, 0]"
      ]
     },
     "execution_count": 12,
     "metadata": {},
     "output_type": "execute_result"
    }
   ],
   "source": [
    "adder(a,[5,5])"
   ]
  },
  {
   "cell_type": "code",
   "execution_count": 13,
   "metadata": {
    "ExecuteTime": {
     "end_time": "2023-03-16T07:46:16.670177Z",
     "start_time": "2023-03-16T07:46:16.663581Z"
    }
   },
   "outputs": [
    {
     "data": {
      "text/plain": [
       "[1, 2, 3, 4]"
      ]
     },
     "execution_count": 13,
     "metadata": {},
     "output_type": "execute_result"
    }
   ],
   "source": [
    "adder(a,[8,3,4])"
   ]
  },
  {
   "cell_type": "code",
   "execution_count": 14,
   "metadata": {
    "ExecuteTime": {
     "end_time": "2023-03-16T07:46:23.203711Z",
     "start_time": "2023-03-16T07:46:23.197640Z"
    }
   },
   "outputs": [
    {
     "data": {
      "text/plain": [
       "[3, 4, 5, 6, 7]"
      ]
     },
     "execution_count": 14,
     "metadata": {},
     "output_type": "execute_result"
    }
   ],
   "source": [
    "adder(a,[3,3,3,3,3])"
   ]
  },
  {
   "cell_type": "code",
   "execution_count": 15,
   "metadata": {
    "ExecuteTime": {
     "end_time": "2023-03-16T07:57:37.412836Z",
     "start_time": "2023-03-16T07:57:37.405586Z"
    }
   },
   "outputs": [
    {
     "data": {
      "text/plain": [
       "[1, 2, 3, 5]"
      ]
     },
     "execution_count": 15,
     "metadata": {},
     "output_type": "execute_result"
    }
   ],
   "source": [
    "a = [1,2,3,4,5]\n",
    "a.pop(3)\n",
    "a"
   ]
  },
  {
   "cell_type": "code",
   "execution_count": 16,
   "metadata": {
    "ExecuteTime": {
     "end_time": "2023-03-16T07:57:46.632737Z",
     "start_time": "2023-03-16T07:57:46.625618Z"
    }
   },
   "outputs": [
    {
     "data": {
      "text/plain": [
       "[1, 2, 3, 5]"
      ]
     },
     "execution_count": 16,
     "metadata": {},
     "output_type": "execute_result"
    }
   ],
   "source": [
    "b = a[:]\n",
    "b"
   ]
  },
  {
   "cell_type": "code",
   "execution_count": 20,
   "metadata": {
    "ExecuteTime": {
     "end_time": "2023-03-16T07:58:14.242403Z",
     "start_time": "2023-03-16T07:58:14.236559Z"
    }
   },
   "outputs": [
    {
     "data": {
      "text/plain": [
       "[1, [1, 2, 3, 5], 3, 5]"
      ]
     },
     "execution_count": 20,
     "metadata": {},
     "output_type": "execute_result"
    }
   ],
   "source": [
    "a[1] = b\n",
    "a"
   ]
  },
  {
   "cell_type": "code",
   "execution_count": 22,
   "metadata": {
    "ExecuteTime": {
     "end_time": "2023-03-16T07:58:30.980513Z",
     "start_time": "2023-03-16T07:58:30.974533Z"
    }
   },
   "outputs": [
    {
     "data": {
      "text/plain": [
       "[[1, [...], 3, 5], 2, 3, 5]"
      ]
     },
     "execution_count": 22,
     "metadata": {},
     "output_type": "execute_result"
    }
   ],
   "source": [
    "b[0] = a[:]\n",
    "b"
   ]
  },
  {
   "cell_type": "code",
   "execution_count": 23,
   "metadata": {
    "ExecuteTime": {
     "end_time": "2023-03-16T07:58:41.293349Z",
     "start_time": "2023-03-16T07:58:41.288056Z"
    }
   },
   "outputs": [
    {
     "data": {
      "text/plain": [
       "5"
      ]
     },
     "execution_count": 23,
     "metadata": {},
     "output_type": "execute_result"
    }
   ],
   "source": [
    "b.pop()"
   ]
  },
  {
   "cell_type": "code",
   "execution_count": 24,
   "metadata": {
    "ExecuteTime": {
     "end_time": "2023-03-16T07:58:45.530620Z",
     "start_time": "2023-03-16T07:58:45.525128Z"
    }
   },
   "outputs": [
    {
     "data": {
      "text/plain": [
       "[[1, [...], 3, 5], 2, 3]"
      ]
     },
     "execution_count": 24,
     "metadata": {},
     "output_type": "execute_result"
    }
   ],
   "source": [
    "b"
   ]
  },
  {
   "cell_type": "code",
   "execution_count": 25,
   "metadata": {
    "ExecuteTime": {
     "end_time": "2023-03-16T07:58:53.537105Z",
     "start_time": "2023-03-16T07:58:53.531399Z"
    }
   },
   "outputs": [
    {
     "data": {
      "text/plain": [
       "[[1, [...], 3, 5], 3]"
      ]
     },
     "execution_count": 25,
     "metadata": {},
     "output_type": "execute_result"
    }
   ],
   "source": [
    "b.remove(2)\n",
    "b"
   ]
  },
  {
   "cell_type": "code",
   "execution_count": 31,
   "metadata": {
    "ExecuteTime": {
     "end_time": "2023-03-16T08:00:47.739079Z",
     "start_time": "2023-03-16T08:00:47.735492Z"
    }
   },
   "outputs": [],
   "source": [
    "c = [].append(b[1])"
   ]
  },
  {
   "cell_type": "code",
   "execution_count": 41,
   "metadata": {
    "ExecuteTime": {
     "end_time": "2023-03-16T08:03:11.071167Z",
     "start_time": "2023-03-16T08:03:11.066042Z"
    }
   },
   "outputs": [
    {
     "data": {
      "text/plain": [
       "[1, [[1, [...], 3, 5], 3], 3, 5]"
      ]
     },
     "execution_count": 41,
     "metadata": {},
     "output_type": "execute_result"
    }
   ],
   "source": [
    "a"
   ]
  },
  {
   "cell_type": "code",
   "execution_count": 43,
   "metadata": {
    "ExecuteTime": {
     "end_time": "2023-03-16T08:05:51.012212Z",
     "start_time": "2023-03-16T08:05:51.007129Z"
    },
    "scrolled": true
   },
   "outputs": [
    {
     "data": {
      "text/plain": [
       "4"
      ]
     },
     "execution_count": 43,
     "metadata": {},
     "output_type": "execute_result"
    }
   ],
   "source": [
    "len(a)"
   ]
  },
  {
   "cell_type": "code",
   "execution_count": 47,
   "metadata": {
    "ExecuteTime": {
     "end_time": "2023-03-16T08:06:52.812458Z",
     "start_time": "2023-03-16T08:06:52.806041Z"
    }
   },
   "outputs": [
    {
     "data": {
      "text/plain": [
       "5"
      ]
     },
     "execution_count": 47,
     "metadata": {},
     "output_type": "execute_result"
    }
   ],
   "source": [
    "a[3]"
   ]
  },
  {
   "cell_type": "code",
   "execution_count": null,
   "metadata": {},
   "outputs": [],
   "source": [
    "a = [1,2,3,4,5]\n",
    "a.pop(3)\n",
    "b = a[:]\n",
    "a[1] = b\n",
    "b[0] = a[:]\n",
    "b.pop()\n",
    "b.remove(2)\n",
    "c = [].append(b[1])\n",
    "a.insert(b.pop(1),a[-3:4:3])\n",
    "b.extend(b)\n",
    "if b== b[:] and b[1][1][0] is b[0][1][1]:\n",
    "    a,b,c = [c] + a[-4:4:2]"
   ]
  },
  {
   "cell_type": "code",
   "execution_count": 89,
   "metadata": {
    "ExecuteTime": {
     "end_time": "2023-03-16T09:18:49.622004Z",
     "start_time": "2023-03-16T09:18:49.616536Z"
    }
   },
   "outputs": [],
   "source": [
    "nums=[4,5]\n",
    "def bits(nums):\n",
    "    i = 0\n",
    "    def branch(last):\n",
    "        nonlocal nums,i\n",
    "        if last == 'entry':\n",
    "            return 0 in nums\n",
    "        nums = [k-pow(2,i)*last for k in nums]\n",
    "        i += 1\n",
    "        return branch\n",
    "    return branch"
   ]
  },
  {
   "cell_type": "code",
   "execution_count": 90,
   "metadata": {
    "ExecuteTime": {
     "end_time": "2023-03-16T09:18:50.728605Z",
     "start_time": "2023-03-16T09:18:50.725218Z"
    }
   },
   "outputs": [],
   "source": [
    "nums=[4,5]"
   ]
  },
  {
   "cell_type": "code",
   "execution_count": 93,
   "metadata": {
    "ExecuteTime": {
     "end_time": "2023-03-16T09:19:05.871544Z",
     "start_time": "2023-03-16T09:19:05.865950Z"
    }
   },
   "outputs": [
    {
     "data": {
      "text/plain": [
       "True"
      ]
     },
     "execution_count": 93,
     "metadata": {},
     "output_type": "execute_result"
    }
   ],
   "source": [
    "bits(nums)(1)(0)(1)('entry')"
   ]
  }
 ],
 "metadata": {
  "kernelspec": {
   "display_name": "Python 3",
   "language": "python",
   "name": "python3"
  },
  "language_info": {
   "codemirror_mode": {
    "name": "ipython",
    "version": 3
   },
   "file_extension": ".py",
   "mimetype": "text/x-python",
   "name": "python",
   "nbconvert_exporter": "python",
   "pygments_lexer": "ipython3",
   "version": "3.8.5"
  },
  "toc": {
   "base_numbering": 1,
   "nav_menu": {},
   "number_sections": true,
   "sideBar": true,
   "skip_h1_title": false,
   "title_cell": "Table of Contents",
   "title_sidebar": "Contents",
   "toc_cell": false,
   "toc_position": {},
   "toc_section_display": true,
   "toc_window_display": false
  }
 },
 "nbformat": 4,
 "nbformat_minor": 4
}
