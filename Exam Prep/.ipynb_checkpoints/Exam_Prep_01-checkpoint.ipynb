{
 "cells": [
  {
   "cell_type": "code",
   "execution_count": 1,
   "id": "4cc3c479",
   "metadata": {},
   "outputs": [],
   "source": [
    "# (a) implement it, which returns the longest suffix(end) of \n",
    "# a positive integer that consists of \n",
    "# strictly increasing digits\n",
    "def longest_increasing_suffix(n):\n",
    "    '''Return the longest increasing suffix of a positive integer n.\n",
    "    >>> longest_increasing_suffix(63134)\n",
    "    134\n",
    "    >>> longest_increasing_suffix(233)\n",
    "    3\n",
    "    >>> longest_increasing_suffix(5689)\n",
    "    5689\n",
    "    >>> longest_increasing_suffix(568901) # 01 is the suffix, displayed as 1\n",
    "    1'''\n",
    "    \n",
    "    m, suffix, k = 10, 0 ,1\n",
    "    \n",
    "    while n:\n",
    "        n, last = n // 10, n % 10\n",
    "        if last < m:\n",
    "            m, suffix, k = last, last * k + suffix, 10 * k\n",
    "        else:\n",
    "            return suffix\n",
    "    \n",
    "    return suffix"
   ]
  },
  {
   "cell_type": "code",
   "execution_count": 17,
   "id": "f8cb5a8b",
   "metadata": {},
   "outputs": [],
   "source": [
    "# (b)\n",
    "def sandwich(n):\n",
    "    '''Return True if n contains a sandwich and False otherwise\n",
    "    >>> sandwich(416263) #626\n",
    "    True\n",
    "    >>> sandwich(5050)\n",
    "    True\n",
    "    >>> sandwich(4441)\n",
    "    True\n",
    "    >>> sandwich(1231)\n",
    "    False\n",
    "    >>> sandwich(55)\n",
    "    False\n",
    "    >>> sandwich(4456)\n",
    "    False\n",
    "    '''\n",
    "    tens, ones = n // 10 ,n % 10\n",
    "    n = n // 100\n",
    "    while n :\n",
    "        if n % 10 == ones:\n",
    "            return True\n",
    "        else:\n",
    "            tens, ones = tens // 10, tens % 10\n",
    "            n = n // 10\n",
    "    return False"
   ]
  },
  {
   "cell_type": "code",
   "execution_count": 25,
   "id": "df46f904",
   "metadata": {},
   "outputs": [],
   "source": [
    "# (c)\n",
    "def luhn_sum(n):\n",
    "    '''Return the Luhn sum of n\n",
    "    >>> luhn_sum(135)\n",
    "    12\n",
    "    >>> luhn_sum(185)\n",
    "    13\n",
    "    >>> luhn_sum(138743)\n",
    "    30\n",
    "    '''\n",
    "    def luhn_digit(digit):\n",
    "        x = digit * multiplier\n",
    "        return (x // 10) + (x % 10)\n",
    "    \n",
    "    total, multiplier = 0, 1\n",
    "    \n",
    "    while n:\n",
    "        n, last = n // 10, n % 10\n",
    "        total = total + luhn_digit(last)\n",
    "        multiplier =  3 - multiplier\n",
    "        \n",
    "    return total"
   ]
  }
 ],
 "metadata": {
  "kernelspec": {
   "display_name": "Python 3 (ipykernel)",
   "language": "python",
   "name": "python3"
  },
  "language_info": {
   "codemirror_mode": {
    "name": "ipython",
    "version": 3
   },
   "file_extension": ".py",
   "mimetype": "text/x-python",
   "name": "python",
   "nbconvert_exporter": "python",
   "pygments_lexer": "ipython3",
   "version": "3.9.12"
  }
 },
 "nbformat": 4,
 "nbformat_minor": 5
}
