{
 "cells": [
  {
   "cell_type": "markdown",
   "id": "45e6d4ee",
   "metadata": {},
   "source": [
    "# 2.3"
   ]
  },
  {
   "cell_type": "code",
   "execution_count": 2,
   "id": "fa233e24",
   "metadata": {},
   "outputs": [],
   "source": [
    "## trees\n",
    "def tree(root_label, branches=[]):\n",
    "    for branch in branches:\n",
    "        assert is_tree(branch), 'branches must be trees'\n",
    "    return [root_label] + list(branches)"
   ]
  },
  {
   "cell_type": "code",
   "execution_count": 3,
   "id": "190c926c",
   "metadata": {},
   "outputs": [],
   "source": [
    "def label(tree):\n",
    "    return tree[0]"
   ]
  },
  {
   "cell_type": "code",
   "execution_count": 4,
   "id": "95aadda2",
   "metadata": {},
   "outputs": [],
   "source": [
    "def branches(tree):\n",
    "    return tree[1:]"
   ]
  },
  {
   "cell_type": "code",
   "execution_count": 5,
   "id": "be3b5404",
   "metadata": {},
   "outputs": [],
   "source": [
    "def is_tree(tree):\n",
    "    if type(tree) != list or len(tree) < 1:\n",
    "        return False\n",
    "    for branch in branches(tree):\n",
    "        if not is_tree(branch):\n",
    "            return False\n",
    "    return True"
   ]
  },
  {
   "cell_type": "code",
   "execution_count": 6,
   "id": "1521dacc",
   "metadata": {},
   "outputs": [],
   "source": [
    "def is_leaf(tree):\n",
    "    return not branches(tree) # 没有branch的就是leaf"
   ]
  },
  {
   "cell_type": "code",
   "execution_count": 7,
   "id": "1505d175",
   "metadata": {},
   "outputs": [],
   "source": [
    "t = tree(3, [tree(1), tree(2, [tree(1),tree(1)])])"
   ]
  },
  {
   "cell_type": "code",
   "execution_count": 8,
   "id": "54d62bf6",
   "metadata": {},
   "outputs": [
    {
     "data": {
      "text/plain": [
       "3"
      ]
     },
     "execution_count": 8,
     "metadata": {},
     "output_type": "execute_result"
    }
   ],
   "source": [
    "label(t)"
   ]
  },
  {
   "cell_type": "code",
   "execution_count": 10,
   "id": "eea67d69",
   "metadata": {},
   "outputs": [
    {
     "data": {
      "text/plain": [
       "[1]"
      ]
     },
     "execution_count": 10,
     "metadata": {},
     "output_type": "execute_result"
    }
   ],
   "source": [
    "tree(1)"
   ]
  },
  {
   "cell_type": "code",
   "execution_count": 18,
   "id": "5e395f1d",
   "metadata": {},
   "outputs": [
    {
     "data": {
      "text/plain": [
       "[2, [1], [1]]"
      ]
     },
     "execution_count": 18,
     "metadata": {},
     "output_type": "execute_result"
    }
   ],
   "source": [
    "tree(2,[[1],[1]])"
   ]
  },
  {
   "cell_type": "code",
   "execution_count": 12,
   "id": "7debc2e2",
   "metadata": {},
   "outputs": [
    {
     "data": {
      "text/plain": [
       "[3, [1], [2, [1], [1]]]"
      ]
     },
     "execution_count": 12,
     "metadata": {},
     "output_type": "execute_result"
    }
   ],
   "source": [
    "t"
   ]
  },
  {
   "cell_type": "code",
   "execution_count": 35,
   "id": "297e56f4",
   "metadata": {},
   "outputs": [
    {
     "data": {
      "text/plain": [
       "[1, [2, [[1], [1]]], [1]]"
      ]
     },
     "execution_count": 35,
     "metadata": {},
     "output_type": "execute_result"
    }
   ],
   "source": [
    "tree(1,[[2,[[1],[1]]],tree(1)])"
   ]
  },
  {
   "cell_type": "code",
   "execution_count": 33,
   "id": "356c38e0",
   "metadata": {},
   "outputs": [
    {
     "data": {
      "text/plain": [
       "False"
      ]
     },
     "execution_count": 33,
     "metadata": {},
     "output_type": "execute_result"
    }
   ],
   "source": [
    "is_tree(2)"
   ]
  },
  {
   "cell_type": "code",
   "execution_count": 38,
   "id": "657bba85",
   "metadata": {},
   "outputs": [],
   "source": [
    "def fib_tree(n):\n",
    "        if n == 0 or n == 1:\n",
    "            return tree(n)\n",
    "        else:\n",
    "            left, right = fib_tree(n-2), fib_tree(n-1)\n",
    "            fib_n = label(left) + label(right)\n",
    "            return tree(fib_n, [left, right])"
   ]
  },
  {
   "cell_type": "code",
   "execution_count": 41,
   "id": "dd06c590",
   "metadata": {},
   "outputs": [
    {
     "data": {
      "text/plain": [
       "[5, [2, [1], [1, [0], [1]]], [3, [1, [0], [1]], [2, [1], [1, [0], [1]]]]]"
      ]
     },
     "execution_count": 41,
     "metadata": {},
     "output_type": "execute_result"
    }
   ],
   "source": [
    "fib_tree(5)"
   ]
  },
  {
   "cell_type": "code",
   "execution_count": 43,
   "id": "5e4c88c2",
   "metadata": {},
   "outputs": [],
   "source": [
    "def count_leaves(tree):\n",
    "    if is_leaf(tree):\n",
    "        return 1\n",
    "    else:\n",
    "        branch_counts = [count_leaves(b) for b in branches(tree)]\n",
    "        return sum(branch_counts)"
   ]
  },
  {
   "cell_type": "code",
   "execution_count": 44,
   "id": "afb46d07",
   "metadata": {},
   "outputs": [
    {
     "data": {
      "text/plain": [
       "8"
      ]
     },
     "execution_count": 44,
     "metadata": {},
     "output_type": "execute_result"
    }
   ],
   "source": [
    "count_leaves(fib_tree(5))"
   ]
  },
  {
   "cell_type": "code",
   "execution_count": 45,
   "id": "69b6fbb3",
   "metadata": {},
   "outputs": [
    {
     "data": {
      "text/plain": [
       "[True]"
      ]
     },
     "execution_count": 45,
     "metadata": {},
     "output_type": "execute_result"
    }
   ],
   "source": [
    "tree(True)"
   ]
  },
  {
   "cell_type": "code",
   "execution_count": 49,
   "id": "4d7378f4",
   "metadata": {},
   "outputs": [],
   "source": [
    "tree1 = [1, 2, 3, 4, 5, 6, 7]"
   ]
  },
  {
   "cell_type": "code",
   "execution_count": 51,
   "id": "1bed63c8",
   "metadata": {},
   "outputs": [],
   "source": [
    "tree2 = [tree1[0],tree1[1:]]"
   ]
  },
  {
   "cell_type": "code",
   "execution_count": 52,
   "id": "21459d51",
   "metadata": {},
   "outputs": [
    {
     "data": {
      "text/plain": [
       "[1, [2, 3, 4, 5, 6, 7]]"
      ]
     },
     "execution_count": 52,
     "metadata": {},
     "output_type": "execute_result"
    }
   ],
   "source": [
    "tree2"
   ]
  },
  {
   "cell_type": "code",
   "execution_count": 56,
   "id": "803a1f2a",
   "metadata": {},
   "outputs": [
    {
     "name": "stdout",
     "output_type": "stream",
     "text": [
      "1\n",
      "[2, 3, 4, 5, 6, 7]\n"
     ]
    },
    {
     "data": {
      "text/plain": [
       "[None, None]"
      ]
     },
     "execution_count": 56,
     "metadata": {},
     "output_type": "execute_result"
    }
   ],
   "source": [
    "[print(b) for b in tree2]"
   ]
  },
  {
   "cell_type": "code",
   "execution_count": 57,
   "id": "a78fd413",
   "metadata": {},
   "outputs": [],
   "source": [
    "empty = 'empty'\n",
    "def is_link(s):\n",
    "    \"\"\"s is a linked list if it is empty or a (first, rest) pair.\"\"\"\n",
    "    return s == empty or (len(s) == 2 and is_link(s[1]))\n",
    "def link(first, rest):\n",
    "    \"\"\"Construct a linked list from its first element and the rest.\"\"\"\n",
    "    assert is_link(rest), \"rest must be a linked list.\"\n",
    "    return [first, rest]\n",
    "def first(s):\n",
    "    \"\"\"Return the first element of a linked list s.\"\"\"\n",
    "    assert is_link(s), \"first only applies to linked lists.\"\n",
    "    assert s != empty, \"empty linked list has no first element.\"\n",
    "    return s[0]\n",
    "def rest(s):\n",
    "    \"\"\"Return the rest of the elements of a linked list s.\"\"\"\n",
    "    assert is_link(s), \"rest only applies to linked lists.\"\n",
    "    assert s != empty, \"empty linked list has no rest.\"\n",
    "    return s[1]"
   ]
  },
  {
   "cell_type": "code",
   "execution_count": 70,
   "id": "5fb67e7d",
   "metadata": {},
   "outputs": [
    {
     "data": {
      "text/plain": [
       "[1, [2, [3, [4, 'empty']]]]"
      ]
     },
     "execution_count": 70,
     "metadata": {},
     "output_type": "execute_result"
    }
   ],
   "source": [
    "four = link(1,link(2,link(3,link(4,'empty'))))\n",
    "four"
   ]
  },
  {
   "cell_type": "code",
   "execution_count": 65,
   "id": "02ee2f41",
   "metadata": {},
   "outputs": [],
   "source": [
    "def len_link(s):\n",
    "        \"\"\"Return the length of linked list s.\"\"\"\n",
    "        length = 0\n",
    "        while s != empty:\n",
    "            s, length = rest(s), length + 1\n",
    "        return length"
   ]
  },
  {
   "cell_type": "code",
   "execution_count": 69,
   "id": "5715681e",
   "metadata": {},
   "outputs": [],
   "source": [
    "def getitem_link(s, i):\n",
    "        \"\"\"Return the element at index i of linked list s.\"\"\"\n",
    "        while i > 0:\n",
    "            s, i = rest(s), i - 1\n",
    "        return first(s)"
   ]
  },
  {
   "cell_type": "code",
   "execution_count": 74,
   "id": "76379470",
   "metadata": {
    "scrolled": true
   },
   "outputs": [
    {
     "data": {
      "text/plain": [
       "3"
      ]
     },
     "execution_count": 74,
     "metadata": {},
     "output_type": "execute_result"
    }
   ],
   "source": [
    "getitem_link(four,2)"
   ]
  },
  {
   "cell_type": "code",
   "execution_count": 76,
   "id": "a6dde261",
   "metadata": {},
   "outputs": [],
   "source": [
    "def partitions(n, m):\n",
    "    \"\"\"Return a linked list of partitions of n using parts of up to m.\n",
    "    Each partition is represented as a linked list.\n",
    "    \"\"\"\n",
    "    if n == 0:\n",
    "        return link(empty, empty) # A list containing the empty partition\n",
    "    elif n < 0 or m == 0:\n",
    "        return empty\n",
    "    else:\n",
    "        using_m = partitions(n-m, m)\n",
    "        with_m = apply_to_all_link(lambda s: link(m, s), using_m)\n",
    "        without_m = partitions(n, m-1)\n",
    "        return extend_link(with_m, without_m)"
   ]
  },
  {
   "cell_type": "code",
   "execution_count": 77,
   "id": "875ff732",
   "metadata": {},
   "outputs": [],
   "source": [
    "def extend_link(s, t):\n",
    "        \"\"\"Return a list with the elements of s followed by those of t.\"\"\"\n",
    "        assert is_link(s) and is_link(t)\n",
    "        if s == empty:\n",
    "            return t\n",
    "        else:\n",
    "            return link(first(s), extend_link(rest(s), t))"
   ]
  },
  {
   "cell_type": "code",
   "execution_count": 79,
   "id": "b566f44a",
   "metadata": {},
   "outputs": [],
   "source": [
    "def apply_to_all_link(f, s):\n",
    "        \"\"\"Apply f to each element of s.\"\"\"\n",
    "        assert is_link(s)\n",
    "        if s == empty:\n",
    "            return s\n",
    "        else:\n",
    "            return link(f(first(s)), apply_to_all_link(f, rest(s)))"
   ]
  },
  {
   "cell_type": "code",
   "execution_count": 80,
   "id": "b6013554",
   "metadata": {
    "scrolled": true
   },
   "outputs": [
    {
     "data": {
      "text/plain": [
       "[[2, [2, 'empty']],\n",
       " [[2, [1, [1, 'empty']]], [[1, [1, [1, [1, 'empty']]]], 'empty']]]"
      ]
     },
     "execution_count": 80,
     "metadata": {},
     "output_type": "execute_result"
    }
   ],
   "source": [
    "partitions(4,2)"
   ]
  },
  {
   "cell_type": "markdown",
   "id": "77aa25ce",
   "metadata": {},
   "source": [
    "# 2.4"
   ]
  },
  {
   "cell_type": "code",
   "execution_count": 1,
   "id": "e4173eb5",
   "metadata": {},
   "outputs": [],
   "source": [
    "lst1 = [2,3,4,5]\n",
    "lst2 = lst1"
   ]
  },
  {
   "cell_type": "code",
   "execution_count": 2,
   "id": "5099f9c1",
   "metadata": {},
   "outputs": [],
   "source": [
    "lst1.remove(3)"
   ]
  },
  {
   "cell_type": "code",
   "execution_count": 3,
   "id": "09068224",
   "metadata": {
    "scrolled": true
   },
   "outputs": [
    {
     "data": {
      "text/plain": [
       "[2, 4, 5]"
      ]
     },
     "execution_count": 3,
     "metadata": {},
     "output_type": "execute_result"
    }
   ],
   "source": [
    "lst2"
   ]
  },
  {
   "cell_type": "code",
   "execution_count": 7,
   "id": "ccc42c59",
   "metadata": {},
   "outputs": [],
   "source": [
    "def test_func(money):\n",
    "    def test_1(consume):\n",
    "        nonlocal money\n",
    "        money = money-consume\n",
    "        return money\n",
    "    return test_1"
   ]
  },
  {
   "cell_type": "code",
   "execution_count": null,
   "id": "2c4f6723",
   "metadata": {},
   "outputs": [],
   "source": [
    "def mutable_link():\n",
    "        \"\"\"Return a functional implementation of a mutable linked list.\"\"\"\n",
    "        contents = empty\n",
    "        def dispatch(message, value=None):\n",
    "            nonlocal contents\n",
    "            if message == 'len':\n",
    "                return len_link(contents)\n",
    "            elif message == 'getitem':\n",
    "                return getitem_link(contents, value)\n",
    "            elif message == 'push_first':\n",
    "                contents = link(value, contents)\n",
    "            elif message == 'pop_first':\n",
    "                f = first(contents)\n",
    "                contents = rest(contents)\n",
    "                return f\n",
    "            elif message == 'str':\n",
    "                return join_link(contents, \", \")\n",
    "        return dispatch"
   ]
  },
  {
   "cell_type": "code",
   "execution_count": 10,
   "id": "6ee5ca65",
   "metadata": {},
   "outputs": [],
   "source": [
    "def dictionary():\n",
    "        \"\"\"Return a functional implementation of a dictionary.\"\"\"\n",
    "        records = []\n",
    "        def getitem(key):\n",
    "            matches = [r for r in records if r[0] == key]\n",
    "            if len(matches) == 1:\n",
    "                key, value = matches[0]\n",
    "                return value\n",
    "        def setitem(key, value):\n",
    "            nonlocal records\n",
    "            non_matches = [r for r in records if r[0] != key]\n",
    "            records = non_matches + [[key, value]]\n",
    "        def dispatch(message, key=None, value=None):\n",
    "            if message == 'getitem':\n",
    "                return getitem(key)\n",
    "            elif message == 'setitem':\n",
    "                setitem(key, value)\n",
    "        return dispatch"
   ]
  },
  {
   "cell_type": "code",
   "execution_count": 11,
   "id": "72745249",
   "metadata": {},
   "outputs": [],
   "source": [
    "d = dictionary()"
   ]
  },
  {
   "cell_type": "code",
   "execution_count": 12,
   "id": "dd06d038",
   "metadata": {},
   "outputs": [],
   "source": [
    "d('setitem', 3, 9)"
   ]
  },
  {
   "cell_type": "code",
   "execution_count": 15,
   "id": "4759b6e3",
   "metadata": {},
   "outputs": [
    {
     "data": {
      "text/plain": [
       "9"
      ]
     },
     "execution_count": 15,
     "metadata": {},
     "output_type": "execute_result"
    }
   ],
   "source": [
    "d('getitem',3)"
   ]
  },
  {
   "cell_type": "code",
   "execution_count": null,
   "id": "6706f1ec",
   "metadata": {},
   "outputs": [],
   "source": []
  }
 ],
 "metadata": {
  "kernelspec": {
   "display_name": "Python 3 (ipykernel)",
   "language": "python",
   "name": "python3"
  },
  "language_info": {
   "codemirror_mode": {
    "name": "ipython",
    "version": 3
   },
   "file_extension": ".py",
   "mimetype": "text/x-python",
   "name": "python",
   "nbconvert_exporter": "python",
   "pygments_lexer": "ipython3",
   "version": "3.9.12"
  },
  "toc": {
   "base_numbering": 1,
   "nav_menu": {},
   "number_sections": true,
   "sideBar": true,
   "skip_h1_title": false,
   "title_cell": "Table of Contents",
   "title_sidebar": "Contents",
   "toc_cell": false,
   "toc_position": {},
   "toc_section_display": true,
   "toc_window_display": false
  }
 },
 "nbformat": 4,
 "nbformat_minor": 5
}
