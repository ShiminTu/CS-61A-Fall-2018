{
 "cells": [
  {
   "cell_type": "code",
   "execution_count": 74,
   "id": "2997dd43",
   "metadata": {
    "ExecuteTime": {
     "end_time": "2023-04-04T02:01:55.225038Z",
     "start_time": "2023-04-04T02:01:55.222934Z"
    }
   },
   "outputs": [],
   "source": [
    "from hw05 import *\n",
    "import doctest"
   ]
  },
  {
   "cell_type": "markdown",
   "id": "9bddeea5",
   "metadata": {},
   "source": [
    "Q1"
   ]
  },
  {
   "cell_type": "code",
   "execution_count": 75,
   "id": "e6fcbf0a",
   "metadata": {
    "ExecuteTime": {
     "end_time": "2023-04-04T02:01:56.326963Z",
     "start_time": "2023-04-04T02:01:56.322861Z"
    }
   },
   "outputs": [],
   "source": [
    "def replace_leaf(t, old, new):\n",
    "    \"\"\"Returns a new tree where every leaf value equal to old has\n",
    "    been replaced with new.\n",
    "\n",
    "    >>> yggdrasil = tree('odin',\n",
    "    ...                  [tree('balder',\n",
    "    ...                        [tree('thor'),\n",
    "    ...                         tree('loki')]),\n",
    "    ...                   tree('frigg',\n",
    "    ...                        [tree('thor')]),\n",
    "    ...                   tree('thor',\n",
    "    ...                        [tree('sif'),\n",
    "    ...                         tree('thor')]),\n",
    "    ...                   tree('thor')])\n",
    "    >>> laerad = copy_tree(yggdrasil) # copy yggdrasil for testing purposes\n",
    "    >>> print_tree(replace_leaf(yggdrasil, 'thor', 'freya'))\n",
    "    odin\n",
    "      balder\n",
    "        freya\n",
    "        loki\n",
    "      frigg\n",
    "        freya\n",
    "      thor\n",
    "        sif\n",
    "        freya\n",
    "      freya\n",
    "    >>> laerad == yggdrasil # Make sure original tree is unmodified\n",
    "    True\n",
    "    \"\"\"\n",
    "    \"*** YOUR CODE HERE ***\"\n",
    "    new_branches = [replace_leaf(b, old, new) for b in branches(t)]\n",
    "    if is_leaf(t) and label(t) == old:\n",
    "        return tree(new, new_branches)\n",
    "    else:\n",
    "        return tree(label(t), new_branches)"
   ]
  },
  {
   "cell_type": "code",
   "execution_count": 76,
   "id": "fe6c1c97",
   "metadata": {
    "ExecuteTime": {
     "end_time": "2023-04-04T02:01:57.406774Z",
     "start_time": "2023-04-04T02:01:57.401931Z"
    },
    "scrolled": true
   },
   "outputs": [],
   "source": [
    "doctest.run_docstring_examples(replace_leaf, globals())"
   ]
  },
  {
   "cell_type": "markdown",
   "id": "413f7ac3",
   "metadata": {},
   "source": [
    "Q2"
   ]
  },
  {
   "cell_type": "code",
   "execution_count": 77,
   "id": "d188ea02",
   "metadata": {
    "ExecuteTime": {
     "end_time": "2023-04-04T02:09:45.187112Z",
     "start_time": "2023-04-04T02:09:45.164902Z"
    }
   },
   "outputs": [],
   "source": [
    "def weight(size):\n",
    "    \"\"\"Construct a weight of some size.\"\"\"\n",
    "    assert size > 0\n",
    "    \"*** YOUR CODE HERE ***\"\n",
    "    return ['weight',size]"
   ]
  },
  {
   "cell_type": "code",
   "execution_count": 78,
   "id": "d3164bc5",
   "metadata": {
    "ExecuteTime": {
     "end_time": "2023-04-04T02:11:11.578911Z",
     "start_time": "2023-04-04T02:11:11.572558Z"
    }
   },
   "outputs": [],
   "source": [
    "def size(w):\n",
    "    \"\"\"Select the size of a weight.\"\"\"\n",
    "    assert is_weight(w), 'must call size on a weight'\n",
    "    \"*** YOUR CODE HERE ***\"\n",
    "    return w[1]"
   ]
  },
  {
   "cell_type": "markdown",
   "id": "dc34d89b",
   "metadata": {},
   "source": [
    "Q3"
   ]
  },
  {
   "cell_type": "code",
   "execution_count": 126,
   "id": "c35e465b",
   "metadata": {
    "ExecuteTime": {
     "end_time": "2023-04-04T03:29:13.282696Z",
     "start_time": "2023-04-04T03:29:13.272614Z"
    }
   },
   "outputs": [],
   "source": [
    "def balanced(m):\n",
    "    \"\"\"Return whether m is balanced.\n",
    "\n",
    "    >>> t, u, v = examples()\n",
    "    >>> balanced(t)\n",
    "    True\n",
    "    >>> balanced(v)\n",
    "    True\n",
    "    >>> w = mobile(side(3, t), side(2, u))\n",
    "    >>> balanced(w)\n",
    "    False\n",
    "    >>> balanced(mobile(side(1, v), side(1, w)))\n",
    "    False\n",
    "    >>> balanced(mobile(side(1, w), side(1, v)))\n",
    "    False\n",
    "    \"\"\"\n",
    "    \"*** YOUR CODE HERE ***\"\n",
    "    if is_weight(end(left(m))) and is_weight(end(right(m))):\n",
    "        return total_weight(end(left(m))) * length(left(m)) == total_weight(end(right(m))) * length(right(m))\n",
    "    elif is_mobile(end(left(m))) and is_mobile(end(right(m))):\n",
    "        return balanced(end(left(m))) and balanced(end(right(m))) and \\\n",
    "            total_weight(end(left(m))) * length(left(m)) == total_weight(end(right(m))) * length(right(m))\n",
    "    elif is_weight(end(left(m))) and is_mobile(end(right(m))):\n",
    "        return balanced(end(right(m))) and total_weight(end(left(m))) * length(left(m)) == total_weight(end(right(m))) * length(right(m))\n",
    "    else:\n",
    "        return balanced(end(left(m))) and total_weight(end(left(m))) * length(left(m)) == total_weight(end(right(m))) * length(right(m))"
   ]
  },
  {
   "cell_type": "markdown",
   "id": "eea88dfa",
   "metadata": {},
   "source": [
    "Q4"
   ]
  },
  {
   "cell_type": "code",
   "execution_count": 144,
   "id": "2b0f1466",
   "metadata": {
    "ExecuteTime": {
     "end_time": "2023-04-04T03:50:37.622948Z",
     "start_time": "2023-04-04T03:50:37.617509Z"
    }
   },
   "outputs": [],
   "source": [
    "def totals_tree(m):\n",
    "    \"\"\"Return a tree representing the mobile with its total weight at the root.\n",
    "\n",
    "    >>> t, u, v = examples()\n",
    "    >>> print_tree(totals_tree(t))\n",
    "    3\n",
    "      2\n",
    "      1\n",
    "    >>> print_tree(totals_tree(u))\n",
    "    6\n",
    "      1\n",
    "      5\n",
    "        3\n",
    "        2\n",
    "    >>> print_tree(totals_tree(v))\n",
    "    9\n",
    "      3\n",
    "        2\n",
    "        1\n",
    "      6\n",
    "        1\n",
    "        5\n",
    "          3\n",
    "          2\n",
    "    \"\"\"\n",
    "    \"*** YOUR CODE HERE ***\"\n",
    "    if is_weight(m):\n",
    "        return tree(size(m))\n",
    "    \n",
    "    left_end, right_end = end(left(m)), end(right(m))\n",
    "      \n",
    "    return tree(total_weight(m),branches=[totals_tree(left_end), totals_tree(right_end)])"
   ]
  },
  {
   "cell_type": "markdown",
   "id": "813e666f",
   "metadata": {},
   "source": [
    "Q5"
   ]
  },
  {
   "cell_type": "code",
   "execution_count": 156,
   "id": "078518c2",
   "metadata": {
    "ExecuteTime": {
     "end_time": "2023-04-04T04:01:57.683418Z",
     "start_time": "2023-04-04T04:01:57.678274Z"
    }
   },
   "outputs": [],
   "source": [
    "def make_counter():\n",
    "    \"\"\"Return a counter function.\n",
    "\n",
    "    >>> c = make_counter()\n",
    "    >>> c('a')\n",
    "    1\n",
    "    >>> c('a')\n",
    "    2\n",
    "    >>> c('b')\n",
    "    1\n",
    "    >>> c('a')\n",
    "    3\n",
    "    >>> c2 = make_counter()\n",
    "    >>> c2('b')\n",
    "    1\n",
    "    >>> c2('b')\n",
    "    2\n",
    "    >>> c('b') + c2('b')\n",
    "    5\n",
    "    \"\"\"\n",
    "    \"*** YOUR CODE HERE ***\"\n",
    "    str_dict = {}\n",
    "    \n",
    "    def counter(string):\n",
    "#         nonlocal str_dict\n",
    "        if string not in str_dict:\n",
    "            str_dict[string] = 1\n",
    "        else:\n",
    "            str_dict[string] += 1\n",
    "        return str_dict[string]\n",
    "    \n",
    "    return counter"
   ]
  },
  {
   "cell_type": "code",
   "execution_count": 157,
   "id": "906151ea",
   "metadata": {
    "ExecuteTime": {
     "end_time": "2023-04-04T04:01:59.209897Z",
     "start_time": "2023-04-04T04:01:59.202797Z"
    }
   },
   "outputs": [],
   "source": [
    "doctest.run_docstring_examples(make_counter,globals())"
   ]
  },
  {
   "cell_type": "markdown",
   "id": "6c6883a0",
   "metadata": {},
   "source": [
    "Q6"
   ]
  },
  {
   "cell_type": "code",
   "execution_count": 171,
   "id": "4898bb4e",
   "metadata": {
    "ExecuteTime": {
     "end_time": "2023-04-04T04:20:37.192882Z",
     "start_time": "2023-04-04T04:20:37.186978Z"
    }
   },
   "outputs": [],
   "source": [
    "def make_fib():\n",
    "    \"\"\"Returns a function that returns the next Fibonacci number\n",
    "    every time it is called.\n",
    "\n",
    "    >>> fib = make_fib()\n",
    "    >>> fib()\n",
    "    0\n",
    "    >>> fib()\n",
    "    1\n",
    "    >>> fib()\n",
    "    1\n",
    "    >>> fib()\n",
    "    2\n",
    "    >>> fib()\n",
    "    3\n",
    "    >>> fib2 = make_fib()\n",
    "    >>> fib() + sum([fib2() for _ in range(5)])\n",
    "    12\n",
    "    \"\"\"\n",
    "    \"*** YOUR CODE HERE ***\"\n",
    "    prev1 = 0\n",
    "    prev2 = 1\n",
    "    count = 0\n",
    "    def next_fib():\n",
    "        nonlocal count,prev1,prev2\n",
    "        count += 1\n",
    "        if count == 1:\n",
    "            return prev1\n",
    "        if count == 2:\n",
    "            return prev2\n",
    "        prev1, prev2 = prev2, prev1+prev2\n",
    "        return prev2\n",
    "        \n",
    "    return next_fib"
   ]
  },
  {
   "cell_type": "code",
   "execution_count": 170,
   "id": "865851f7",
   "metadata": {
    "ExecuteTime": {
     "end_time": "2023-04-04T04:19:49.540474Z",
     "start_time": "2023-04-04T04:19:49.533215Z"
    }
   },
   "outputs": [],
   "source": [
    "doctest.run_docstring_examples(make_fib,globals())"
   ]
  },
  {
   "cell_type": "markdown",
   "id": "eb0dbe3b",
   "metadata": {},
   "source": [
    "Q7"
   ]
  },
  {
   "cell_type": "code",
   "execution_count": 211,
   "id": "92604b13",
   "metadata": {
    "ExecuteTime": {
     "end_time": "2023-04-04T04:37:06.735267Z",
     "start_time": "2023-04-04T04:37:06.728860Z"
    }
   },
   "outputs": [],
   "source": [
    "def make_withdraw(balance, password):\n",
    "    \"\"\"Return a password-protected withdraw function.\n",
    "\n",
    "    >>> w = make_withdraw(100, 'hax0r')\n",
    "    >>> w(25, 'hax0r')\n",
    "    75\n",
    "    >>> error = w(90, 'hax0r')\n",
    "    >>> error\n",
    "    'Insufficient funds'\n",
    "    >>> error = w(25, 'hwat')\n",
    "    >>> error\n",
    "    'Incorrect password'\n",
    "    >>> new_bal = w(25, 'hax0r')\n",
    "    >>> new_bal\n",
    "    50\n",
    "    >>> w(75, 'a')\n",
    "    'Incorrect password'\n",
    "    >>> w(10, 'hax0r')\n",
    "    40\n",
    "    >>> w(20, 'n00b')\n",
    "    'Incorrect password'\n",
    "    >>> w(10, 'hax0r')\n",
    "    \"Your account is locked. Attempts: ['hwat', 'a', 'n00b']\"\n",
    "    >>> w(10, 'l33t')\n",
    "    \"Your account is locked. Attempts: ['hwat', 'a', 'n00b']\"\n",
    "    >>> type(w(10, 'l33t')) == str\n",
    "    True\n",
    "    \"\"\"\n",
    "    \"*** YOUR CODE HERE ***\"\n",
    "    incorrect = []\n",
    "    def withdraw(amount, pass_word):\n",
    "        nonlocal balance,password,incorrect\n",
    "        if len(incorrect) == 3:\n",
    "                return f\"Your account is locked. Attempts: ['{incorrect[0]}', '{incorrect[1]}', '{incorrect[2]}']\"\n",
    "        \n",
    "        if pass_word != password:\n",
    "            incorrect.append(pass_word)\n",
    "            return 'Incorrect password'\n",
    "   \n",
    "        if amount > balance:\n",
    "            return 'Insufficient funds'\n",
    "        balance = balance - amount\n",
    "        return balance\n",
    "    \n",
    "    return withdraw"
   ]
  },
  {
   "cell_type": "code",
   "execution_count": 212,
   "id": "4d9fa4aa",
   "metadata": {
    "ExecuteTime": {
     "end_time": "2023-04-04T04:37:08.451775Z",
     "start_time": "2023-04-04T04:37:08.444324Z"
    }
   },
   "outputs": [],
   "source": [
    "doctest.run_docstring_examples(make_withdraw,globals())"
   ]
  },
  {
   "cell_type": "markdown",
   "id": "181de2bd",
   "metadata": {},
   "source": [
    "Q8"
   ]
  },
  {
   "cell_type": "code",
   "execution_count": 280,
   "id": "9405edbc",
   "metadata": {
    "ExecuteTime": {
     "end_time": "2023-04-04T07:13:48.613370Z",
     "start_time": "2023-04-04T07:13:48.605507Z"
    }
   },
   "outputs": [],
   "source": [
    "def make_joint(withdraw, old_password, new_password):\n",
    "    \"\"\"Return a password-protected withdraw function that has joint access to\n",
    "    the balance of withdraw.\n",
    "\n",
    "    >>> w = make_withdraw(100, 'hax0r')\n",
    "    >>> w(25, 'hax0r')\n",
    "    75\n",
    "    >>> make_joint(w, 'my', 'secret')\n",
    "    'Incorrect password'\n",
    "    >>> j = make_joint(w, 'hax0r', 'secret')\n",
    "    >>> w(25, 'secret')\n",
    "    'Incorrect password'\n",
    "    >>> j(25, 'secret')\n",
    "    50\n",
    "    >>> j(25, 'hax0r')\n",
    "    25\n",
    "    >>> j(100, 'secret')\n",
    "    'Insufficient funds'\n",
    "\n",
    "    >>> j2 = make_joint(j, 'secret', 'code')\n",
    "    >>> j2(5, 'code')\n",
    "    20\n",
    "    >>> j2(5, 'secret')\n",
    "    15\n",
    "    >>> j2(5, 'hax0r')\n",
    "    10\n",
    "\n",
    "    >>> j2(25, 'password')\n",
    "    'Incorrect password'\n",
    "    >>> j2(5, 'secret')\n",
    "    \"Your account is locked. Attempts: ['my', 'secret', 'password']\"\n",
    "    >>> j(5, 'secret')\n",
    "    \"Your account is locked. Attempts: ['my', 'secret', 'password']\"\n",
    "    >>> w(5, 'hax0r')\n",
    "    \"Your account is locked. Attempts: ['my', 'secret', 'password']\"\n",
    "    >>> make_joint(w, 'hax0r', 'hello')\n",
    "    \"Your account is locked. Attempts: ['my', 'secret', 'password']\"\n",
    "    \"\"\"\n",
    "    \"*** YOUR CODE HERE ***\"\n",
    "    def withdraw1(amount,password):\n",
    "        if password == old_password or password == new_password:\n",
    "            return withdraw(amount, old_password)\n",
    "        else:\n",
    "            return withdraw(amount, password)\n",
    "    \n",
    "    message = withdraw(0,old_password)\n",
    "    if type(message) == str:\n",
    "        return message\n",
    "    else:\n",
    "        return withdraw1"
   ]
  },
  {
   "cell_type": "code",
   "execution_count": 270,
   "id": "4009076f",
   "metadata": {
    "ExecuteTime": {
     "end_time": "2023-04-04T07:01:26.452257Z",
     "start_time": "2023-04-04T07:01:26.444132Z"
    }
   },
   "outputs": [],
   "source": [
    "doctest.run_docstring_examples(make_joint,globals())"
   ]
  },
  {
   "cell_type": "markdown",
   "id": "23161fed",
   "metadata": {},
   "source": [
    "Q9"
   ]
  },
  {
   "cell_type": "code",
   "execution_count": 409,
   "id": "771dda43",
   "metadata": {
    "ExecuteTime": {
     "end_time": "2023-04-04T07:58:36.942678Z",
     "start_time": "2023-04-04T07:58:36.938094Z"
    }
   },
   "outputs": [],
   "source": [
    "def generate_paths(t,x):\n",
    "    if label(t) == x:\n",
    "        yield [x]\n",
    "    for b in branches(t):\n",
    "        for path in generate_paths(b,x):\n",
    "            yield [label(t)] + list(path)"
   ]
  },
  {
   "cell_type": "code",
   "execution_count": 410,
   "id": "944d6e65",
   "metadata": {
    "ExecuteTime": {
     "end_time": "2023-04-04T07:58:38.499085Z",
     "start_time": "2023-04-04T07:58:38.494726Z"
    }
   },
   "outputs": [],
   "source": [
    "t1 = tree(1, [tree(2, [tree(3), tree(4, [tree(6)]), tree(5)]), tree(5)])"
   ]
  },
  {
   "cell_type": "code",
   "execution_count": 411,
   "id": "26e709e8",
   "metadata": {
    "ExecuteTime": {
     "end_time": "2023-04-04T07:58:39.216559Z",
     "start_time": "2023-04-04T07:58:39.213154Z"
    }
   },
   "outputs": [],
   "source": [
    "k = generate_paths(t1,6)"
   ]
  },
  {
   "cell_type": "code",
   "execution_count": 412,
   "id": "d90f1768",
   "metadata": {
    "ExecuteTime": {
     "end_time": "2023-04-04T07:58:39.947486Z",
     "start_time": "2023-04-04T07:58:39.942054Z"
    }
   },
   "outputs": [
    {
     "data": {
      "text/plain": [
       "[1, 2, 4, 6]"
      ]
     },
     "execution_count": 412,
     "metadata": {},
     "output_type": "execute_result"
    }
   ],
   "source": [
    "next(k)"
   ]
  },
  {
   "cell_type": "markdown",
   "id": "906709a6",
   "metadata": {},
   "source": [
    "hw06"
   ]
  },
  {
   "cell_type": "markdown",
   "id": "ca817b0b",
   "metadata": {},
   "source": [
    "Q1"
   ]
  },
  {
   "cell_type": "code",
   "execution_count": 566,
   "id": "3b322400",
   "metadata": {
    "ExecuteTime": {
     "end_time": "2023-04-04T13:15:08.151536Z",
     "start_time": "2023-04-04T13:15:08.134600Z"
    }
   },
   "outputs": [],
   "source": [
    "class Fib():\n",
    "    \"\"\"A Fibonacci number.\n",
    "\n",
    "    >>> start = Fib()\n",
    "    >>> start\n",
    "    0\n",
    "    >>> start.next()\n",
    "    1\n",
    "    >>> start.next().next()\n",
    "    1\n",
    "    >>> start.next().next().next()\n",
    "    2\n",
    "    >>> start.next().next().next().next()\n",
    "    3\n",
    "    >>> start.next().next().next().next().next()\n",
    "    5\n",
    "    >>> start.next().next().next().next().next().next()\n",
    "    8\n",
    "    >>> start.next().next().next().next().next().next() # Ensure start isn't changed\n",
    "    8\n",
    "    \"\"\"\n",
    "\n",
    "    def __init__(self, value=0):\n",
    "        self.value = value\n",
    "\n",
    "    def next(self):\n",
    "        \"*** YOUR CODE HERE ***\"\n",
    "        if self.value == 0:\n",
    "            result = Fib(1)\n",
    "        else:\n",
    "            result = Fib(self.value + self.prev)\n",
    "\n",
    "        result.prev = self.value\n",
    "        return result\n",
    "\n",
    "    def __repr__(self):\n",
    "        return str(self.value)"
   ]
  },
  {
   "cell_type": "code",
   "execution_count": 572,
   "id": "5d867bc2",
   "metadata": {
    "ExecuteTime": {
     "end_time": "2023-04-04T13:18:37.527486Z",
     "start_time": "2023-04-04T13:18:37.517209Z"
    }
   },
   "outputs": [],
   "source": [
    "doctest.run_docstring_examples(Fib,globals())"
   ]
  },
  {
   "cell_type": "markdown",
   "id": "719c3ec6",
   "metadata": {},
   "source": [
    "Q2"
   ]
  },
  {
   "cell_type": "code",
   "execution_count": 564,
   "id": "32a77fc0",
   "metadata": {
    "ExecuteTime": {
     "end_time": "2023-04-04T12:56:24.907870Z",
     "start_time": "2023-04-04T12:56:24.897410Z"
    }
   },
   "outputs": [],
   "source": [
    "class VendingMachine:\n",
    "    \"\"\"A vending machine that vends some product for some price.\n",
    "    \n",
    "    >>> v = VendingMachine('candy', 10)\n",
    "    >>> v.vend()\n",
    "    'Machine is out of stock.'\n",
    "    >>> v.deposit(15)\n",
    "    'Machine is out of stock. Here is your $15.'\n",
    "    >>> v.restock(2)\n",
    "    'Current candy stock: 2'\n",
    "    >>> v.vend()\n",
    "    'You must deposit $10 more.'\n",
    "    >>> v.deposit(7)\n",
    "    'Current balance: $7'\n",
    "    >>> v.vend()\n",
    "    'You must deposit $3 more.'\n",
    "    >>> v.deposit(5)\n",
    "    'Current balance: $12'\n",
    "    >>> v.vend()\n",
    "    'Here is your candy and $2 change.'\n",
    "    >>> v.deposit(10)\n",
    "    'Current balance: $10'\n",
    "    >>> v.vend()\n",
    "    'Here is your candy.'\n",
    "    >>> v.deposit(15)\n",
    "    'Machine is out of stock. Here is your $15.'\n",
    "    >>> w = VendingMachine('soda', 2)\n",
    "    >>> w.restock(3)\n",
    "    'Current soda stock: 3'\n",
    "    >>> w.restock(3)\n",
    "    'Current soda stock: 6'\n",
    "    >>> w.deposit(2)\n",
    "    'Current balance: $2'\n",
    "    >>> w.vend()\n",
    "    'Here is your soda.'\n",
    "    \"\"\"\n",
    "    \n",
    "    def __init__(self,name,price,stock=0,balance=0):\n",
    "        self.name = name\n",
    "        self.price = price\n",
    "        self.stock = stock\n",
    "        self.balance = balance\n",
    "    \n",
    "    def vend(self):\n",
    "        if self.stock == 0:\n",
    "            if self.balance != 0:\n",
    "                return 'Machine is out of stock. Here is your ${0}'.format(self.balance)\n",
    "            else:\n",
    "                return 'Machine is out of stock.'\n",
    "\n",
    "        if self.balance ==  self.price:\n",
    "            self.stock = self.stock-1\n",
    "            return 'Here is your {0}.'.format(self.name)\n",
    "        elif self.balance < self.price:\n",
    "            return 'You must deposit ${0} more.'.format(self.price-self.balance)\n",
    "        else:\n",
    "            self.stock = self.stock-1\n",
    "            self.left = self.balance - self.price\n",
    "            self.balance = 0\n",
    "            return 'Here is your {0} and ${1} change.'.format(self.name, self.left)\n",
    "        \n",
    "    def deposit(self, amount):\n",
    "        if self.stock == 0:\n",
    "            return 'Machine is out of stock. Here is your ${0}.'.format(amount)\n",
    "        else: \n",
    "            self.balance = self.balance + amount\n",
    "            return 'Current balance: ${0}'.format(self.balance)\n",
    "    \n",
    "    def restock(self,amount):\n",
    "        self.stock += amount\n",
    "        return 'Current {0} stock: {1}'.format(self.name, self.stock)\n",
    "        \n",
    "        "
   ]
  },
  {
   "cell_type": "code",
   "execution_count": 565,
   "id": "97263859",
   "metadata": {
    "ExecuteTime": {
     "end_time": "2023-04-04T12:56:26.547350Z",
     "start_time": "2023-04-04T12:56:26.537775Z"
    }
   },
   "outputs": [],
   "source": [
    "doctest.run_docstring_examples(VendingMachine,globals())"
   ]
  }
 ],
 "metadata": {
  "kernelspec": {
   "display_name": "Python 3 (ipykernel)",
   "language": "python",
   "name": "python3"
  },
  "language_info": {
   "codemirror_mode": {
    "name": "ipython",
    "version": 3
   },
   "file_extension": ".py",
   "mimetype": "text/x-python",
   "name": "python",
   "nbconvert_exporter": "python",
   "pygments_lexer": "ipython3",
   "version": "3.8.12"
  },
  "toc": {
   "base_numbering": 1,
   "nav_menu": {},
   "number_sections": true,
   "sideBar": true,
   "skip_h1_title": false,
   "title_cell": "Table of Contents",
   "title_sidebar": "Contents",
   "toc_cell": false,
   "toc_position": {},
   "toc_section_display": true,
   "toc_window_display": false
  }
 },
 "nbformat": 4,
 "nbformat_minor": 5
}
