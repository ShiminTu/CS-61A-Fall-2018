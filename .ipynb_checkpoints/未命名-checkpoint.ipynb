{
 "cells": [
  {
   "cell_type": "code",
   "execution_count": 1,
   "id": "6c923a0b",
   "metadata": {},
   "outputs": [
    {
     "data": {
      "text/plain": [
       "2"
      ]
     },
     "execution_count": 1,
     "metadata": {},
     "output_type": "execute_result"
    }
   ],
   "source": [
    "4452 % 10"
   ]
  },
  {
   "cell_type": "code",
   "execution_count": 2,
   "id": "b2bd7dd5",
   "metadata": {},
   "outputs": [
    {
     "data": {
      "text/plain": [
       "445"
      ]
     },
     "execution_count": 2,
     "metadata": {},
     "output_type": "execute_result"
    }
   ],
   "source": [
    "4452 // 10"
   ]
  },
  {
   "cell_type": "code",
   "execution_count": 3,
   "id": "38ce676e",
   "metadata": {},
   "outputs": [],
   "source": [
    "from operator import add, mul, sub\n",
    "\n",
    "square = lambda x: x * x\n",
    "\n",
    "identity = lambda x: x\n",
    "\n",
    "triple = lambda x: 3 * x\n",
    "\n",
    "increment = lambda x: x + 1"
   ]
  },
  {
   "cell_type": "code",
   "execution_count": 13,
   "id": "07eb6873",
   "metadata": {},
   "outputs": [],
   "source": [
    "def has_seven(k):\n",
    "    \"\"\"Returns True if at least one of the digits of k is a 7, False otherwise.\n",
    "\n",
    "    >>> has_seven(3)\n",
    "    False\n",
    "    >>> has_seven(7)\n",
    "    True\n",
    "    >>> has_seven(2734)\n",
    "    True\n",
    "    >>> has_seven(2634)\n",
    "    False\n",
    "    >>> has_seven(734)\n",
    "    True\n",
    "    >>> has_seven(7777)\n",
    "    True\n",
    "    >>> from construct_check import check\n",
    "    >>> check(HW_SOURCE_FILE, 'has_seven',\n",
    "    ...       ['Assign', 'AugAssign'])\n",
    "    True\n",
    "    \"\"\"\n",
    "    \"*** YOUR CODE HERE ***\"\n",
    "    last_others, last_one = k // 10, k % 10\n",
    "    if last_one == 7:\n",
    "        return True\n",
    "    else:\n",
    "        if last_others != 0:\n",
    "            return has_seven(last_others)\n",
    "        else:\n",
    "            return False"
   ]
  },
  {
   "cell_type": "code",
   "execution_count": 19,
   "id": "13790137",
   "metadata": {},
   "outputs": [
    {
     "data": {
      "text/plain": [
       "False"
      ]
     },
     "execution_count": 19,
     "metadata": {},
     "output_type": "execute_result"
    }
   ],
   "source": [
    "has_seven(2634)"
   ]
  },
  {
   "cell_type": "code",
   "execution_count": 131,
   "id": "c81a10b9",
   "metadata": {},
   "outputs": [],
   "source": [
    "def pingpong(n):\n",
    "    \"\"\"Return the nth element of the ping-pong sequence.\n",
    "\n",
    "    >>> pingpong(7)\n",
    "    7\n",
    "    >>> pingpong(8)\n",
    "    6\n",
    "    >>> pingpong(15)\n",
    "    1\n",
    "    >>> pingpong(21)\n",
    "    -1\n",
    "    >>> pingpong(22)\n",
    "    0\n",
    "    >>> pingpong(30)\n",
    "    6\n",
    "    >>> pingpong(68)\n",
    "    2\n",
    "    >>> pingpong(69)\n",
    "    1\n",
    "    >>> pingpong(70)\n",
    "    0\n",
    "    >>> pingpong(71)\n",
    "    1\n",
    "    >>> pingpong(72)\n",
    "    0\n",
    "    >>> pingpong(100)\n",
    "    2\n",
    "    >>> from construct_check import check\n",
    "    >>> check(HW_SOURCE_FILE, 'pingpong', ['Assign', 'AugAssign'])\n",
    "    True\n",
    "    \"\"\"\n",
    "    \"*** YOUR CODE HERE ***\"\n",
    "    \n",
    "    if n == 1:\n",
    "        return 1\n",
    "    elif n == 2:\n",
    "        return 2\n",
    "    else:\n",
    "        if has_seven(pingpong(n-1)) == True or pingpong(n-1) % 7 == 0:\n",
    "            if pingpong(n-1) > pingpong(n-2):\n",
    "                return pingpong(n-1) - 1\n",
    "            else:\n",
    "                return pingpong(n-1) + 1\n",
    "        else: \n",
    "            if pingpong(n-1) > pingpong(n-2):\n",
    "                return pingpong(n-1) + 1\n",
    "            else:\n",
    "                return pingpong(n-1) - 1\n",
    "    "
   ]
  },
  {
   "cell_type": "code",
   "execution_count": 145,
   "id": "9ffb8503",
   "metadata": {},
   "outputs": [
    {
     "data": {
      "text/plain": [
       "3"
      ]
     },
     "execution_count": 145,
     "metadata": {},
     "output_type": "execute_result"
    }
   ],
   "source": [
    "pingpong(17)"
   ]
  },
  {
   "cell_type": "code",
   "execution_count": 146,
   "id": "386feb13",
   "metadata": {},
   "outputs": [],
   "source": [
    "def accumulate(combiner, base, n, term):\n",
    "    \"\"\"Return the result of combining the first n terms in a sequence and base.\n",
    "    The terms to be combined are term(1), term(2), ..., term(n).  combiner is a\n",
    "    two-argument, associative function.\n",
    "\n",
    "    >>> accumulate(add, 0, 5, identity)  # 0 + 1 + 2 + 3 + 4 + 5\n",
    "    15\n",
    "    >>> accumulate(add, 11, 5, identity) # 11 + 1 + 2 + 3 + 4 + 5\n",
    "    26\n",
    "    >>> accumulate(add, 11, 0, identity) # 11\n",
    "    11\n",
    "    >>> accumulate(add, 11, 3, square)   # 11 + 1^2 + 2^2 + 3^2\n",
    "    25\n",
    "    >>> accumulate(mul, 2, 3, square)    # 2 * 1^2 * 2^2 * 3^2\n",
    "    72\n",
    "    \"\"\"\n",
    "    total, k = base, 1\n",
    "    while k <= n:\n",
    "        total, k = combiner(total, term(k)), k + 1\n",
    "    return total\n",
    "\n",
    "def filtered_accumulate(combiner, base, pred, n, term):\n",
    "    \"\"\"Return the result of combining the terms in a sequence of N terms\n",
    "    that satisfy the predicate pred. combiner is a two-argument function.\n",
    "    If v1, v2, ..., vk are the values in term(1), term(2), ..., term(N)\n",
    "    that satisfy pred, then the result is\n",
    "         base combiner v1 combiner v2 ... combiner vk\n",
    "    (treating combiner as if it were a binary operator, like +). The\n",
    "    implementation uses accumulate.\n",
    "\n",
    "    >>> filtered_accumulate(add, 0, lambda x: True, 5, identity)  # 0 + 1 + 2 + 3 + 4 + 5\n",
    "    15\n",
    "    >>> filtered_accumulate(add, 11, lambda x: False, 5, identity) # 11\n",
    "    11\n",
    "    >>> filtered_accumulate(add, 0, odd, 5, identity)   # 0 + 1 + 3 + 5\n",
    "    9\n",
    "    >>> filtered_accumulate(mul, 1, greater_than_5, 5, square)  # 1 * 9 * 16 * 25\n",
    "    3600\n",
    "    >>> # Do not use while/for loops or recursion\n",
    "    >>> from construct_check import check\n",
    "    >>> check(HW_SOURCE_FILE, 'filtered_accumulate',\n",
    "    ...       ['While', 'For', 'Recursion'])\n",
    "    True\n",
    "    \"\"\"\n",
    "    def combine_if(x, y):\n",
    "        \n",
    "    \n",
    "    return accumulate(combine_if, base, n, term)\n",
    "\n",
    "def odd(x):\n",
    "    return x % 2 == 1\n",
    "\n",
    "def greater_than_5(x):\n",
    "    return x > 5"
   ]
  }
 ],
 "metadata": {
  "kernelspec": {
   "display_name": "Python 3 (ipykernel)",
   "language": "python",
   "name": "python3"
  },
  "language_info": {
   "codemirror_mode": {
    "name": "ipython",
    "version": 3
   },
   "file_extension": ".py",
   "mimetype": "text/x-python",
   "name": "python",
   "nbconvert_exporter": "python",
   "pygments_lexer": "ipython3",
   "version": "3.8.12"
  },
  "toc": {
   "base_numbering": 1,
   "nav_menu": {},
   "number_sections": true,
   "sideBar": true,
   "skip_h1_title": false,
   "title_cell": "Table of Contents",
   "title_sidebar": "Contents",
   "toc_cell": false,
   "toc_position": {},
   "toc_section_display": true,
   "toc_window_display": false
  }
 },
 "nbformat": 4,
 "nbformat_minor": 5
}
